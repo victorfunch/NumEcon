{
 "cells": [
  {
   "cell_type": "markdown",
   "metadata": {},
   "source": [
    "# Problem set 5: Writing your own algorithms"
   ]
  },
  {
   "cell_type": "code",
   "execution_count": 1,
   "metadata": {},
   "outputs": [],
   "source": [
    "import math"
   ]
  },
  {
   "cell_type": "markdown",
   "metadata": {},
   "source": [
    "# Factorial"
   ]
  },
  {
   "cell_type": "markdown",
   "metadata": {},
   "source": [
    "Remember that the factorial of $n$ is\n",
    "\n",
    "$$\n",
    "n\\cdot(n-1)\\cdot(n-2)\\cdot...\\cdot 1\n",
    "$$\n",
    "\n",
    "**Problem:** Correct the following function so that it returns the factorial of n using *functional recursion*."
   ]
  },
  {
   "cell_type": "markdown",
   "metadata": {},
   "source": [
    "**Answer:**"
   ]
  },
  {
   "cell_type": "code",
   "execution_count": 2,
   "metadata": {},
   "outputs": [
    {
     "name": "stdout",
     "output_type": "stream",
     "text": [
      "the factorial of 1 is 1\n",
      "the factorial of 2 is 2\n",
      "the factorial of 3 is 6\n",
      "the factorial of 4 is 24\n",
      "the factorial of 5 is 120\n"
     ]
    }
   ],
   "source": [
    "def factorial(n):\n",
    "    if n == 1:\n",
    "        return 1\n",
    "    else:\n",
    "        return n*factorial(n-1) # Using functional recursion to call itself\n",
    "    \n",
    "for n in [1,2,3,4,5]:\n",
    "    y = factorial(n)\n",
    "    print(f'the factorial of {n} is {y}')\n",
    "    assert(y == math.factorial(n))"
   ]
  },
  {
   "cell_type": "markdown",
   "metadata": {},
   "source": [
    "# Descending bubble sort"
   ]
  },
  {
   "cell_type": "markdown",
   "metadata": {},
   "source": [
    "**Problem:** Sort a list of numbers in-place descending (from high to low).\n",
    "\n",
    "**Inputs:** List of numbers.\n",
    "\n",
    "**Outputs:** None."
   ]
  },
  {
   "cell_type": "markdown",
   "metadata": {},
   "source": [
    "**Answer:**"
   ]
  },
  {
   "cell_type": "markdown",
   "metadata": {},
   "source": [
    "What this algorithm does is essentially just looking through the k elements in the list and moving the smallest element to the back. Then it looks throuhg the k-1 elements and move the smallest element to the second last positon.\n",
    "\n",
    "Ps. recall the illustration from the lectures"
   ]
  },
  {
   "cell_type": "code",
   "execution_count": 13,
   "metadata": {},
   "outputs": [
    {
     "name": "stdout",
     "output_type": "stream",
     "text": [
      "[54, 26, 93, 17, 77, 31, 44, 55, 20], k: 8, i: 0\n",
      "[54, 26, 93, 17, 77, 31, 44, 55, 20], k: 8, i: 1\n",
      "93 swapped with 26\n",
      "[54, 93, 26, 17, 77, 31, 44, 55, 20], k: 8, i: 2\n",
      "[54, 93, 26, 17, 77, 31, 44, 55, 20], k: 8, i: 3\n",
      "77 swapped with 17\n",
      "[54, 93, 26, 77, 17, 31, 44, 55, 20], k: 8, i: 4\n",
      "31 swapped with 17\n",
      "[54, 93, 26, 77, 31, 17, 44, 55, 20], k: 8, i: 5\n",
      "44 swapped with 17\n",
      "[54, 93, 26, 77, 31, 44, 17, 55, 20], k: 8, i: 6\n",
      "55 swapped with 17\n",
      "[54, 93, 26, 77, 31, 44, 55, 17, 20], k: 8, i: 7\n",
      "20 swapped with 17\n",
      "Status on list: [54, 93, 26, 77, 31, 44, 55, 20, 17]\n",
      "\n",
      "\n",
      "[54, 93, 26, 77, 31, 44, 55, 20, 17], k: 7, i: 0\n",
      "93 swapped with 54\n",
      "[93, 54, 26, 77, 31, 44, 55, 20, 17], k: 7, i: 1\n",
      "[93, 54, 26, 77, 31, 44, 55, 20, 17], k: 7, i: 2\n",
      "77 swapped with 26\n",
      "[93, 54, 77, 26, 31, 44, 55, 20, 17], k: 7, i: 3\n",
      "31 swapped with 26\n",
      "[93, 54, 77, 31, 26, 44, 55, 20, 17], k: 7, i: 4\n",
      "44 swapped with 26\n",
      "[93, 54, 77, 31, 44, 26, 55, 20, 17], k: 7, i: 5\n",
      "55 swapped with 26\n",
      "[93, 54, 77, 31, 44, 55, 26, 20, 17], k: 7, i: 6\n",
      "Status on list: [93, 54, 77, 31, 44, 55, 26, 20, 17]\n",
      "\n",
      "\n",
      "[93, 54, 77, 31, 44, 55, 26, 20, 17], k: 6, i: 0\n",
      "[93, 54, 77, 31, 44, 55, 26, 20, 17], k: 6, i: 1\n",
      "77 swapped with 54\n",
      "[93, 77, 54, 31, 44, 55, 26, 20, 17], k: 6, i: 2\n",
      "[93, 77, 54, 31, 44, 55, 26, 20, 17], k: 6, i: 3\n",
      "44 swapped with 31\n",
      "[93, 77, 54, 44, 31, 55, 26, 20, 17], k: 6, i: 4\n",
      "55 swapped with 31\n",
      "[93, 77, 54, 44, 55, 31, 26, 20, 17], k: 6, i: 5\n",
      "Status on list: [93, 77, 54, 44, 55, 31, 26, 20, 17]\n",
      "\n",
      "\n",
      "[93, 77, 54, 44, 55, 31, 26, 20, 17], k: 5, i: 0\n",
      "[93, 77, 54, 44, 55, 31, 26, 20, 17], k: 5, i: 1\n",
      "[93, 77, 54, 44, 55, 31, 26, 20, 17], k: 5, i: 2\n",
      "[93, 77, 54, 44, 55, 31, 26, 20, 17], k: 5, i: 3\n",
      "55 swapped with 44\n",
      "[93, 77, 54, 55, 44, 31, 26, 20, 17], k: 5, i: 4\n",
      "Status on list: [93, 77, 54, 55, 44, 31, 26, 20, 17]\n",
      "\n",
      "\n",
      "[93, 77, 54, 55, 44, 31, 26, 20, 17], k: 4, i: 0\n",
      "[93, 77, 54, 55, 44, 31, 26, 20, 17], k: 4, i: 1\n",
      "[93, 77, 54, 55, 44, 31, 26, 20, 17], k: 4, i: 2\n",
      "55 swapped with 54\n",
      "[93, 77, 55, 54, 44, 31, 26, 20, 17], k: 4, i: 3\n",
      "Status on list: [93, 77, 55, 54, 44, 31, 26, 20, 17]\n",
      "\n",
      "\n",
      "[93, 77, 55, 54, 44, 31, 26, 20, 17], k: 3, i: 0\n",
      "[93, 77, 55, 54, 44, 31, 26, 20, 17], k: 3, i: 1\n",
      "[93, 77, 55, 54, 44, 31, 26, 20, 17], k: 3, i: 2\n",
      "Status on list: [93, 77, 55, 54, 44, 31, 26, 20, 17]\n",
      "\n",
      "\n",
      "[93, 77, 55, 54, 44, 31, 26, 20, 17], k: 2, i: 0\n",
      "[93, 77, 55, 54, 44, 31, 26, 20, 17], k: 2, i: 1\n",
      "Status on list: [93, 77, 55, 54, 44, 31, 26, 20, 17]\n",
      "\n",
      "\n",
      "[93, 77, 55, 54, 44, 31, 26, 20, 17], k: 1, i: 0\n",
      "Status on list: [93, 77, 55, 54, 44, 31, 26, 20, 17]\n",
      "\n",
      "\n",
      "sorted [93, 77, 55, 54, 44, 31, 26, 20, 17]\n"
     ]
    }
   ],
   "source": [
    "L = [54, 26, 93, 17, 77, 31, 44, 55, 20] # test list\n",
    "\n",
    "def swap(L,i,j):\n",
    "    temp = L[i] # save value at i\n",
    "    L[i] = L[j] # overwrite value at i with value at j\n",
    "    L[j] = temp # write original value at i to value at j\n",
    "    \n",
    "def bubble_sort(L):   \n",
    "    #for k in range(len(L)-1,0,-1) equals\n",
    "    for k in reversed(range(1, len(L))):\n",
    "        for i in range(k):\n",
    "            print(f'{L}, k: {k}, i: {i}')\n",
    "            if L[i] < L[i+1]:\n",
    "                swap(L,i,i+1)\n",
    "                print(f'{L[i]} swapped with {L[i+1]}')\n",
    "        print(f'Status on list: {L}\\n\\n')\n",
    "        \n",
    "                \n",
    "bubble_sort(L)\n",
    "print('sorted',L)"
   ]
  },
  {
   "cell_type": "markdown",
   "metadata": {},
   "source": [
    "# Linear search for index"
   ]
  },
  {
   "cell_type": "markdown",
   "metadata": {},
   "source": [
    "**Problem:** Consider a number `x` and a sorted list of numbers `L`. Assume `L[0] <= x < L[-1]`. Find the index `i` such that `L[i] <= x < L[i+1]` using a linear search.\n",
    "\n",
    "**Inputs:** A sorted list of numbers `L` and a number `x`.\n",
    "    \n",
    "**Outputs:** Integer.\n",
    "\n",
    "**Answer:**"
   ]
  },
  {
   "cell_type": "code",
   "execution_count": 23,
   "metadata": {},
   "outputs": [],
   "source": [
    "# Given a value, x, our function looks through the list and return the index where the value of the list is equal to x or where it fits in between to values"
   ]
  },
  {
   "cell_type": "code",
   "execution_count": 20,
   "metadata": {},
   "outputs": [
    {
     "name": "stdout",
     "output_type": "stream",
     "text": [
      "3 gives the index 2\n",
      "7 gives the index 2\n",
      "13 gives the index 4\n",
      "18 gives the index 5\n",
      "32 gives the index 7\n"
     ]
    }
   ],
   "source": [
    "L = [0, 1, 2, 8, 13, 17, 19, 32, 42] # test list\n",
    "\n",
    "def linear_search(L,x):\n",
    "    \n",
    "    # Initiate algorithm\n",
    "    i = 0\n",
    "    N = len(L)\n",
    "    found = False\n",
    "\n",
    "    # While index is not the last in the list and we haven't found the index we are looking for\n",
    "    while i < N-1 and not found:\n",
    "        # If what we are searching for is equal to or in between to indexes\n",
    "        if x >= L[i] and x < L[i+1]:\n",
    "            found = True # Update found\n",
    "        else:\n",
    "            i += 1 # Else increment, and continue throught the list\n",
    "\n",
    "    # Return the index we are looking for\n",
    "    return i\n",
    "\n",
    "# Test\n",
    "for x in [3,7,13,18,32]:\n",
    "    i = linear_search(L,x)\n",
    "    print(f'{x} gives the index {i}')\n",
    "    assert(x >= L[i] and x < L[i+1]),(x,i,L[i])"
   ]
  },
  {
   "cell_type": "markdown",
   "metadata": {},
   "source": [
    "# Bisection"
   ]
  },
  {
   "cell_type": "markdown",
   "metadata": {},
   "source": [
    "**Problem:** Find an (apporximate) solution to $f(x) = 0$ in the interval $[a,b]$ where $f(a)f(b) < 0$ (i.e. one is positive and the other is negative). \n",
    "\n",
    "> If $f$ is a *continuous* function then the intermediate value theorem ensures that a solution exists.\n",
    "\n",
    "**Inputs:** Function $f$, float interval $[a,b]$, float tolerance $\\epsilon > 0$.\n",
    "\n",
    "**Outputs:** Float.\n",
    "\n",
    "**Algorithm:** `bisection()`\n",
    "\n",
    "1. Set $a_0 = a$ and $b_0 = b$.\n",
    "\n",
    "2. Compute $f(m_0)$ where $m_0 = (a_0 + b_0)/2$ is the midpoint\n",
    "\n",
    "3. Determine the next sub-interval $[a_1,b_1]$:\n",
    "\n",
    "  i. If $f(a_0)f(m_0) < 0$ then $a_1 = a_0$ and $b_1 = m_0$\n",
    "\n",
    "  ii. If $f(m_0)f(b_0) < 0$ then $a_1 = m_0$ and $b_1 = b_0$\n",
    "\n",
    "4. Repeat step 2 and step 3 until $|f(m_n)| < \\epsilon$"
   ]
  },
  {
   "cell_type": "markdown",
   "metadata": {},
   "source": [
    "**Answer:**"
   ]
  },
  {
   "cell_type": "code",
   "execution_count": 24,
   "metadata": {},
   "outputs": [
    {
     "name": "stdout",
     "output_type": "stream",
     "text": [
      "result is 0.810 with f(0.810) = -0.0000000009277749\n"
     ]
    }
   ],
   "source": [
    "f = lambda x: (2.1*x-1.7)*(x-3.3) # Test function\n",
    "\n",
    "def bisection(f,a,b,tol=1e-8):\n",
    "    \"\"\" bisection\n",
    "    \n",
    "    Solve equation f(x) = 0 for a <= x <= b.\n",
    "    \n",
    "    Args:\n",
    "    \n",
    "        f (function): function\n",
    "        a (float): left bound\n",
    "        b (float): right bound\n",
    "        tol (float): tolerance on solution\n",
    "        \n",
    "    Returns:\n",
    "    \n",
    "    \"\"\"\n",
    "    \n",
    "    ## step 0: test inputs\n",
    "    if f(a)*f(b) >= 0:\n",
    "        print(\"bisection method fails.\")\n",
    "        return None\n",
    "    \n",
    "    ## step 1: initialize\n",
    "    a_n = a\n",
    "    b_n = b\n",
    "    \n",
    "    ## step 2-4:\n",
    "    while True:\n",
    "        \n",
    "        ## step 2: midpoint and associated value\n",
    "        m_n = (a_n+b_n)/2 # Midpoint\n",
    "        f_m_n = f(m_n) # Function value\n",
    "        \n",
    "        ## step 3: determine sub-interval\n",
    "        # if f(m_n) aldready = 0\n",
    "        if abs(f_m_n) < tol:\n",
    "            return m_n\n",
    "        \n",
    "        # 3.i - update values\n",
    "        elif f(a_n)*f_m_n < 0:\n",
    "            a_n = a_n\n",
    "            b_n = m_n\n",
    "        \n",
    "        # 3.ii - update values\n",
    "        elif f(b_n)*f_m_n < 0:\n",
    "            a_n = m_n\n",
    "            b_n = b_n\n",
    "            \n",
    "        else:\n",
    "            print(\"bisection method fails.\")\n",
    "            return None\n",
    "        \n",
    "    #return (a_n + b_n)/2 # unnecesary \n",
    "    \n",
    "result = bisection(f,0,1,1e-8)\n",
    "print(f'result is {result:.3f} with f({result:.3f}) = {f(result):.16f}')"
   ]
  },
  {
   "cell_type": "markdown",
   "metadata": {},
   "source": [
    "# Find prime numbers (hard)"
   ]
  },
  {
   "cell_type": "markdown",
   "metadata": {},
   "source": [
    "**Goal:** Implement a function in Python for the sieve of Eratosthenes.\n",
    "\n",
    "The **sieve of Eratosthenes** is a simple algorithm for finding all prime numbers up to a specified integer. It was created by the ancient Greek mathematician Eratosthenes. The algorithm to find all the prime numbers less than or equal to a given integer $n$.\n",
    "\n",
    "**Algorithm:** `sieve_()`\n",
    "\n",
    "1. Create a list of integers from $2$ to $n$: $2, 3, 4, ..., n$ (all potentially primes)\n",
    "\n",
    "    `primes = list(range(2,n+1))`\n",
    "\n",
    "2. Start with a counter $i$ set to $2$, i.e. the first prime number\n",
    "\n",
    "3. Starting from $i+i$, count up by $i$ and remove those numbers from the list, i.e. $2i$, $3i$, $4i$ etc.\n",
    "\n",
    "    `primes.remove(i)`\n",
    "    \n",
    "4. Find the first number of the list following $i$. This is the next prime number.\n",
    "\n",
    "5. Set $i$ to the number found in the previous step.\n",
    "\n",
    "6. Repeat steps 3-5 until $i$ is greater than $\\sqrt {n}$.\n",
    "7. All the numbers, which are still in the list, are prime numbers."
   ]
  },
  {
   "cell_type": "markdown",
   "metadata": {},
   "source": [
    "**A more detailed explanation:** See this [video](https://www.youtube.com/watch?v=klcIklsWzrY&feature=youtu.be)"
   ]
  },
  {
   "cell_type": "markdown",
   "metadata": {},
   "source": [
    "**Answer:**"
   ]
  },
  {
   "cell_type": "code",
   "execution_count": 24,
   "metadata": {},
   "outputs": [
    {
     "name": "stdout",
     "output_type": "stream",
     "text": [
      "primes from 2 to 100: [2, 3, 5, 7, 11, 13, 17, 19, 23, 29, 31, 37, 41, 43, 47, 53, 59, 61, 67, 71, 73, 79, 83, 89, 97]\n"
     ]
    }
   ],
   "source": [
    "def sieve(n):\n",
    "    \"\"\" sieve of Eratosthenes\n",
    "    \n",
    "    Return all primes between 2 and n.\n",
    "    \n",
    "    Args:\n",
    "    \n",
    "        n (integer): maximum number to consider\n",
    "    \n",
    "    \"\"\"\n",
    "    \n",
    "    # a. step 1: create list of potential primes\n",
    "    primes = list(range(2,n+1))\n",
    "    \n",
    "    # b. step 2: initialize i\n",
    "    index = 0\n",
    "    i = primes[index]\n",
    "    \n",
    "    # c. step 3-6\n",
    "    # if i is larger we have found all primes\n",
    "    while i < math.sqrt(n):\n",
    "            \n",
    "        # step 3: remove\n",
    "        # removeing all those that are multiples of i i.e. not primes\n",
    "        k = i\n",
    "        while i <= n:\n",
    "            i += k\n",
    "            if i in primes:\n",
    "                primes.remove(i)\n",
    "             \n",
    "        # step 4: next number\n",
    "        index += 1\n",
    "        \n",
    "        # step 5: set i\n",
    "        i = primes[index]\n",
    "        \n",
    "    return primes\n",
    "\n",
    "print('primes from 2 to 100:',sieve(100))"
   ]
  },
  {
   "cell_type": "markdown",
   "metadata": {},
   "source": [
    "# More Problems"
   ]
  },
  {
   "cell_type": "markdown",
   "metadata": {},
   "source": [
    "See [Project Euler](https://projecteuler.net/about)."
   ]
  }
 ],
 "metadata": {
  "kernelspec": {
   "display_name": "Python 3",
   "language": "python",
   "name": "python3"
  },
  "language_info": {
   "codemirror_mode": {
    "name": "ipython",
    "version": 3
   },
   "file_extension": ".py",
   "mimetype": "text/x-python",
   "name": "python",
   "nbconvert_exporter": "python",
   "pygments_lexer": "ipython3",
   "version": "3.8.5"
  },
  "toc-autonumbering": true
 },
 "nbformat": 4,
 "nbformat_minor": 4
}
