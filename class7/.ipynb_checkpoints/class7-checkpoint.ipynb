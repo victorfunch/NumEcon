{
 "cells": [
  {
   "cell_type": "markdown",
   "id": "warming-forwarding",
   "metadata": {
    "slideshow": {
     "slide_type": "slide"
    }
   },
   "source": [
    "<img src=\"ku_logo_uk_v.png\" alt=\"drawing\" width=\"130\" style=\"float:right\"/>\n",
    "\n",
    "#  <p style=\"text-align: center;\"><span style=\"color:#2c061f\"> Class 7, Problem Set 3 </span></p>\n",
    "\n",
    "<br>\n",
    "\n",
    "## <span style=\"color:#374045\"> Introduction to Programming and Numerical Analysis </span>\n"
   ]
  },
  {
   "cell_type": "markdown",
   "id": "pleased-hostel",
   "metadata": {
    "slideshow": {
     "slide_type": "slide"
    }
   },
   "source": [
    "<img src=\"ku_logo_uk_v.png\" alt=\"drawing\" width=\"130\" style=\"float:right\"/>\n",
    "\n",
    "## <p style=\"text-align: center;\">Deadline: 27/3 </p> "
   ]
  },
  {
   "cell_type": "markdown",
   "id": "66679874",
   "metadata": {
    "slideshow": {
     "slide_type": "slide"
    }
   },
   "source": [
    "<img src=\"ku_logo_uk_v.png\" alt=\"drawing\" width=\"130\" style=\"float:right\"/>\n",
    "\n",
    "## <p style=\"text-align: center;\"> Plan for today </p>\n",
    "<br>\n",
    "\n",
    "1. pandas\n",
    "    * The module for data analysis\n",
    "2. Work on PS3\n",
    "3. (Questions about the Inaugural Project)"
   ]
  },
  {
   "cell_type": "markdown",
   "id": "5e87f69e",
   "metadata": {
    "slideshow": {
     "slide_type": "slide"
    }
   },
   "source": [
    "<img src=\"ku_logo_uk_v.png\" alt=\"drawing\" width=\"130\" style=\"float:right\"/>\n",
    "\n",
    "## <p style=\"text-align: center;\"> pandas </p>\n",
    "\n",
    "<br>\n",
    "\n",
    "\"*`pandas` is an open source, BSD-licensed library providing high-performance, easy-to-use data structures and data analysis tools for the Python programming language.*\"\n",
    "\n",
    "[Extra help can be found here](https://pandas.pydata.org/docs/getting_started/index.html#getting-started)"
   ]
  },
  {
   "cell_type": "markdown",
   "id": "75dcdade",
   "metadata": {
    "slideshow": {
     "slide_type": "slide"
    }
   },
   "source": [
    "<img src=\"ku_logo_uk_v.png\" alt=\"drawing\" width=\"130\" style=\"float:right\"/>\n",
    "\n",
    "## <p style=\"text-align: center;\"> pandas </p>\n",
    "\n",
    "<br>\n",
    "\n",
    "When working with data we will be working with pandas' DataFrame: \n",
    "\n",
    "$\\rightarrow$ \"*Two-dimensional, size-mutable, potentially heterogeneous tabular data\".*\n",
    "\n",
    "   * \"Classic\" dataset\n",
    "   * A class in python with many methods!"
   ]
  },
  {
   "cell_type": "markdown",
   "id": "190edf5b",
   "metadata": {
    "slideshow": {
     "slide_type": "slide"
    }
   },
   "source": [
    "<img src=\"ku_logo_uk_v.png\" alt=\"drawing\" width=\"130\" style=\"float:right\"/>\n",
    "\n",
    "## <p style=\"text-align: center;\"> pandas </p>\n",
    "<br>\n",
    "\n",
    "* What does a DataFrame look like?\n",
    "    * You can read csv, xlsx, sas etc. \n",
    "    * Create DataFrames from dictionaries"
   ]
  },
  {
   "cell_type": "code",
   "execution_count": null,
   "id": "536dc31e",
   "metadata": {
    "slideshow": {
     "slide_type": "slide"
    }
   },
   "outputs": [],
   "source": [
    "# import pandas\n",
    "import pandas as pd\n",
    "\n",
    "# you can read data using the built in method read_csv. For other formats there are read_excel() and so on.\n",
    "data = pd.read_csv('random_txt.txt', sep='\\t')\n",
    "data"
   ]
  },
  {
   "cell_type": "code",
   "execution_count": null,
   "id": "6497fd75",
   "metadata": {
    "slideshow": {
     "slide_type": "slide"
    }
   },
   "outputs": [],
   "source": [
    "# you can use a dict to return a DataFrame\n",
    "# keys are column names and values are lists/arrays i.e., the columns. Hence, must be same lenght\n",
    "data_dict = {'random_integers' : [1, 45, 54, 12498134, 666]\n",
    "            , 'random_strings' : ['Birds are not real', 'forty-five', 'abc', 'Pandas is cool', '9.11 was an inside job']\n",
    "            }\n",
    "\n",
    "data_dict"
   ]
  },
  {
   "cell_type": "code",
   "execution_count": null,
   "id": "a103f2b3",
   "metadata": {
    "slideshow": {
     "slide_type": "slide"
    }
   },
   "outputs": [],
   "source": [
    "# convert the dict to a DataFrame\n",
    "# pd.DataFrame takes a dict as input\n",
    "df = pd.DataFrame(data_dict)\n",
    "\n",
    "print(type(df))\n",
    "\n",
    "# look at the first 5 rows using the head() method\n",
    "df.head(5) # .tail() will give you the last x rows"
   ]
  },
  {
   "cell_type": "markdown",
   "id": "c9e867dd",
   "metadata": {
    "slideshow": {
     "slide_type": "slide"
    }
   },
   "source": [
    "<img src=\"ku_logo_uk_v.png\" alt=\"drawing\" width=\"130\" style=\"float:right\"/>\n",
    "\n",
    "## <p style=\"text-align: center;\"> pandas </p>\n",
    "<br>\n",
    "\n",
    "* Now we know how create data frames - how do we wrangle it? Lets go through som basics\n",
    "    * Accesing/creating columns\n",
    "    * Subsetting DataFrames"
   ]
  },
  {
   "cell_type": "code",
   "execution_count": null,
   "id": "aeaa677b",
   "metadata": {
    "slideshow": {
     "slide_type": "slide"
    }
   },
   "outputs": [],
   "source": [
    "# you can acces columns in many ways\n",
    "#df['random_strings']\n",
    "#df.random_strings\n",
    "#df.loc[:,'random_strings']\n",
    "#df.iloc[:,1]"
   ]
  },
  {
   "cell_type": "code",
   "execution_count": null,
   "id": "ea2a5758",
   "metadata": {
    "slideshow": {
     "slide_type": "slide"
    }
   },
   "outputs": [],
   "source": [
    "# add new columns like DataFrame['Column name'] = array/list of columns values\n",
    "df['new_column'] = df['random_integers']/2 # math is allowed\n",
    "df['new_column_from_list'] = [int(i*2) for i in df.new_column] # lists can be added as columns\n",
    "df.head()"
   ]
  },
  {
   "cell_type": "code",
   "execution_count": null,
   "id": "0d0820d4",
   "metadata": {
    "slideshow": {
     "slide_type": "slide"
    }
   },
   "outputs": [],
   "source": [
    "# Subseting DataFrames 101\n",
    "# create a a boolean array from some condition you wish to apply\n",
    "boolean_array = df['random_integers'] > 100\n",
    "print(boolean_array)\n",
    "\n",
    "# use the .loc[] method where you subset all indeces on your condition, and in this case pick out 1 variable\n",
    "# want all variables? pass : instead of ['random_strings']\n",
    "df_new = df.loc[boolean_array, ['random_strings']]\n",
    "df_new"
   ]
  },
  {
   "cell_type": "code",
   "execution_count": null,
   "id": "778d4977",
   "metadata": {
    "slideshow": {
     "slide_type": "slide"
    }
   },
   "outputs": [],
   "source": [
    "# Subseting DataFrames 101\n",
    "# pandas is very flexible in its syntax - you also can apply the condition directly\n",
    "df_new = df[df.random_integers > 100]\n",
    "# you can also negate a boolean array\n",
    "#df_new = df[~ (df['random_integers'] > 100)]\n",
    "df_new.head()"
   ]
  },
  {
   "cell_type": "code",
   "execution_count": null,
   "id": "172305c3",
   "metadata": {
    "slideshow": {
     "slide_type": "slide"
    }
   },
   "outputs": [],
   "source": [
    "# Subseting DataFrames 101\n",
    "# applying two conditions at once \n",
    "df[(df.random_integers > 100) & (df.random_integers == 666)]"
   ]
  },
  {
   "cell_type": "code",
   "execution_count": null,
   "id": "565b101b",
   "metadata": {
    "slideshow": {
     "slide_type": "slide"
    }
   },
   "outputs": [],
   "source": [
    "# Subseting DataFrames 101\n",
    "# choosing/dropping columns\n",
    "df_new[['random_strings']]\n",
    "#df_new.drop(columns=['random_integers', 'new_column', 'new_column_list'])\n",
    "#df_new.iloc[:,[1]]\n",
    "df_new.head()"
   ]
  }
 ],
 "metadata": {
  "celltoolbar": "Slideshow",
  "kernelspec": {
   "display_name": "Python 3 (ipykernel)",
   "language": "python",
   "name": "python3"
  },
  "language_info": {
   "codemirror_mode": {
    "name": "ipython",
    "version": 3
   },
   "file_extension": ".py",
   "mimetype": "text/x-python",
   "name": "python",
   "nbconvert_exporter": "python",
   "pygments_lexer": "ipython3",
   "version": "3.9.7"
  }
 },
 "nbformat": 4,
 "nbformat_minor": 5
}
