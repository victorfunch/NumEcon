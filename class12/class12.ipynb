{
 "cells": [
  {
   "cell_type": "markdown",
   "id": "warming-forwarding",
   "metadata": {
    "slideshow": {
     "slide_type": "slide"
    }
   },
   "source": [
    "<img src=\"ku_logo_uk_v.png\" alt=\"drawing\" width=\"130\" style=\"float:right\"/>\n",
    "\n",
    "#  <p style=\"text-align: center;\"><span style=\"color:#2c061f\"> Class 12, Problem Set 7 </span></p>\n",
    "\n",
    "<br>\n",
    "\n",
    "## <span style=\"color:#374045\"> Introduction to Programming and Numerical Analysis </span>\n"
   ]
  },
  {
   "cell_type": "markdown",
   "id": "forty-recycling",
   "metadata": {
    "slideshow": {
     "slide_type": "slide"
    }
   },
   "source": [
    "<img src=\"ku_logo_uk_v.png\" alt=\"drawing\" width=\"130\" style=\"float:right\"/>\n",
    "\n",
    "## <p style=\"text-align: center;\"> Plan for today </p>\n",
    "<br>\n",
    "\n",
    "1. Data project\n",
    "2. Model project\n",
    "3. About Problem Set 7"
   ]
  },
  {
   "cell_type": "markdown",
   "id": "israeli-dragon",
   "metadata": {
    "slideshow": {
     "slide_type": "slide"
    }
   },
   "source": [
    "<img src=\"ku_logo_uk_v.png\" alt=\"drawing\" width=\"130\" style=\"float:right\"/>\n",
    "\n",
    "## <p style=\"text-align: center;\"> Data project</p>\n",
    "<br>\n",
    "\n",
    "* Re-submission on May 1st at 23:59\n",
    "* Remember it's a portfolio exam: Part 1 and Part 2 weighs respectively 40% and 60% in the final pass/fail grade\n",
    "* Minimum requirements:\n",
    "    * Load data\n",
    "    * Merge\n",
    "    * Calculate\n",
    "    * Vizualise\n",
    "    * Folder structure\n",
    "    * Documentation\n",
    "* Passing guarantee:\n",
    "    * Clear motivation\n",
    "    * Concise conclusion\n",
    "    * Efficient code\n",
    "    * Tidy notebook"
   ]
  },
  {
   "cell_type": "markdown",
   "id": "rural-apartment",
   "metadata": {
    "slideshow": {
     "slide_type": "slide"
    }
   },
   "source": [
    "<img src=\"ku_logo_uk_v.png\" alt=\"drawing\" width=\"130\" style=\"float:right\"/>\n",
    "\n",
    "## <p style=\"text-align: center;\"> Model project </p>\n",
    "<br>\n",
    "\n",
    "* The assignment is live at the [NumEcon website](https://nbviewer.jupyter.org/github/NumEconCopenhagen/lectures-2021/blob/master/projects/ModelProject.pdf)\n",
    "* The next two Tuesdays you will be working on the project\n",
    "* Remember:\n",
    "    * Explanatory markdown\n",
    "    * Docstrings and comments\n",
    "    * Don't repeat yourselves\n",
    "    * Thoughtful plotting\n",
    "    * **RESTART KERNEL AND RUN ALL CELLS**"
   ]
  },
  {
   "cell_type": "markdown",
   "id": "surprising-requirement",
   "metadata": {
    "slideshow": {
     "slide_type": "slide"
    }
   },
   "source": [
    "<img src=\"ku_logo_uk_v.png\" alt=\"drawing\" width=\"130\" style=\"float:right\"/>\n",
    "\n",
    "## <p style=\"text-align: center;\"> Model project </p>\n",
    "<br>\n",
    "\n",
    "Four requirements:\n",
    "1. Describe an algorithm on how to solve a simple economic model (L09, L10)\n",
    "    * How is it done?\n",
    "2. Solve (and perhaps simulate) a simple economic model.\n",
    "    * Apply the tools you have learned (SciPy, linalg etc.)\n",
    "3. Visualize how the solution changes across parametrizations. This is an important task.\n",
    "    * E.g. interactive plotting where you change a key parameter\n",
    "4. Analyze one or more extensions of the baseline model.\n",
    "    * E.g. expanding OLG with a pension system, from a closed to an open economy etc."
   ]
  },
  {
   "cell_type": "markdown",
   "id": "wrapped-lighter",
   "metadata": {
    "slideshow": {
     "slide_type": "slide"
    }
   },
   "source": [
    "<img src=\"ku_logo_uk_v.png\" alt=\"drawing\" width=\"130\" style=\"float:right\"/>\n",
    "\n",
    "## <p style=\"text-align: center;\"> Problem Set 7</p>\n",
    "<br>\n",
    "\n",
    "This is the last problem set! \n",
    "* The culmination point\n",
    "* It draws upon all the Python syntax you've learned and is the essence of numerical optimization\n",
    "* It's long! What should you focus on?\n"
   ]
  },
  {
   "cell_type": "markdown",
   "id": "organized-laser",
   "metadata": {
    "slideshow": {
     "slide_type": "slide"
    }
   },
   "source": [
    "<img src=\"ku_logo_uk_v.png\" alt=\"drawing\" width=\"130\" style=\"float:right\"/>\n",
    "\n",
    "## <p style=\"text-align: center;\"> Problem Set 7</p>\n",
    "<br>\n",
    "\n",
    "Optimization Problem I\n",
    "* Use the functions and cruise through\n",
    "* Optimization can be quicker with a gradient and hessian\n",
    "\n",
    "Optimization Problem II\n",
    "* More than one minimum and the significance of initial guesses\n",
    "* Take away is that initial guess matters! And if you can plot your objective, do it"
   ]
  },
  {
   "cell_type": "markdown",
   "id": "stunning-choir",
   "metadata": {
    "slideshow": {
     "slide_type": "slide"
    }
   },
   "source": [
    "<img src=\"ku_logo_uk_v.png\" alt=\"drawing\" width=\"130\" style=\"float:right\"/>\n",
    "\n",
    "## <p style=\"text-align: center;\"> Problem Set 7</p>\n",
    "<br>\n",
    "\n",
    "Consumer problem with income risk I\n",
    "* Diffcult problem\n",
    "* Focus on this - you might get something very similar at the exam (2020, 2021)\n",
    "* Find inspirition in the lecture notebook\n",
    "\n",
    "Consumer problem with income risk II\n",
    "* If you have time\n"
   ]
  },
  {
   "cell_type": "markdown",
   "id": "super-green",
   "metadata": {
    "slideshow": {
     "slide_type": "slide"
    }
   },
   "source": [
    "**Goal**: Find optimal consumption\n",
    "\n",
    "In the **second period** it gets utility from consumption and leaving a bequest (warm glow) and the household solves:\n",
    "\n",
    "$$\n",
    "\\begin{aligned}\n",
    "v_{2}(m_{2}) &= \\max_{c_{2}}\\frac{c_{2}^{1-\\rho}}{1-\\rho}+\\nu\\frac{(m_{2}-c_{2}+\\kappa)^{1-\\rho}}{1-\\rho} \\\\\n",
    " \\text{s.t.} \\\\\n",
    "c_{2} & \\in [0,m_{2}]\n",
    "\\end{aligned}\n",
    "$$"
   ]
  },
  {
   "cell_type": "markdown",
   "id": "sought-style",
   "metadata": {
    "slideshow": {
     "slide_type": "slide"
    }
   },
   "source": [
    "\n",
    "\n",
    "In the **first period**, the household gets utility from consuming and takes into account that it will also live in the next-period, where it receives a stochastic income and the household solves:\n",
    "\n",
    "$$\n",
    "\\begin{aligned}\n",
    "v_{1}(m_{1}) & = \n",
    "\\max_{c_{1}}\\frac{c_{1}^{1-\\rho}}{1-\\rho}+\\beta\\mathbb{E}_{1}\\left[v_2(m_2)\\right] \\\\\n",
    "\\text{s.t.} \\\\\n",
    "m_2 &= (1+r)(m_{1}-c_{1})+y_{2} \\\\\n",
    "y_{2} &= \\begin{cases}\n",
    "1-\\Delta & \\text{with prob. }0.5\\\\\n",
    "1+\\Delta & \\text{with prob. }0.5 \n",
    "\\end{cases}\\\\\n",
    "c_{1} & \\in [0,m_{1}]\\\\\n",
    "\\end{aligned}\n",
    "$$"
   ]
  },
  {
   "cell_type": "markdown",
   "id": "transparent-donor",
   "metadata": {
    "slideshow": {
     "slide_type": "slide"
    }
   },
   "source": [
    "<img src=\"ku_logo_uk_v.png\" alt=\"drawing\" width=\"130\" style=\"float:right\"/>\n",
    "\n",
    "How is the model solved?\n",
    "* Solve period two for given a grid of $m_2$ to return the function value $v_2$ and the consumption value $c_2$\n",
    "* Use the returned values to interpolate the value function $v_2(m_2)$ and approximate the functional form\n",
    "* Solve period 1 using the interpolater to calculate $v_2(m_2)$ because m2 is constrained\n",
    "\n",
    "<img src=\"opt.png\" alt=\"drawing\" width=\"500\" style=\"float:left\"/>"
   ]
  },
  {
   "cell_type": "markdown",
   "id": "rational-entity",
   "metadata": {
    "slideshow": {
     "slide_type": "slide"
    }
   },
   "source": [
    "<img src=\"ku_logo_uk_v.png\" alt=\"drawing\" width=\"130\" style=\"float:right\"/>\n",
    "\n",
    "## <p style=\"text-align: center;\"> Problem Set 7</p>\n",
    "<br>\n",
    "\n",
    "Let's go!"
   ]
  }
 ],
 "metadata": {
  "celltoolbar": "Slideshow",
  "kernelspec": {
   "display_name": "Python 3",
   "language": "python",
   "name": "python3"
  },
  "language_info": {
   "codemirror_mode": {
    "name": "ipython",
    "version": 3
   },
   "file_extension": ".py",
   "mimetype": "text/x-python",
   "name": "python",
   "nbconvert_exporter": "python",
   "pygments_lexer": "ipython3",
   "version": "3.8.5"
  }
 },
 "nbformat": 4,
 "nbformat_minor": 5
}
