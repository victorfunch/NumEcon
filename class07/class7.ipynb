{
 "cells": [
  {
   "cell_type": "markdown",
   "id": "warming-forwarding",
   "metadata": {
    "slideshow": {
     "slide_type": "slide"
    }
   },
   "source": [
    "<img src=\"ku_logo_uk_v.png\" alt=\"drawing\" width=\"130\" style=\"float:right\"/>\n",
    "\n",
    "#  <p style=\"text-align: center;\"><span style=\"color:#2c061f\"> Class 7, Problem Set 3 </span></p>\n",
    "\n",
    "<br>\n",
    "\n",
    "## <span style=\"color:#374045\"> Introduction to Programming and Numerical Analysis </span>\n"
   ]
  },
  {
   "cell_type": "markdown",
   "id": "pleased-hostel",
   "metadata": {
    "slideshow": {
     "slide_type": "slide"
    }
   },
   "source": [
    "<img src=\"ku_logo_uk_v.png\" alt=\"drawing\" width=\"130\" style=\"float:right\"/>\n",
    "\n",
    "## <p style=\"text-align: center;\">Deadline: 27/3 </p> "
   ]
  },
  {
   "cell_type": "markdown",
   "id": "66679874",
   "metadata": {
    "slideshow": {
     "slide_type": "slide"
    }
   },
   "source": [
    "<img src=\"ku_logo_uk_v.png\" alt=\"drawing\" width=\"130\" style=\"float:right\"/>\n",
    "\n",
    "## <p style=\"text-align: center;\"> Plan for today </p>\n",
    "<br>\n",
    "\n",
    "1. pandas\n",
    "    * The module for data analysis\n",
    "2. Work on PS3\n",
    "3. (Questions about the Inaugural Project)"
   ]
  },
  {
   "cell_type": "markdown",
   "id": "5e87f69e",
   "metadata": {
    "slideshow": {
     "slide_type": "slide"
    }
   },
   "source": [
    "<img src=\"ku_logo_uk_v.png\" alt=\"drawing\" width=\"130\" style=\"float:right\"/>\n",
    "\n",
    "## <p style=\"text-align: center;\"> pandas </p>\n",
    "\n",
    "<br>\n",
    "\n",
    "\"*`pandas` is an open source, BSD-licensed library providing high-performance, easy-to-use data structures and data analysis tools for the Python programming language.*\"\n",
    "\n",
    "[Extra help can be found here](https://pandas.pydata.org/docs/getting_started/index.html#getting-started)"
   ]
  },
  {
   "cell_type": "markdown",
   "id": "75dcdade",
   "metadata": {
    "slideshow": {
     "slide_type": "slide"
    }
   },
   "source": [
    "<img src=\"ku_logo_uk_v.png\" alt=\"drawing\" width=\"130\" style=\"float:right\"/>\n",
    "\n",
    "## <p style=\"text-align: center;\"> pandas </p>\n",
    "\n",
    "<br>\n",
    "\n",
    "When working with data we will be working with pandas' DataFrame: \n",
    "\n",
    "$\\rightarrow$ \"*Two-dimensional, size-mutable, potentially heterogeneous tabular data\".*\n",
    "\n",
    "   * \"Classic\" dataset\n",
    "   * A class in python with many methods!"
   ]
  },
  {
   "cell_type": "markdown",
   "id": "190edf5b",
   "metadata": {
    "slideshow": {
     "slide_type": "slide"
    }
   },
   "source": [
    "<img src=\"ku_logo_uk_v.png\" alt=\"drawing\" width=\"130\" style=\"float:right\"/>\n",
    "\n",
    "## <p style=\"text-align: center;\"> pandas </p>\n",
    "<br>\n",
    "\n",
    "* What does a DataFrame look like?\n",
    "    * You can read csv, xlsx, sas etc. \n",
    "    * Create DataFrames from dictionaries"
   ]
  },
  {
   "cell_type": "code",
   "execution_count": 1,
   "id": "536dc31e",
   "metadata": {
    "slideshow": {
     "slide_type": "slide"
    }
   },
   "outputs": [
    {
     "data": {
      "text/html": [
       "<div>\n",
       "<style scoped>\n",
       "    .dataframe tbody tr th:only-of-type {\n",
       "        vertical-align: middle;\n",
       "    }\n",
       "\n",
       "    .dataframe tbody tr th {\n",
       "        vertical-align: top;\n",
       "    }\n",
       "\n",
       "    .dataframe thead th {\n",
       "        text-align: right;\n",
       "    }\n",
       "</style>\n",
       "<table border=\"1\" class=\"dataframe\">\n",
       "  <thead>\n",
       "    <tr style=\"text-align: right;\">\n",
       "      <th></th>\n",
       "      <th>Strings</th>\n",
       "      <th>Numbers</th>\n",
       "    </tr>\n",
       "  </thead>\n",
       "  <tbody>\n",
       "    <tr>\n",
       "      <th>0</th>\n",
       "      <td>I</td>\n",
       "      <td>1</td>\n",
       "    </tr>\n",
       "    <tr>\n",
       "      <th>1</th>\n",
       "      <td>Love</td>\n",
       "      <td>2</td>\n",
       "    </tr>\n",
       "    <tr>\n",
       "      <th>2</th>\n",
       "      <td>Coding</td>\n",
       "      <td>3</td>\n",
       "    </tr>\n",
       "    <tr>\n",
       "      <th>3</th>\n",
       "      <td>In</td>\n",
       "      <td>5</td>\n",
       "    </tr>\n",
       "    <tr>\n",
       "      <th>4</th>\n",
       "      <td>Jupyter</td>\n",
       "      <td>8</td>\n",
       "    </tr>\n",
       "    <tr>\n",
       "      <th>5</th>\n",
       "      <td>Lab</td>\n",
       "      <td>13</td>\n",
       "    </tr>\n",
       "  </tbody>\n",
       "</table>\n",
       "</div>"
      ],
      "text/plain": [
       "   Strings  Numbers\n",
       "0        I        1\n",
       "1     Love        2\n",
       "2   Coding        3\n",
       "3       In        5\n",
       "4  Jupyter        8\n",
       "5      Lab       13"
      ]
     },
     "execution_count": 1,
     "metadata": {},
     "output_type": "execute_result"
    }
   ],
   "source": [
    "# import pandas\n",
    "import pandas as pd\n",
    "\n",
    "# you can read data using the built in method read_csv. For other formats there are read_excel() and so on.\n",
    "data = pd.read_csv('path/random_txt.txt', sep='\\t')\n",
    "data"
   ]
  },
  {
   "cell_type": "code",
   "execution_count": 2,
   "id": "6497fd75",
   "metadata": {
    "slideshow": {
     "slide_type": "slide"
    }
   },
   "outputs": [
    {
     "data": {
      "text/plain": [
       "{'random_integers': [1, 45, 54, 12498134, 666],\n",
       " 'random_strings': ['Birds are not real',\n",
       "  'forty-five',\n",
       "  'abc',\n",
       "  'Pandas is cool',\n",
       "  '9.11 was an inside job']}"
      ]
     },
     "execution_count": 2,
     "metadata": {},
     "output_type": "execute_result"
    }
   ],
   "source": [
    "# you can use a dict to return a DataFrame\n",
    "# keys are column names and values are lists/arrays i.e., the columns. Hence, must be same lenght\n",
    "data_dict = {'random_integers' : [1, 45, 54, 12498134, 666]\n",
    "            , 'random_strings' : ['Birds are not real', 'forty-five', 'abc', 'Pandas is cool', '9.11 was an inside job']\n",
    "            }\n",
    "\n",
    "data_dict"
   ]
  },
  {
   "cell_type": "code",
   "execution_count": 8,
   "id": "a103f2b3",
   "metadata": {
    "slideshow": {
     "slide_type": "slide"
    }
   },
   "outputs": [
    {
     "name": "stdout",
     "output_type": "stream",
     "text": [
      "<class 'pandas.core.frame.DataFrame'>\n"
     ]
    },
    {
     "data": {
      "text/html": [
       "<div>\n",
       "<style scoped>\n",
       "    .dataframe tbody tr th:only-of-type {\n",
       "        vertical-align: middle;\n",
       "    }\n",
       "\n",
       "    .dataframe tbody tr th {\n",
       "        vertical-align: top;\n",
       "    }\n",
       "\n",
       "    .dataframe thead th {\n",
       "        text-align: right;\n",
       "    }\n",
       "</style>\n",
       "<table border=\"1\" class=\"dataframe\">\n",
       "  <thead>\n",
       "    <tr style=\"text-align: right;\">\n",
       "      <th></th>\n",
       "      <th>random_integers</th>\n",
       "      <th>random_strings</th>\n",
       "    </tr>\n",
       "  </thead>\n",
       "  <tbody>\n",
       "    <tr>\n",
       "      <th>0</th>\n",
       "      <td>1</td>\n",
       "      <td>Birds are not real</td>\n",
       "    </tr>\n",
       "    <tr>\n",
       "      <th>1</th>\n",
       "      <td>45</td>\n",
       "      <td>forty-five</td>\n",
       "    </tr>\n",
       "    <tr>\n",
       "      <th>2</th>\n",
       "      <td>54</td>\n",
       "      <td>abc</td>\n",
       "    </tr>\n",
       "    <tr>\n",
       "      <th>3</th>\n",
       "      <td>12498134</td>\n",
       "      <td>Pandas is cool</td>\n",
       "    </tr>\n",
       "    <tr>\n",
       "      <th>4</th>\n",
       "      <td>666</td>\n",
       "      <td>9.11 was an inside job</td>\n",
       "    </tr>\n",
       "  </tbody>\n",
       "</table>\n",
       "</div>"
      ],
      "text/plain": [
       "   random_integers          random_strings\n",
       "0                1      Birds are not real\n",
       "1               45              forty-five\n",
       "2               54                     abc\n",
       "3         12498134          Pandas is cool\n",
       "4              666  9.11 was an inside job"
      ]
     },
     "execution_count": 8,
     "metadata": {},
     "output_type": "execute_result"
    }
   ],
   "source": [
    "# convert the dict to a DataFrame\n",
    "# pd.DataFrame takes a dict as input\n",
    "df = pd.DataFrame(data_dict)\n",
    "\n",
    "print(type(df))\n",
    "\n",
    "# look at the first 5 rows using the head() method\n",
    "df.head(5) # .tail() will give you the last x rows"
   ]
  },
  {
   "cell_type": "markdown",
   "id": "c9e867dd",
   "metadata": {
    "slideshow": {
     "slide_type": "slide"
    }
   },
   "source": [
    "<img src=\"ku_logo_uk_v.png\" alt=\"drawing\" width=\"130\" style=\"float:right\"/>\n",
    "\n",
    "## <p style=\"text-align: center;\"> pandas </p>\n",
    "<br>\n",
    "\n",
    "* Now we know how create data frames - how do we wrangle it? Lets go through som basics\n",
    "    * Accesing/creating columns\n",
    "    * Subsetting DataFrames"
   ]
  },
  {
   "cell_type": "code",
   "execution_count": 7,
   "id": "aeaa677b",
   "metadata": {
    "slideshow": {
     "slide_type": "slide"
    }
   },
   "outputs": [
    {
     "data": {
      "text/plain": [
       "0        Birds are not real\n",
       "1                forty-five\n",
       "2                       abc\n",
       "3            Pandas is cool\n",
       "4    9.11 was an inside job\n",
       "Name: random_strings, dtype: object"
      ]
     },
     "execution_count": 7,
     "metadata": {},
     "output_type": "execute_result"
    }
   ],
   "source": [
    "# you can acces columns in many ways\n",
    "#df['random_strings'] \n",
    "#df.random_strings\n",
    "#df.loc[:,'random_strings']\n",
    "df.iloc[:,1]"
   ]
  },
  {
   "cell_type": "code",
   "execution_count": 9,
   "id": "ea2a5758",
   "metadata": {
    "slideshow": {
     "slide_type": "slide"
    }
   },
   "outputs": [
    {
     "data": {
      "text/html": [
       "<div>\n",
       "<style scoped>\n",
       "    .dataframe tbody tr th:only-of-type {\n",
       "        vertical-align: middle;\n",
       "    }\n",
       "\n",
       "    .dataframe tbody tr th {\n",
       "        vertical-align: top;\n",
       "    }\n",
       "\n",
       "    .dataframe thead th {\n",
       "        text-align: right;\n",
       "    }\n",
       "</style>\n",
       "<table border=\"1\" class=\"dataframe\">\n",
       "  <thead>\n",
       "    <tr style=\"text-align: right;\">\n",
       "      <th></th>\n",
       "      <th>random_integers</th>\n",
       "      <th>random_strings</th>\n",
       "      <th>new_column</th>\n",
       "      <th>new_column_from_list</th>\n",
       "    </tr>\n",
       "  </thead>\n",
       "  <tbody>\n",
       "    <tr>\n",
       "      <th>0</th>\n",
       "      <td>1</td>\n",
       "      <td>Birds are not real</td>\n",
       "      <td>0.5</td>\n",
       "      <td>1</td>\n",
       "    </tr>\n",
       "    <tr>\n",
       "      <th>1</th>\n",
       "      <td>45</td>\n",
       "      <td>forty-five</td>\n",
       "      <td>22.5</td>\n",
       "      <td>45</td>\n",
       "    </tr>\n",
       "    <tr>\n",
       "      <th>2</th>\n",
       "      <td>54</td>\n",
       "      <td>abc</td>\n",
       "      <td>27.0</td>\n",
       "      <td>54</td>\n",
       "    </tr>\n",
       "    <tr>\n",
       "      <th>3</th>\n",
       "      <td>12498134</td>\n",
       "      <td>Pandas is cool</td>\n",
       "      <td>6249067.0</td>\n",
       "      <td>12498134</td>\n",
       "    </tr>\n",
       "    <tr>\n",
       "      <th>4</th>\n",
       "      <td>666</td>\n",
       "      <td>9.11 was an inside job</td>\n",
       "      <td>333.0</td>\n",
       "      <td>666</td>\n",
       "    </tr>\n",
       "  </tbody>\n",
       "</table>\n",
       "</div>"
      ],
      "text/plain": [
       "   random_integers          random_strings  new_column  new_column_from_list\n",
       "0                1      Birds are not real         0.5                     1\n",
       "1               45              forty-five        22.5                    45\n",
       "2               54                     abc        27.0                    54\n",
       "3         12498134          Pandas is cool   6249067.0              12498134\n",
       "4              666  9.11 was an inside job       333.0                   666"
      ]
     },
     "execution_count": 9,
     "metadata": {},
     "output_type": "execute_result"
    }
   ],
   "source": [
    "# add new columns like DataFrame['Column name'] = array/list of columns values\n",
    "df['new_column'] = df.random_integers/2  # math is allowed\n",
    "df['new_column_from_list'] = [int(i*2) for i in df.new_column] # lists can be added as columns\n",
    "df.head()"
   ]
  },
  {
   "cell_type": "code",
   "execution_count": 11,
   "id": "0d0820d4",
   "metadata": {
    "slideshow": {
     "slide_type": "slide"
    }
   },
   "outputs": [
    {
     "name": "stdout",
     "output_type": "stream",
     "text": [
      "0    False\n",
      "1    False\n",
      "2    False\n",
      "3     True\n",
      "4     True\n",
      "Name: random_integers, dtype: bool\n"
     ]
    },
    {
     "data": {
      "text/html": [
       "<div>\n",
       "<style scoped>\n",
       "    .dataframe tbody tr th:only-of-type {\n",
       "        vertical-align: middle;\n",
       "    }\n",
       "\n",
       "    .dataframe tbody tr th {\n",
       "        vertical-align: top;\n",
       "    }\n",
       "\n",
       "    .dataframe thead th {\n",
       "        text-align: right;\n",
       "    }\n",
       "</style>\n",
       "<table border=\"1\" class=\"dataframe\">\n",
       "  <thead>\n",
       "    <tr style=\"text-align: right;\">\n",
       "      <th></th>\n",
       "      <th>random_strings</th>\n",
       "    </tr>\n",
       "  </thead>\n",
       "  <tbody>\n",
       "    <tr>\n",
       "      <th>3</th>\n",
       "      <td>Pandas is cool</td>\n",
       "    </tr>\n",
       "    <tr>\n",
       "      <th>4</th>\n",
       "      <td>9.11 was an inside job</td>\n",
       "    </tr>\n",
       "  </tbody>\n",
       "</table>\n",
       "</div>"
      ],
      "text/plain": [
       "           random_strings\n",
       "3          Pandas is cool\n",
       "4  9.11 was an inside job"
      ]
     },
     "execution_count": 11,
     "metadata": {},
     "output_type": "execute_result"
    }
   ],
   "source": [
    "# Subseting DataFrames 101\n",
    "# create a a boolean array from some condition you wish to apply\n",
    "boolean_array = df['random_integers'] > 100\n",
    "print(boolean_array)\n",
    "\n",
    "# use the .loc[] method where you subset all indeces on your condition, and in this case pick out 1 variable\n",
    "# want all variables? pass : instead of ['random_strings']\n",
    "df_new = df.loc[boolean_array, ['random_strings']]\n",
    "df_new"
   ]
  },
  {
   "cell_type": "code",
   "execution_count": 19,
   "id": "778d4977",
   "metadata": {
    "slideshow": {
     "slide_type": "slide"
    }
   },
   "outputs": [
    {
     "data": {
      "text/html": [
       "<div>\n",
       "<style scoped>\n",
       "    .dataframe tbody tr th:only-of-type {\n",
       "        vertical-align: middle;\n",
       "    }\n",
       "\n",
       "    .dataframe tbody tr th {\n",
       "        vertical-align: top;\n",
       "    }\n",
       "\n",
       "    .dataframe thead th {\n",
       "        text-align: right;\n",
       "    }\n",
       "</style>\n",
       "<table border=\"1\" class=\"dataframe\">\n",
       "  <thead>\n",
       "    <tr style=\"text-align: right;\">\n",
       "      <th></th>\n",
       "      <th>random_integers</th>\n",
       "      <th>random_strings</th>\n",
       "      <th>new_column</th>\n",
       "      <th>new_column_from_list</th>\n",
       "    </tr>\n",
       "  </thead>\n",
       "  <tbody>\n",
       "    <tr>\n",
       "      <th>3</th>\n",
       "      <td>12498134</td>\n",
       "      <td>Pandas is cool</td>\n",
       "      <td>6249067.0</td>\n",
       "      <td>12498134</td>\n",
       "    </tr>\n",
       "    <tr>\n",
       "      <th>4</th>\n",
       "      <td>666</td>\n",
       "      <td>9.11 was an inside job</td>\n",
       "      <td>333.0</td>\n",
       "      <td>666</td>\n",
       "    </tr>\n",
       "  </tbody>\n",
       "</table>\n",
       "</div>"
      ],
      "text/plain": [
       "   random_integers          random_strings  new_column  new_column_from_list\n",
       "3         12498134          Pandas is cool   6249067.0              12498134\n",
       "4              666  9.11 was an inside job       333.0                   666"
      ]
     },
     "execution_count": 19,
     "metadata": {},
     "output_type": "execute_result"
    }
   ],
   "source": [
    "# Subseting DataFrames 101\n",
    "# pandas is very flexible in its syntax - you also can apply the condition directly\n",
    "df_new = df[df.random_integers > 100]\n",
    "# you can also negate a boolean array\n",
    "#df_new = df[~ (df['random_integers'] > 100)]\n",
    "df_new.head()"
   ]
  },
  {
   "cell_type": "code",
   "execution_count": 14,
   "id": "172305c3",
   "metadata": {
    "slideshow": {
     "slide_type": "slide"
    }
   },
   "outputs": [
    {
     "data": {
      "text/html": [
       "<div>\n",
       "<style scoped>\n",
       "    .dataframe tbody tr th:only-of-type {\n",
       "        vertical-align: middle;\n",
       "    }\n",
       "\n",
       "    .dataframe tbody tr th {\n",
       "        vertical-align: top;\n",
       "    }\n",
       "\n",
       "    .dataframe thead th {\n",
       "        text-align: right;\n",
       "    }\n",
       "</style>\n",
       "<table border=\"1\" class=\"dataframe\">\n",
       "  <thead>\n",
       "    <tr style=\"text-align: right;\">\n",
       "      <th></th>\n",
       "      <th>random_integers</th>\n",
       "      <th>random_strings</th>\n",
       "      <th>new_column</th>\n",
       "      <th>new_column_from_list</th>\n",
       "    </tr>\n",
       "  </thead>\n",
       "  <tbody>\n",
       "    <tr>\n",
       "      <th>4</th>\n",
       "      <td>666</td>\n",
       "      <td>9.11 was an inside job</td>\n",
       "      <td>333.0</td>\n",
       "      <td>666</td>\n",
       "    </tr>\n",
       "  </tbody>\n",
       "</table>\n",
       "</div>"
      ],
      "text/plain": [
       "   random_integers          random_strings  new_column  new_column_from_list\n",
       "4              666  9.11 was an inside job       333.0                   666"
      ]
     },
     "execution_count": 14,
     "metadata": {},
     "output_type": "execute_result"
    }
   ],
   "source": [
    "# Subseting DataFrames 101\n",
    "# applying two conditions at once \n",
    "I = (df.random_integers > 100) & (df.random_integers == 666)\n",
    "df[I]"
   ]
  },
  {
   "cell_type": "code",
   "execution_count": 25,
   "id": "565b101b",
   "metadata": {
    "slideshow": {
     "slide_type": "slide"
    }
   },
   "outputs": [
    {
     "data": {
      "text/html": [
       "<div>\n",
       "<style scoped>\n",
       "    .dataframe tbody tr th:only-of-type {\n",
       "        vertical-align: middle;\n",
       "    }\n",
       "\n",
       "    .dataframe tbody tr th {\n",
       "        vertical-align: top;\n",
       "    }\n",
       "\n",
       "    .dataframe thead th {\n",
       "        text-align: right;\n",
       "    }\n",
       "</style>\n",
       "<table border=\"1\" class=\"dataframe\">\n",
       "  <thead>\n",
       "    <tr style=\"text-align: right;\">\n",
       "      <th></th>\n",
       "      <th>random_strings</th>\n",
       "    </tr>\n",
       "  </thead>\n",
       "  <tbody>\n",
       "    <tr>\n",
       "      <th>3</th>\n",
       "      <td>Pandas is cool</td>\n",
       "    </tr>\n",
       "    <tr>\n",
       "      <th>4</th>\n",
       "      <td>9.11 was an inside job</td>\n",
       "    </tr>\n",
       "  </tbody>\n",
       "</table>\n",
       "</div>"
      ],
      "text/plain": [
       "           random_strings\n",
       "3          Pandas is cool\n",
       "4  9.11 was an inside job"
      ]
     },
     "execution_count": 25,
     "metadata": {},
     "output_type": "execute_result"
    }
   ],
   "source": [
    "# Subseting DataFrames 101\n",
    "# choosing/dropping columns\n",
    "#df_new[['random_strings']]\n",
    "#df_new.drop(columns=['random_integers', 'new_column'])\n",
    "df_new.iloc[:,[1]]\n",
    "#df_new.head()"
   ]
  }
 ],
 "metadata": {
  "celltoolbar": "Slideshow",
  "kernelspec": {
   "display_name": "Python 3",
   "language": "python",
   "name": "python3"
  },
  "language_info": {
   "codemirror_mode": {
    "name": "ipython",
    "version": 3
   },
   "file_extension": ".py",
   "mimetype": "text/x-python",
   "name": "python",
   "nbconvert_exporter": "python",
   "pygments_lexer": "ipython3",
   "version": "3.8.5"
  }
 },
 "nbformat": 4,
 "nbformat_minor": 5
}
