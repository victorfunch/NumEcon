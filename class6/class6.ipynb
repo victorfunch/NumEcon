{
 "cells": [
  {
   "cell_type": "markdown",
   "id": "warming-forwarding",
   "metadata": {
    "slideshow": {
     "slide_type": "slide"
    }
   },
   "source": [
    "<img src=\"ku_logo_uk_v.png\" alt=\"drawing\" width=\"130\" style=\"float:right\"/>\n",
    "\n",
    "#  <p style=\"text-align: center;\"><span style=\"color:#2c061f\"> Class 6, Inuagural Project </span></p>\n",
    "\n",
    "<br>\n",
    "\n",
    "## <span style=\"color:#374045\"> Introduction to Programming and Numerical Analysis </span>\n"
   ]
  },
  {
   "cell_type": "markdown",
   "id": "pleased-hostel",
   "metadata": {
    "slideshow": {
     "slide_type": "slide"
    }
   },
   "source": [
    "<img src=\"ku_logo_uk_v.png\" alt=\"drawing\" width=\"130\" style=\"float:right\"/>\n",
    "\n",
    "## <p style=\"text-align: center;\"> Requirements </p>\n",
    "<br>\n",
    "\n",
    "1. Apply simple numerical solution and simulation methods\n",
    "    * Solve the problem using SciPy\n",
    "2. Structure a code project\n",
    "    * Notebook, .py-files, readme etc.\n",
    "3. Document code\n",
    "    * Document and explain your code using what you learned in lecture 05\n",
    "4. Present results in text form and in figures\n",
    "    * Create nice tables and figures\n",
    "\n",
    "\n",
    "\n",
    "### <p style=\"text-align: center;\">Deadline: 27/3 and not 20/3 </p> "
   ]
  },
  {
   "cell_type": "markdown",
   "id": "5c82c4b5",
   "metadata": {
    "slideshow": {
     "slide_type": "fragment"
    }
   },
   "source": [
    "<img src=\"ku_logo_uk_v.png\" alt=\"drawing\" width=\"130\" style=\"float:right\"/>\n",
    "\n",
    "## <p style=\"text-align: center;\"> General hints</p>\n",
    "\n",
    "<br>\n",
    "\n",
    "**Create Python file for your functions**\n"
   ]
  },
  {
   "cell_type": "code",
   "execution_count": 2,
   "id": "9ff31bcf",
   "metadata": {
    "slideshow": {
     "slide_type": "fragment"
    }
   },
   "outputs": [
    {
     "data": {
      "text/plain": [
       "3.6245047927124707"
      ]
     },
     "execution_count": 2,
     "metadata": {},
     "output_type": "execute_result"
    }
   ],
   "source": [
    "import functions\n",
    "functions.u(1,2,params)"
   ]
  },
  {
   "cell_type": "markdown",
   "id": "91bbde71",
   "metadata": {
    "slideshow": {
     "slide_type": "slide"
    }
   },
   "source": [
    "<img src=\"ku_logo_uk_v.png\" alt=\"drawing\" width=\"130\" style=\"float:right\"/>\n",
    "\n",
    "## <p style=\"text-align: center;\"> General hints</p>\n",
    "\n",
    "<br>\n",
    "\n",
    "**Docstrings: Example**"
   ]
  },
  {
   "cell_type": "markdown",
   "id": "6d081196",
   "metadata": {
    "slideshow": {
     "slide_type": "slide"
    }
   },
   "source": [
    "<img src=\"ku_logo_uk_v.png\" alt=\"drawing\" width=\"130\" style=\"float:right\"/>\n",
    "\n",
    "## <p style=\"text-align: center;\"> General hints</p>\n",
    "\n",
    "<br>\n",
    "\n",
    "Document your code! At the exam you might have forgotten what you did in this project"
   ]
  },
  {
   "cell_type": "code",
   "execution_count": 28,
   "id": "bf7810d3",
   "metadata": {
    "slideshow": {
     "slide_type": "slide"
    }
   },
   "outputs": [
    {
     "name": "stdout",
     "output_type": "stream",
     "text": [
      "u(0.0, 5.0) = 2.0, where (α, β) = (0.3,2)\n",
      "u(0.56, 5.56) = 4.78, where (α, β) = (0.3,2)\n",
      "u(1.11, 6.11) = 5.66, where (α, β) = (0.3,2)\n",
      "u(1.67, 6.67) = 6.4, where (α, β) = (0.3,2)\n",
      "u(2.22, 7.22) = 7.07, where (α, β) = (0.3,2)\n",
      "u(2.78, 7.78) = 7.71, where (α, β) = (0.3,2)\n",
      "u(3.33, 8.33) = 8.33, where (α, β) = (0.3,2)\n",
      "u(3.89, 8.89) = 8.94, where (α, β) = (0.3,2)\n",
      "u(4.44, 9.44) = 9.53, where (α, β) = (0.3,2)\n",
      "u(5.0, 10.0) = 10.12, where (α, β) = (0.3,2)\n"
     ]
    }
   ],
   "source": [
    "# 0. Import packages\n",
    "import numpy as np\n",
    "\n",
    "# 1. Initiliaze vectors of goods and container for utilities\n",
    "x1s = np.linspace(0, 5, 10)\n",
    "x2s = np.linspace(5, 10, 10)\n",
    "utility = np.empty((x1s.shape)) # empty vector with same shape as the vector of goods\n",
    "\n",
    "# 2. Calculate utility for all goods by looping\n",
    "for idx, (x1, x2) in enumerate(zip(x1s, x2s)):\n",
    "    # i. Calculate utility using functions module\n",
    "    temp_utility = functions.u(x1,x2,params)\n",
    "    \n",
    "    # ii. Append utility to empty vector\n",
    "    utility[idx] = temp_utility\n",
    "    \n",
    "    # iii. Print result\n",
    "    print(f'u({np.round(x1,2)}, {np.round(x2,2)}) = {np.round(utility[idx],2)}, where (\\u03B1, \\u03B2) = ({params[\"alpha\"]},{params[\"beta\"]})')"
   ]
  },
  {
   "cell_type": "markdown",
   "id": "1aca9008",
   "metadata": {
    "slideshow": {
     "slide_type": "slide"
    }
   },
   "source": [
    "<img src=\"ku_logo_uk_v.png\" alt=\"drawing\" width=\"130\" style=\"float:right\"/>\n",
    "\n",
    "## <p style=\"text-align: center;\"> General hints</p>\n",
    "\n",
    "<br>\n",
    "\n",
    "Incoporate markdown cells in your project that describes the model, intuition, etc.\n",
    "Remember you do can do equation in markdown using either `$$ math $$`:\n",
    "$$ y_i = \\beta_0 + \\beta_1 x_i + \\epsilon_i $$\n",
    "or `\\begin{align} math \\end{align}`\n",
    "\\begin{align} y_i = \\beta_0 + \\beta_1 x_i + \\epsilon_i \\end{align}\n",
    "\n",
    "Other formatting?\n",
    "* An indent followed by `*` or `1.` creates list\n",
    "    1. list item 1\n",
    "    2. list item 2\n",
    "    * list item 3\n",
    "* `** text **` produces **text**\n",
    "* `*text*` produces *text*\n",
    "* `#` creates a large header, `##` smaller header and so on\n",
    "* Google it!"
   ]
  },
  {
   "cell_type": "markdown",
   "id": "5a3d6286",
   "metadata": {
    "slideshow": {
     "slide_type": "slide"
    }
   },
   "source": [
    "<img src=\"ku_logo_uk_v.png\" alt=\"drawing\" width=\"130\" style=\"float:right\"/>\n",
    "\n",
    "## <p style=\"text-align: center;\"> General hints</p>\n",
    "\n",
    "<br>\n",
    "\n",
    "Scope of variables\n",
    "\n",
    "**Global or local??**"
   ]
  },
  {
   "cell_type": "code",
   "execution_count": 43,
   "id": "c52796f3",
   "metadata": {
    "slideshow": {
     "slide_type": "slide"
    }
   },
   "outputs": [
    {
     "name": "stdout",
     "output_type": "stream",
     "text": [
      "With global: 3\n",
      "Without global: 2\n"
     ]
    }
   ],
   "source": [
    "global_var = 1\n",
    "#local_var = 99\n",
    "\n",
    "def random_function(number, add_global):\n",
    "    local_var = 1\n",
    "    if add_global == True:\n",
    "        return number + local_var + global_var\n",
    "    if add_global == False:\n",
    "        return number + local_var\n",
    "\n",
    "print(f'With global: {random_function(global_var, True)}')\n",
    "print(f'Without global: {random_function(global_var, False)}')\n",
    "#print(local_var)"
   ]
  },
  {
   "cell_type": "markdown",
   "id": "0d3a5f31",
   "metadata": {
    "slideshow": {
     "slide_type": "slide"
    }
   },
   "source": [
    "<img src=\"ku_logo_uk_v.png\" alt=\"drawing\" width=\"130\" style=\"float:right\"/>\n",
    "\n",
    "## <p style=\"text-align: center;\"> If you want to pass read this</p>\n",
    "\n",
    "<br>\n",
    "\n",
    "**ALLWAYS restart your kernel and run all the cells before handing in! This goes for the mandatory assignments along with the exam. It is crucial!**\n",
    "\n",
    "If you have old variables in memory that make your notebook run then i cannot run the notebook afterwards!"
   ]
  },
  {
   "cell_type": "markdown",
   "id": "96b3fdc0",
   "metadata": {
    "slideshow": {
     "slide_type": "slide"
    }
   },
   "source": [
    "<img src=\"ku_logo_uk_v.png\" alt=\"drawing\" width=\"130\" style=\"float:right\"/>\n",
    "\n",
    "## <p style=\"text-align: center;\"> Hints for the project</p>\n",
    "\n",
    "<br>\n",
    "\n",
    "**Store all variables ind a dictionary and let you function take dictionary as input**"
   ]
  },
  {
   "cell_type": "code",
   "execution_count": null,
   "id": "f0b989ff",
   "metadata": {
    "slideshow": {
     "slide_type": "slide"
    }
   },
   "outputs": [],
   "source": [
    "params = {'alpha':0.3\n",
    "          , 'beta':2\n",
    "          , 'phi' : 0.9\n",
    "          , 'epsilon' : 0.05}\n",
    "\n",
    "def u(x1, x2, _dict):\n",
    "    utility = _dict['beta'] + x1**_dict['alpha'] * x2**(1-_dict['alpha'])\n",
    "    return utility\n",
    "\n",
    "print(u(1, 2, params))"
   ]
  }
 ],
 "metadata": {
  "celltoolbar": "Slideshow",
  "kernelspec": {
   "display_name": "Python 3 (ipykernel)",
   "language": "python",
   "name": "python3"
  },
  "language_info": {
   "codemirror_mode": {
    "name": "ipython",
    "version": 3
   },
   "file_extension": ".py",
   "mimetype": "text/x-python",
   "name": "python",
   "nbconvert_exporter": "python",
   "pygments_lexer": "ipython3",
   "version": "3.9.7"
  }
 },
 "nbformat": 4,
 "nbformat_minor": 5
}
