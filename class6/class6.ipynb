{
 "cells": [
  {
   "cell_type": "markdown",
   "id": "warming-forwarding",
   "metadata": {
    "slideshow": {
     "slide_type": "slide"
    }
   },
   "source": [
    "<img src=\"ku_logo_uk_v.png\" alt=\"drawing\" width=\"130\" style=\"float:right\"/>\n",
    "\n",
    "#  <p style=\"text-align: center;\"><span style=\"color:#2c061f\"> Class 6, Inuagural Project </span></p>\n",
    "\n",
    "<br>\n",
    "\n",
    "## <span style=\"color:#374045\"> Introduction to Programming and Numerical Analysis </span>\n"
   ]
  },
  {
   "cell_type": "markdown",
   "id": "champion-commercial",
   "metadata": {
    "slideshow": {
     "slide_type": "slide"
    }
   },
   "source": [
    "<img src=\"ku_logo_uk_v.png\" alt=\"drawing\" width=\"130\" style=\"float:right\"/>\n",
    "\n",
    "## <p style=\"text-align: center;\"> Inaugral Project </p>\n",
    "<br>\n",
    "\n",
    "Remember to download the new version !!!"
   ]
  },
  {
   "cell_type": "markdown",
   "id": "pleased-hostel",
   "metadata": {
    "slideshow": {
     "slide_type": "slide"
    }
   },
   "source": [
    "<img src=\"ku_logo_uk_v.png\" alt=\"drawing\" width=\"130\" style=\"float:right\"/>\n",
    "\n",
    "## <p style=\"text-align: center;\"> Requirements </p>\n",
    "<br>\n",
    "\n",
    "1. Apply simple numerical solution and simulation methods\n",
    "    * Solve the problem using SciPy\n",
    "2. Structure a code project\n",
    "    * Notebook, .py-files, readme etc.\n",
    "3. Document code\n",
    "    * Document and explain your code using what you learned in lecture 05\n",
    "4. Present results in text form and in figures\n",
    "    * Create nice tables and figures\n",
    "\n",
    "\n",
    "\n",
    "### <p style=\"text-align: center;\">Deadline: 27/3 and not 20/3 </p> "
   ]
  },
  {
   "cell_type": "markdown",
   "id": "5c82c4b5",
   "metadata": {
    "slideshow": {
     "slide_type": "slide"
    }
   },
   "source": [
    "<img src=\"ku_logo_uk_v.png\" alt=\"drawing\" width=\"130\" style=\"float:right\"/>\n",
    "\n",
    "## <p style=\"text-align: center;\"> General hints</p>\n",
    "\n",
    "<br>\n",
    "\n",
    "**Create Python file for your functions**\n"
   ]
  },
  {
   "cell_type": "code",
   "execution_count": 1,
   "id": "9ff31bcf",
   "metadata": {
    "slideshow": {
     "slide_type": "fragment"
    }
   },
   "outputs": [
    {
     "data": {
      "text/plain": [
       "1.624504792712471"
      ]
     },
     "execution_count": 1,
     "metadata": {},
     "output_type": "execute_result"
    }
   ],
   "source": [
    "import functions\n",
    "functions.u(1,2,0.3)"
   ]
  },
  {
   "cell_type": "markdown",
   "id": "91bbde71",
   "metadata": {
    "slideshow": {
     "slide_type": "slide"
    }
   },
   "source": [
    "<img src=\"ku_logo_uk_v.png\" alt=\"drawing\" width=\"130\" style=\"float:right\"/>\n",
    "\n",
    "## <p style=\"text-align: center;\"> General hints</p>\n",
    "\n",
    "<br>\n",
    "\n",
    "**Docstrings: Example**"
   ]
  },
  {
   "cell_type": "markdown",
   "id": "6d081196",
   "metadata": {
    "slideshow": {
     "slide_type": "slide"
    }
   },
   "source": [
    "<img src=\"ku_logo_uk_v.png\" alt=\"drawing\" width=\"130\" style=\"float:right\"/>\n",
    "\n",
    "## <p style=\"text-align: center;\"> General hints</p>\n",
    "\n",
    "<br>\n",
    "\n",
    "Document your code! At the exam you might have forgotten what you did in this project"
   ]
  },
  {
   "cell_type": "code",
   "execution_count": null,
   "id": "bf7810d3",
   "metadata": {
    "slideshow": {
     "slide_type": "slide"
    }
   },
   "outputs": [],
   "source": [
    "# 0. Import packages\n",
    "import numpy as np\n",
    "\n",
    "# 1. Initiliaze vectors of goods and container for utilities\n",
    "alpha = 0.3\n",
    "x1s = np.linspace(0, 5, 10)\n",
    "x2s = np.linspace(5, 10, 10)\n",
    "utility = np.empty((x1s.shape)) # empty vector with same shape as the vector of goods\n",
    "\n",
    "# 2. Calculate utility for all goods by looping\n",
    "for idx, (x1, x2) in enumerate(zip(x1s, x2s)):\n",
    "    # i. Calculate utility using functions module\n",
    "    temp_utility = functions.u(x1,x2,alpha)\n",
    "    \n",
    "    # ii. Append utility to empty vector\n",
    "    utility[idx] = temp_utility\n",
    "    \n",
    "    # iii. Print result\n",
    "    print(f'u({np.round(x1,2)}, {np.round(x2,2)}) = {np.round(utility[idx],2)}, where \\u03B1 = {alpha}')"
   ]
  },
  {
   "cell_type": "markdown",
   "id": "1aca9008",
   "metadata": {
    "slideshow": {
     "slide_type": "slide"
    }
   },
   "source": [
    "<img src=\"ku_logo_uk_v.png\" alt=\"drawing\" width=\"130\" style=\"float:right\"/>\n",
    "\n",
    "## <p style=\"text-align: center;\"> General hints</p>\n",
    "\n",
    "<br>\n",
    "\n",
    "Incoporate markdown cells in your project that describes the model, intuition, etc.\n",
    "Remember you do can do equation in markdown using either `$$ math $$`:\n",
    "$$ y_i = \\beta_0 + \\beta_1 x_i + \\epsilon_i $$\n",
    "or `\\begin{align} math \\end{align}`\n",
    "\\begin{align} y_i = \\beta_0 + \\beta_1 x_i + \\epsilon_i \\end{align}\n",
    "\n",
    "Other formatting?\n",
    "* An indent followed by `*` or `1.` creates list\n",
    "    1. list item 1\n",
    "    2. list item 2\n",
    "    * list item 3\n",
    "* `** text **` produces **text**\n",
    "* `*text*` produces *text*\n",
    "* `#` creates a large header, `##` smaller header and so on\n",
    "* Google it!"
   ]
  },
  {
   "cell_type": "markdown",
   "id": "5a3d6286",
   "metadata": {
    "slideshow": {
     "slide_type": "slide"
    }
   },
   "source": [
    "<img src=\"ku_logo_uk_v.png\" alt=\"drawing\" width=\"130\" style=\"float:right\"/>\n",
    "\n",
    "## <p style=\"text-align: center;\"> General hints</p>\n",
    "\n",
    "<br>\n",
    "\n",
    "Scope of variables\n",
    "\n",
    "**Global or local??**"
   ]
  },
  {
   "cell_type": "code",
   "execution_count": 4,
   "id": "c52796f3",
   "metadata": {
    "slideshow": {
     "slide_type": "slide"
    }
   },
   "outputs": [
    {
     "name": "stdout",
     "output_type": "stream",
     "text": [
      "With global: 3\n",
      "Without global: 2\n",
      "99\n"
     ]
    }
   ],
   "source": [
    "global_var = 1\n",
    "local_var = 99\n",
    "\n",
    "def random_function(number, add_global):\n",
    "    local_var = 1\n",
    "    if add_global == True:\n",
    "        return number + local_var + global_var\n",
    "    if add_global == False:\n",
    "        return number + local_var\n",
    "\n",
    "print(f'With global: {random_function(global_var, True)}')\n",
    "print(f'Without global: {random_function(global_var, False)}')\n",
    "print(local_var)"
   ]
  },
  {
   "cell_type": "markdown",
   "id": "declared-wealth",
   "metadata": {
    "slideshow": {
     "slide_type": "slide"
    }
   },
   "source": [
    "<img src=\"ku_logo_uk_v.png\" alt=\"drawing\" width=\"130\" style=\"float:right\"/>\n",
    "\n",
    "## <p style=\"text-align: center;\"> General hints</p>\n",
    "\n",
    "<br>\n",
    "\n",
    "Presentation of results matter - you can't just hand in blocks of code\n",
    "\n",
    "E.g., when creating figures remember:\n",
    "\n",
    "`ax.plot(x,y,label='Nice label')`\n",
    "\n",
    "`ax.set_ylabel('$\\pi$')`\n",
    "\n",
    "`ax.legend()`\n",
    "\n",
    "and so on... Maybe an interactive figure? "
   ]
  },
  {
   "cell_type": "markdown",
   "id": "dressed-local",
   "metadata": {
    "slideshow": {
     "slide_type": "slide"
    }
   },
   "source": [
    "<img src=\"ku_logo_uk_v.png\" alt=\"drawing\" width=\"130\" style=\"float:right\"/>\n",
    "\n",
    "## <p style=\"text-align: center;\"> Jupyter Lab tips and tricks</p>\n",
    "\n",
    "<br>\n",
    "\n",
    "https://towardsdatascience.com/optimizing-jupyter-notebook-tips-tricks-and-nbextensions-26d75d502663"
   ]
  },
  {
   "cell_type": "markdown",
   "id": "0d3a5f31",
   "metadata": {
    "slideshow": {
     "slide_type": "slide"
    }
   },
   "source": [
    "<img src=\"ku_logo_uk_v.png\" alt=\"drawing\" width=\"130\" style=\"float:right\"/>\n",
    "\n",
    "## <p style=\"text-align: center;\"> If you want to pass read this</p>\n",
    "\n",
    "<br>\n",
    "\n",
    "**ALLWAYS restart your kernel and run all the cells before handing in! This goes for the mandatory assignments along with the exam. It is crucial!**\n",
    "\n",
    "If you have old variables in memory that make your notebook run then i cannot run the notebook afterwards!"
   ]
  },
  {
   "cell_type": "markdown",
   "id": "96b3fdc0",
   "metadata": {
    "slideshow": {
     "slide_type": "slide"
    }
   },
   "source": [
    "<img src=\"ku_logo_uk_v.png\" alt=\"drawing\" width=\"130\" style=\"float:right\"/>\n",
    "\n",
    "## <p style=\"text-align: center;\"> Hints for the project</p>\n",
    "\n",
    "<br>\n",
    "\n",
    "**Control your variables by using `SimpleNamespace()`**"
   ]
  },
  {
   "cell_type": "code",
   "execution_count": 6,
   "id": "0bccb009",
   "metadata": {
    "slideshow": {
     "slide_type": "slide"
    }
   },
   "outputs": [
    {
     "name": "stdout",
     "output_type": "stream",
     "text": [
      "0.3\n"
     ]
    }
   ],
   "source": [
    "from types import SimpleNamespace\n",
    "question1parameters = SimpleNamespace()\n",
    "parameters.alpha = 0.3\n",
    "parameters.beta = 1\n",
    "print(parameters.alpha)"
   ]
  },
  {
   "cell_type": "code",
   "execution_count": 7,
   "id": "excited-population",
   "metadata": {
    "slideshow": {
     "slide_type": "fragment"
    }
   },
   "outputs": [
    {
     "name": "stdout",
     "output_type": "stream",
     "text": [
      "1.624504792712471\n",
      "0.0078125\n"
     ]
    }
   ],
   "source": [
    "print(functions.u(1,2,parameters.alpha))\n",
    "parameters.alpha = 8\n",
    "print(functions.u(1, 2, parameters.alpha))"
   ]
  },
  {
   "cell_type": "markdown",
   "id": "6e2a78df",
   "metadata": {
    "slideshow": {
     "slide_type": "slide"
    }
   },
   "source": [
    "<img src=\"ku_logo_uk_v.png\" alt=\"drawing\" width=\"130\" style=\"float:right\"/>\n",
    "\n",
    "## <p style=\"text-align: center;\"> Hints for question 1</p>\n",
    "\n",
    "<br>\n",
    "\n",
    "*Construct a function that takes (x, y, p) as arguments and returns the agents’ optimal insurance coverage*\n",
    "\n",
    "1. Define functions for utility, premium and expected value\n",
    "2. Create a function **that takes (x, y, p)** and optimize the expected value\n",
    "    * this includes creating and objective function and using minimize_scalar with bounds - what is the upper bound?\n",
    "\n",
    "*Calculate and plot the optimal q for x in the range[0.01 - 0.9]*\n",
    "\n",
    "3. Create the range using NumPy\n",
    "4. Loop through possible values of x and return the optimal q\n",
    "5. Plot the result"
   ]
  },
  {
   "cell_type": "markdown",
   "id": "00fd0f40",
   "metadata": {
    "slideshow": {
     "slide_type": "slide"
    }
   },
   "source": [
    "<img src=\"ku_logo_uk_v.png\" alt=\"drawing\" width=\"130\" style=\"float:right\"/>\n",
    "\n",
    "## <p style=\"text-align: center;\"> Hints for the question 2</p>\n",
    "\n",
    "<br>\n",
    "\n",
    "*Find $\\tilde{π}$ such that $V(q;\\tilde{π})$ = V0 at each point in the grid*\n",
    "\n",
    "1. Create a new value function that takes $π$ as argument - and not the premium function as before\n",
    "1. Create new objective function: $V(q;\\tilde{π}) = V0 \\rightarrow V(q;\\tilde{π}) - V0 = 0$\n",
    "2. optimize.root -> solve objective = 0 -> coverage minus no coverage\n",
    "3. Construct the q grid\n",
    "4. Loop through the q's and return the optimal $π$"
   ]
  },
  {
   "cell_type": "markdown",
   "id": "7e182d1e",
   "metadata": {
    "slideshow": {
     "slide_type": "slide"
    }
   },
   "source": [
    "<img src=\"ku_logo_uk_v.png\" alt=\"drawing\" width=\"130\" style=\"float:right\"/>\n",
    "\n",
    "## <p style=\"text-align: center;\"> Hints for the question 3</p>\n",
    "\n",
    "<br>\n",
    "\n",
    "1. Create a function for MC integration - see lecture 04. Let it take two arguments that both are SimpleNamespace()\n",
    "    * SimpleNamespace() for parameters\n",
    "    * SimpleNamespace() for the different policies"
   ]
  },
  {
   "cell_type": "markdown",
   "id": "sharing-connection",
   "metadata": {
    "slideshow": {
     "slide_type": "slide"
    }
   },
   "source": [
    "<img src=\"ku_logo_uk_v.png\" alt=\"drawing\" width=\"130\" style=\"float:right\"/>\n",
    "\n",
    "## <p style=\"text-align: center;\"> How to hand in? </p>\n",
    "\n",
    "<br>\n",
    "\n",
    "Your new best friend GitHub! \n",
    "\n",
    "Make sure your repo is up and running\n"
   ]
  }
 ],
 "metadata": {
  "celltoolbar": "Slideshow",
  "kernelspec": {
   "display_name": "Python 3",
   "language": "python",
   "name": "python3"
  },
  "language_info": {
   "codemirror_mode": {
    "name": "ipython",
    "version": 3
   },
   "file_extension": ".py",
   "mimetype": "text/x-python",
   "name": "python",
   "nbconvert_exporter": "python",
   "pygments_lexer": "ipython3",
   "version": "3.8.5"
  }
 },
 "nbformat": 4,
 "nbformat_minor": 5
}
