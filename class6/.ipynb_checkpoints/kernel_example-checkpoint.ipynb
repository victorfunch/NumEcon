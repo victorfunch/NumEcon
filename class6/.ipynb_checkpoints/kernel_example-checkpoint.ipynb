{
 "cells": [
  {
   "cell_type": "code",
   "execution_count": null,
   "id": "fifth-student",
   "metadata": {},
   "outputs": [],
   "source": []
  },
  {
   "cell_type": "markdown",
   "id": "fossil-entity",
   "metadata": {},
   "source": [
    "The project stretches over hundres of lines of code\n",
    "\n",
    "... calculations...\n",
    "\n",
    "... figures...\n",
    "\n",
    "... nice markdown cells...\n",
    "\n",
    "... more calculation...\n",
    "\n",
    "... and so on...\n",
    "\n",
    "...\n",
    "\n",
    "..."
   ]
  },
  {
   "cell_type": "code",
   "execution_count": 6,
   "id": "level-cooking",
   "metadata": {},
   "outputs": [],
   "source": [
    "def final_result(a,b):\n",
    "    res = a+b\n",
    "    print(f'The result is {a} + {b} = {res}')"
   ]
  },
  {
   "cell_type": "code",
   "execution_count": 7,
   "id": "patent-scholarship",
   "metadata": {},
   "outputs": [
    {
     "name": "stdout",
     "output_type": "stream",
     "text": [
      "The result is 99 + 23 = 122\n"
     ]
    }
   ],
   "source": [
    "final_result(var1, var2)"
   ]
  },
  {
   "cell_type": "code",
   "execution_count": 8,
   "id": "consistent-championship",
   "metadata": {},
   "outputs": [
    {
     "name": "stdout",
     "output_type": "stream",
     "text": [
      "Hello\n"
     ]
    }
   ],
   "source": [
    "print(var3)"
   ]
  },
  {
   "cell_type": "code",
   "execution_count": null,
   "id": "undefined-boulder",
   "metadata": {},
   "outputs": [],
   "source": []
  }
 ],
 "metadata": {
  "kernelspec": {
   "display_name": "Python 3",
   "language": "python",
   "name": "python3"
  },
  "language_info": {
   "codemirror_mode": {
    "name": "ipython",
    "version": 3
   },
   "file_extension": ".py",
   "mimetype": "text/x-python",
   "name": "python",
   "nbconvert_exporter": "python",
   "pygments_lexer": "ipython3",
   "version": "3.8.5"
  }
 },
 "nbformat": 4,
 "nbformat_minor": 5
}
