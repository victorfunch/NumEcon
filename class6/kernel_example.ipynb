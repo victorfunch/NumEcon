{
 "cells": [
  {
   "cell_type": "code",
   "execution_count": null,
   "id": "a6b3418f-8a1c-41ce-b826-69d93c1ec1ac",
   "metadata": {},
   "outputs": [],
   "source": [
    "# var1 = 99\n",
    "# var2 = 23\n",
    "# var3 = 'Hello'"
   ]
  },
  {
   "cell_type": "markdown",
   "id": "8976e937-c27f-493e-b0fa-e60709765482",
   "metadata": {},
   "source": [
    "The project stretches over hundres of lines of code\n",
    "\n",
    "... calculations...\n",
    "\n",
    "... figures...\n",
    "\n",
    "... nice markdown cells...\n",
    "\n",
    "... more calculation...\n",
    "\n",
    "... and so on...\n",
    "\n",
    "...\n",
    "\n",
    "..."
   ]
  },
  {
   "cell_type": "code",
   "execution_count": null,
   "id": "cdc2d1c4-7429-47d9-881e-8152932b3704",
   "metadata": {},
   "outputs": [],
   "source": [
    "def final_result(a,b):\n",
    "    res = a+b\n",
    "    print(f'The result is {a} + {b} = {res}')"
   ]
  },
  {
   "cell_type": "code",
   "execution_count": null,
   "id": "db708c86-da0d-4a5b-bdff-cc8b564ab126",
   "metadata": {},
   "outputs": [],
   "source": [
    "final_result(var1, var2)"
   ]
  }
 ],
 "metadata": {
  "kernelspec": {
   "display_name": "Python 3 (ipykernel)",
   "language": "python",
   "name": "python3"
  },
  "language_info": {
   "codemirror_mode": {
    "name": "ipython",
    "version": 3
   },
   "file_extension": ".py",
   "mimetype": "text/x-python",
   "name": "python",
   "nbconvert_exporter": "python",
   "pygments_lexer": "ipython3",
   "version": "3.9.7"
  }
 },
 "nbformat": 4,
 "nbformat_minor": 5
}
