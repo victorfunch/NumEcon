{
 "cells": [
  {
   "cell_type": "markdown",
   "id": "warming-forwarding",
   "metadata": {
    "slideshow": {
     "slide_type": "slide"
    }
   },
   "source": [
    "<img src=\"ku_logo_uk_v.png\" alt=\"drawing\" width=\"130\" style=\"float:right\"/>\n",
    "\n",
    "#  <p style=\"text-align: center;\"><span style=\"color:#2c061f\"> Class 4, Problem Set 1 </span></p>\n",
    "\n",
    "<br>\n",
    "\n",
    "## <span style=\"color:#374045\"> Introduction to Programming and Numerical Analysis </span>\n"
   ]
  },
  {
   "cell_type": "code",
   "execution_count": 1,
   "id": "linear-committee",
   "metadata": {
    "slideshow": {
     "slide_type": "slide"
    }
   },
   "outputs": [],
   "source": [
    "import numpy as np\n",
    "import matplotlib.pyplot as plt\n",
    "plt.style.use('seaborn-whitegrid')\n",
    "from mpl_toolkits.mplot3d import Axes3D\n",
    "from matplotlib import cm\n",
    "from scipy import optimize"
   ]
  },
  {
   "cell_type": "markdown",
   "id": "pleased-hostel",
   "metadata": {
    "slideshow": {
     "slide_type": "slide"
    }
   },
   "source": [
    "<img src=\"ku_logo_uk_v.png\" alt=\"drawing\" width=\"130\" style=\"float:right\"/>\n",
    "\n",
    "## <p style=\"text-align: center;\"> Plan for today </p>\n",
    "<br>\n",
    "\n",
    "1. Brush up on important concepts/syntax\n",
    "    * Creating functions\n",
    "    * Figure syntax\n",
    "    * SciPy.optimize\n",
    "2. Work on PS1"
   ]
  },
  {
   "cell_type": "markdown",
   "id": "hollow-bleeding",
   "metadata": {
    "slideshow": {
     "slide_type": "slide"
    }
   },
   "source": [
    "<img src=\"ku_logo_uk_v.png\" alt=\"drawing\" width=\"130\" style=\"float:right\"/>\n",
    "\n",
    "## <p style=\"text-align: center;\"> Functions</p>\n",
    "\n",
    "<br>\n",
    "\n",
    "**Never do something twice**: This is where functions come in handy (and for a lot of other reasons)\n",
    "\n",
    "`def name_of_function(input):\n",
    "    **do something with the input**\n",
    "    return output               `\n"
   ]
  },
  {
   "cell_type": "code",
   "execution_count": 5,
   "id": "pressed-breed",
   "metadata": {
    "slideshow": {
     "slide_type": "fragment"
    }
   },
   "outputs": [
    {
     "name": "stdout",
     "output_type": "stream",
     "text": [
      "1.5205845018010742\n"
     ]
    }
   ],
   "source": [
    "# Example\n",
    "def f(x):\n",
    "    fx = np.sin(x)+0.05*x**2 \n",
    "    return fx\n",
    "\n",
    "print(f(6))"
   ]
  },
  {
   "cell_type": "markdown",
   "id": "careful-touch",
   "metadata": {
    "slideshow": {
     "slide_type": "slide"
    }
   },
   "source": [
    "<img src=\"ku_logo_uk_v.png\" alt=\"drawing\" width=\"130\" style=\"float:right\"/>\n",
    "\n",
    "## <p style=\"text-align: center;\"> Functions: Best practice</p>"
   ]
  },
  {
   "cell_type": "code",
   "execution_count": 7,
   "id": "favorite-drunk",
   "metadata": {
    "slideshow": {
     "slide_type": "fragment"
    }
   },
   "outputs": [],
   "source": [
    "def f(\n",
    "    x:float\n",
    "    ) -> float:\n",
    "    \n",
    "    '''Calculate a function value given input\n",
    "    Args:\n",
    "        x (float): Input\n",
    "    Returns:\n",
    "        float: Function value\n",
    "    '''\n",
    "    \n",
    "    fx = np.sin(x)+0.05*x**2 \n",
    "    \n",
    "    return fx"
   ]
  },
  {
   "cell_type": "code",
   "execution_count": 10,
   "id": "indirect-reward",
   "metadata": {
    "slideshow": {
     "slide_type": "slide"
    }
   },
   "outputs": [
    {
     "name": "stdout",
     "output_type": "stream",
     "text": [
      "The function value at 1 is: 0.8914709848078965\n",
      "The function value at 2 is: 1.1092974268256817\n",
      "The function value at 3 is: 0.5911200080598672\n",
      "The function value at 4 is: 0.04319750469207184\n",
      "The function value at 5 is: 0.29107572533686155\n"
     ]
    }
   ],
   "source": [
    "for i in range(1,6):\n",
    "    print(f'The function value at {i} is: {f(i)}')"
   ]
  },
  {
   "cell_type": "markdown",
   "id": "computational-harvest",
   "metadata": {
    "slideshow": {
     "slide_type": "slide"
    }
   },
   "source": [
    "<img src=\"ku_logo_uk_v.png\" alt=\"drawing\" width=\"130\" style=\"float:right\"/>\n",
    "\n",
    "## <p style=\"text-align: center;\"> Figure syntax</p>\n",
    "\n",
    "<br>\n",
    "Probably different from what you know (SAS, Stata etc.)\n",
    "\n",
    "... get used to it..."
   ]
  },
  {
   "cell_type": "code",
   "execution_count": 2,
   "id": "eleven-horizontal",
   "metadata": {
    "scrolled": true,
    "slideshow": {
     "slide_type": "slide"
    }
   },
   "outputs": [
    {
     "ename": "NameError",
     "evalue": "name 'f' is not defined",
     "output_type": "error",
     "traceback": [
      "\u001b[0;31m---------------------------------------------------------------------------\u001b[0m",
      "\u001b[0;31mNameError\u001b[0m                                 Traceback (most recent call last)",
      "\u001b[0;32m<ipython-input-2-18c3c33d8b4e>\u001b[0m in \u001b[0;36m<module>\u001b[0;34m\u001b[0m\n\u001b[1;32m      8\u001b[0m \u001b[0;34m\u001b[0m\u001b[0m\n\u001b[1;32m      9\u001b[0m \u001b[0;31m# Choose method: .plot(), .hist(), .plot_surface() etc.\u001b[0m\u001b[0;34m\u001b[0m\u001b[0;34m\u001b[0m\u001b[0;34m\u001b[0m\u001b[0m\n\u001b[0;32m---> 10\u001b[0;31m \u001b[0max1\u001b[0m\u001b[0;34m.\u001b[0m\u001b[0mplot\u001b[0m\u001b[0;34m(\u001b[0m\u001b[0mx\u001b[0m\u001b[0;34m,\u001b[0m \u001b[0mf\u001b[0m\u001b[0;34m(\u001b[0m\u001b[0mx\u001b[0m\u001b[0;34m)\u001b[0m\u001b[0;34m)\u001b[0m\u001b[0;34m\u001b[0m\u001b[0;34m\u001b[0m\u001b[0m\n\u001b[0m\u001b[1;32m     11\u001b[0m \u001b[0;34m\u001b[0m\u001b[0m\n\u001b[1;32m     12\u001b[0m \u001b[0;31m# Customize\u001b[0m\u001b[0;34m\u001b[0m\u001b[0;34m\u001b[0m\u001b[0;34m\u001b[0m\u001b[0m\n",
      "\u001b[0;31mNameError\u001b[0m: name 'f' is not defined"
     ]
    },
    {
     "data": {
      "image/png": "[encoded data removed]",
      "text/plain": [
       "<Figure size 432x288 with 1 Axes>"
      ]
     },
     "metadata": {},
     "output_type": "display_data"
    }
   ],
   "source": [
    "x = np.linspace(-10,10,num=100)\n",
    "\n",
    "# Initialize canvas - From documentation: \"Unique identifier for the figure\"\n",
    "fig1 = plt.figure() # Now fig1 object is a Matplot figure\n",
    "\n",
    "# From documentation: add_subplot(nrows, ncols, index, **kwargs)\n",
    "ax1 = fig1.add_subplot(1,1,1)\n",
    "\n",
    "# Choose method: .plot(), .hist(), .plot_surface() etc.\n",
    "ax1.plot(x, f(x))\n",
    "\n",
    "# Customize\n",
    "ax1.set_title('Awesome plot'); #; suppress print"
   ]
  },
  {
   "cell_type": "code",
   "execution_count": 5,
   "id": "therapeutic-jamaica",
   "metadata": {
    "slideshow": {
     "slide_type": "slide"
    }
   },
   "outputs": [
    {
     "data": {
      "image/png": "[encoded data removed]",
      "text/plain": [
       "<Figure size 432x288 with 2 Axes>"
      ]
     },
     "metadata": {},
     "output_type": "display_data"
    }
   ],
   "source": [
    "fig2 = plt.figure()\n",
    "\n",
    "ax2_1 = fig2.add_subplot(1,2,1)\n",
    "ax2_1.plot(x, f(x))\n",
    "ax2_1.set_title('First plot')\n",
    "\n",
    "ax2_2 = fig2.add_subplot(1,2,2)\n",
    "ax2_2.plot(np.cos(x), (f(x)))\n",
    "ax2_2.set_title('Second plot');"
   ]
  },
  {
   "cell_type": "markdown",
   "id": "experimental-fitness",
   "metadata": {
    "slideshow": {
     "slide_type": "slide"
    }
   },
   "source": [
    "<img src=\"ku_logo_uk_v.png\" alt=\"drawing\" width=\"130\" style=\"float:right\"/>\n",
    "\n",
    "## <p style=\"text-align: center;\"> SciPy.optimize</p>\n",
    "\n",
    "* Module for optimizing - more precise than 'just' looping through combinations\n",
    "* One problem can be solved in different ways - don't let it knock you out\n",
    "* Remember that we minimize! So if your maximizing your objective should be negative"
   ]
  },
  {
   "cell_type": "code",
   "execution_count": 9,
   "id": "academic-tanzania",
   "metadata": {
    "slideshow": {
     "slide_type": "slide"
    }
   },
   "outputs": [
    {
     "name": "stdout",
     "output_type": "stream",
     "text": [
      "minimum -0.887862826573322\n",
      "Minimum function value is -0.89 at x = -1.42755262\n",
      "minimum -0.8878628265736219\n",
      "Minimum function value is -0.89 at x = -1.42755138\n",
      "minimum 0.007912876341589659\n",
      "Minimum function value is 0.01 at x = 4.27109533\n"
     ]
    }
   ],
   "source": [
    "# Initial guess\n",
    "x_guess = 0\n",
    "\n",
    "# Objective function: \n",
    "objective_function = lambda x: f(x)\n",
    "\n",
    "list_of_bounds = [(np.min(x),np.max(x)), (np.min(x),0), (0,np.max(x))]\n",
    "\n",
    "# SciPy\n",
    "for b in list_of_bounds:\n",
    "    opt = optimize.minimize_scalar(objective_function\n",
    "                                     , x_guess\n",
    "                                     , method='bounded'\n",
    "                                     , bounds=b\n",
    "                                  )\n",
    "\n",
    "    # Unpack results\n",
    "    x_best_scipy = opt.x  \n",
    "    f_best_scipy = opt.fun\n",
    "    # Print\n",
    "    print('minimum', f_best_scipy)\n",
    "    print(f'Minimum function value is {f_best_scipy:.2f} at x = {x_best_scipy:.8f}')"
   ]
  }
 ],
 "metadata": {
  "celltoolbar": "Slideshow",
  "kernelspec": {
   "display_name": "Python 3",
   "language": "python",
   "name": "python3"
  },
  "language_info": {
   "codemirror_mode": {
    "name": "ipython",
    "version": 3
   },
   "file_extension": ".py",
   "mimetype": "text/x-python",
   "name": "python",
   "nbconvert_exporter": "python",
   "pygments_lexer": "ipython3",
   "version": "3.8.5"
  }
 },
 "nbformat": 4,
 "nbformat_minor": 5
}
