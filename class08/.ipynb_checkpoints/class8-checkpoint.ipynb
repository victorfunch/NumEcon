{
 "cells": [
  {
   "cell_type": "markdown",
   "id": "warming-forwarding",
   "metadata": {
    "slideshow": {
     "slide_type": "slide"
    }
   },
   "source": [
    "<img src=\"ku_logo_uk_v.png\" alt=\"drawing\" width=\"130\" style=\"float:right\"/>\n",
    "\n",
    "#  <p style=\"text-align: center;\"><span style=\"color:#2c061f\"> Class 8, Problem Set 4 </span></p>\n",
    "\n",
    "<br>\n",
    "\n",
    "## <span style=\"color:#374045\"> Introduction to Programming and Numerical Analysis </span>\n"
   ]
  },
  {
   "cell_type": "markdown",
   "id": "pleased-hostel",
   "metadata": {
    "slideshow": {
     "slide_type": "slide"
    }
   },
   "source": [
    "<img src=\"ku_logo_uk_v.png\" alt=\"drawing\" width=\"130\" style=\"float:right\"/>\n",
    "\n",
    "## <p style=\"text-align: center;\"> Plan for today </p>\n",
    "<br>\n",
    "\n",
    "1. Inaugural project\n",
    "2. Data project\n",
    "3. Important concepts\n",
    "4. Working on PS4\n",
    "    * Concepts\n",
    "    * Split-apply-combine"
   ]
  },
  {
   "cell_type": "markdown",
   "id": "f6c8ca7e",
   "metadata": {
    "slideshow": {
     "slide_type": "slide"
    }
   },
   "source": [
    "<img src=\"ku_logo_uk_v.png\" alt=\"drawing\" width=\"130\" style=\"float:right\"/>\n",
    "\n",
    "## <p style=\"text-align: center;\"> Inaugural project </p>\n",
    "<br>\n",
    "\n",
    "You will have your feedback next Tuesday\n",
    "\n",
    "Remember to do your own feedback"
   ]
  },
  {
   "cell_type": "markdown",
   "id": "9da9ca3d",
   "metadata": {
    "slideshow": {
     "slide_type": "slide"
    }
   },
   "source": [
    "<img src=\"ku_logo_uk_v.png\" alt=\"drawing\" width=\"130\" style=\"float:right\"/>\n",
    "\n",
    "## <p style=\"text-align: center;\"> Inaugural project </p>\n",
    "<br>\n",
    "\n",
    "Debugging\n",
    "* Inspect your variables\n",
    "* Look in the documentation - shift+tab or help()\n",
    "* Practice reading your code"
   ]
  },
  {
   "cell_type": "code",
   "execution_count": 6,
   "id": "smooth-power",
   "metadata": {
    "slideshow": {
     "slide_type": "fragment"
    }
   },
   "outputs": [
    {
     "ename": "AttributeError",
     "evalue": "'numpy.ndarray' object has no attribute 'result'",
     "output_type": "error",
     "traceback": [
      "\u001b[0;31m---------------------------------------------------------------------------\u001b[0m",
      "\u001b[0;31mAttributeError\u001b[0m                            Traceback (most recent call last)",
      "\u001b[0;32m<ipython-input-6-bb1e2e0aa47f>\u001b[0m in \u001b[0;36m<module>\u001b[0;34m\u001b[0m\n\u001b[1;32m      1\u001b[0m \u001b[0;32mimport\u001b[0m \u001b[0mnumpy\u001b[0m \u001b[0;32mas\u001b[0m \u001b[0mnp\u001b[0m\u001b[0;34m\u001b[0m\u001b[0;34m\u001b[0m\u001b[0m\n\u001b[1;32m      2\u001b[0m \u001b[0mx\u001b[0m \u001b[0;34m=\u001b[0m \u001b[0mnp\u001b[0m\u001b[0;34m.\u001b[0m\u001b[0meye\u001b[0m\u001b[0;34m(\u001b[0m\u001b[0;36m100\u001b[0m\u001b[0;34m)\u001b[0m\u001b[0;34m\u001b[0m\u001b[0;34m\u001b[0m\u001b[0m\n\u001b[0;32m----> 3\u001b[0;31m \u001b[0mx\u001b[0m\u001b[0;34m.\u001b[0m\u001b[0mresult\u001b[0m\u001b[0;34m\u001b[0m\u001b[0;34m\u001b[0m\u001b[0m\n\u001b[0m",
      "\u001b[0;31mAttributeError\u001b[0m: 'numpy.ndarray' object has no attribute 'result'"
     ]
    }
   ],
   "source": [
    "import numpy as np\n",
    "x = np.eye(100)\n",
    "#x.result\n",
    "\n"
   ]
  },
  {
   "cell_type": "markdown",
   "id": "ffa47261",
   "metadata": {
    "slideshow": {
     "slide_type": "slide"
    }
   },
   "source": [
    "<img src=\"ku_logo_uk_v.png\" alt=\"drawing\" width=\"130\" style=\"float:right\"/>\n",
    "\n",
    "## <p style=\"text-align: center;\"> Data project </p>\n",
    "<br>\n",
    "\n",
    "After finishing (last time's and) today's problem set you will have learned all you need to complete the data project\n",
    "\n",
    "Possible data sources:\n",
    "* The DST module\n",
    "* https://github.com/public-apis/public-apis?fbclid=IwAR1XOJANzUUX_lxNCbi-dmWozoeQdB4bLhQR2H3bEQJuE-LdSvFzkcxJPZg\n",
    "* https://datasetsearch.research.google.com/\n",
    "* https://apilist.fun/\n",
    "* https://www.google.com/covid19/mobility/?fbclid=IwAR2qscX8lnZtdxwP2Zog5vfP_ufq556ONW2cENvTqOmoRmTVt7astrXfyh8\n",
    "* Yahoo Finance (aldready installed with Anaconda)\n",
    "* Your job\n",
    "* Google something you find interesting"
   ]
  },
  {
   "cell_type": "markdown",
   "id": "c5a5e3a1",
   "metadata": {
    "slideshow": {
     "slide_type": "slide"
    }
   },
   "source": [
    "<img src=\"ku_logo_uk_v.png\" alt=\"drawing\" width=\"130\" style=\"float:right\"/>\n",
    "\n",
    "## <p style=\"text-align: center;\"> Data project </p>\n",
    "<br>\n",
    "\n",
    "API stands for Application Programming Interface. An API is an interface through which we can directly ask for and receive data from an online source.\n",
    "\n",
    "So you pass code to a python module or send it to a website/server, the request/code is processed and the data is returned to you directly into the notebook"
   ]
  },
  {
   "cell_type": "markdown",
   "id": "500b8c1e",
   "metadata": {
    "slideshow": {
     "slide_type": "slide"
    }
   },
   "source": [
    "<img src=\"ku_logo_uk_v.png\" alt=\"drawing\" width=\"130\" style=\"float:right\"/>\n",
    "\n",
    "## <p style=\"text-align: center;\"> Data project </p>\n",
    "<br>\n",
    "\n",
    "* Before you start bear in mind that you should tell a good story\n",
    "* What a good project requires:\n",
    "    * Documentation (comments and docstrings)\n",
    "    * Thoughtful visuals\n",
    "    * Markdown cells (telling the story, concluding etc.)\n",
    "* Minimum requirements:\n",
    "    * Import data from an online source of your own choosing\n",
    "    * Present the data visually\n",
    "    * Apply some method(s) from descriptive economics "
   ]
  },
  {
   "cell_type": "markdown",
   "id": "magnetic-regression",
   "metadata": {
    "slideshow": {
     "slide_type": "slide"
    }
   },
   "source": [
    "<img src=\"ku_logo_uk_v.png\" alt=\"drawing\" width=\"130\" style=\"float:right\"/>\n",
    "\n",
    "## <p style=\"text-align: center;\"> Remember... </p>\n",
    "<br>\n",
    "\n",
    "that the exam is a portfolio!\n",
    "\n",
    "<br>\n",
    "<br>\n",
    "Using an API, interactive figures, etc. (the world is yours) &#8594; Awesome data project &#8594; Higher chance of passing the exam\n",
    "\n",
    "(this also goes for the inaugural project)"
   ]
  },
  {
   "cell_type": "markdown",
   "id": "sacred-stylus",
   "metadata": {
    "slideshow": {
     "slide_type": "slide"
    }
   },
   "source": [
    "<img src=\"ku_logo_uk_v.png\" alt=\"drawing\" width=\"130\" style=\"float:right\"/>\n",
    "\n",
    "## <p style=\"text-align: center;\"> PS4 </p>\n",
    "<br>\n",
    "\n",
    "* Get familiar with the DST-module \n",
    "* The concepts are the same as last time!\n",
    "* Split-apply-combine"
   ]
  },
  {
   "cell_type": "markdown",
   "id": "proved-shaft",
   "metadata": {
    "slideshow": {
     "slide_type": "slide"
    }
   },
   "source": [
    "<img src=\"ku_logo_uk_v.png\" alt=\"drawing\" width=\"130\" style=\"float:right\"/>\n",
    "\n",
    "## <p style=\"text-align: center;\"> Split-apply-combine </p>\n",
    "<br>\n",
    "\n",
    "It is basic data analysis formalized:\n",
    "* Split data into sub-groups\n",
    "* Do something with your data\n",
    "* Combine what you did with your population"
   ]
  },
  {
   "cell_type": "markdown",
   "id": "analyzed-conclusion",
   "metadata": {
    "slideshow": {
     "slide_type": "slide"
    }
   },
   "source": [
    "<img src=\"ku_logo_uk_v.png\" alt=\"drawing\" width=\"130\" style=\"float:right\"/>\n",
    "\n",
    "## <p style=\"text-align: center;\"> Split-apply-combine example </p>\n",
    "<br>\n",
    "\n",
    "Say that you income data for each municipality for each year retrieved using Jeppe's module and you want to see how income is fluctuating around the mean\n",
    "* Group by municipality\n",
    "* Apply a function that calculates pct. growth across years e.g. a lambda function or just do it the easy way by column operation\n",
    "* Add this information to your dataset\n",
    "\n",
    "[Complementary to lectures](https://pandas.pydata.org/docs/user_guide/groupby.html)"
   ]
  }
 ],
 "metadata": {
  "celltoolbar": "Slideshow",
  "kernelspec": {
   "display_name": "Python 3",
   "language": "python",
   "name": "python3"
  },
  "language_info": {
   "codemirror_mode": {
    "name": "ipython",
    "version": 3
   },
   "file_extension": ".py",
   "mimetype": "text/x-python",
   "name": "python",
   "nbconvert_exporter": "python",
   "pygments_lexer": "ipython3",
   "version": "3.8.5"
  }
 },
 "nbformat": 4,
 "nbformat_minor": 5
}
