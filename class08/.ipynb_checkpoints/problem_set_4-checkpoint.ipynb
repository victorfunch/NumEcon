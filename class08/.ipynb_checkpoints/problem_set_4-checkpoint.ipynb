{
 "cells": [
  {
   "cell_type": "markdown",
   "metadata": {},
   "source": [
    "# Problem set 4: Analyzing data"
   ]
  },
  {
   "cell_type": "code",
   "execution_count": null,
   "metadata": {},
   "outputs": [],
   "source": [
    "#!pip install git+https://github.com/elben10/pydst"
   ]
  },
  {
   "cell_type": "code",
   "execution_count": 16,
   "metadata": {},
   "outputs": [],
   "source": [
    "import numpy as np\n",
    "import matplotlib.pyplot as plt\n",
    "plt.style.use('seaborn-whitegrid')\n",
    "import pandas as pd\n",
    "import pydst\n",
    "dst = pydst.Dst(lang='en')"
   ]
  },
  {
   "cell_type": "markdown",
   "metadata": {},
   "source": [
    "# Tasks"
   ]
  },
  {
   "cell_type": "markdown",
   "metadata": {},
   "source": [
    "## Import national account data from Denmark Statistics"
   ]
  },
  {
   "cell_type": "markdown",
   "metadata": {},
   "source": [
    "Consider the following dictionary definitions:"
   ]
  },
  {
   "cell_type": "code",
   "execution_count": 17,
   "metadata": {},
   "outputs": [],
   "source": [
    "columns_dict = {}\n",
    "columns_dict['TRANSAKT'] = 'variable'\n",
    "columns_dict['PRISENHED'] = 'unit'\n",
    "columns_dict['TID'] = 'year'\n",
    "columns_dict['INDHOLD'] = 'value'\n",
    "\n",
    "var_dict = {} # var is for variable\n",
    "var_dict['P.1 Output'] = 'Y'\n",
    "var_dict['P.3 Final consumption expenditure'] = 'C'\n",
    "var_dict['P.3 Government consumption expenditure'] = 'G'\n",
    "var_dict['P.5 Gross capital formation'] = 'I'\n",
    "var_dict['P.6 Export of goods and services'] = 'X'\n",
    "var_dict['P.7 Import of goods and services'] = 'M'\n",
    "\n",
    "unit_dict = {}\n",
    "unit_dict['2010-prices, chained values'] = 'real'\n",
    "unit_dict['Current prices'] = 'nominal'"
   ]
  },
  {
   "cell_type": "markdown",
   "metadata": {},
   "source": [
    "**Step 1:** Download all of table `nah1`."
   ]
  },
  {
   "cell_type": "markdown",
   "metadata": {},
   "source": [
    "To use the DST module we need to use the following methods:\n",
    "* `get_subjects()`\n",
    "* `get_tables()`\n",
    "* `get_variables()`\n",
    "* `get_data()`"
   ]
  },
  {
   "cell_type": "code",
   "execution_count": 18,
   "metadata": {},
   "outputs": [
    {
     "data": {
      "text/html": [
       "<div>\n",
       "<style scoped>\n",
       "    .dataframe tbody tr th:only-of-type {\n",
       "        vertical-align: middle;\n",
       "    }\n",
       "\n",
       "    .dataframe tbody tr th {\n",
       "        vertical-align: top;\n",
       "    }\n",
       "\n",
       "    .dataframe thead th {\n",
       "        text-align: right;\n",
       "    }\n",
       "</style>\n",
       "<table border=\"1\" class=\"dataframe\">\n",
       "  <thead>\n",
       "    <tr style=\"text-align: right;\">\n",
       "      <th></th>\n",
       "      <th>id</th>\n",
       "      <th>desc</th>\n",
       "      <th>active</th>\n",
       "      <th>hasSubjects</th>\n",
       "    </tr>\n",
       "  </thead>\n",
       "  <tbody>\n",
       "    <tr>\n",
       "      <th>0</th>\n",
       "      <td>1</td>\n",
       "      <td>People</td>\n",
       "      <td>True</td>\n",
       "      <td>True</td>\n",
       "    </tr>\n",
       "    <tr>\n",
       "      <th>1</th>\n",
       "      <td>2</td>\n",
       "      <td>Labour and income</td>\n",
       "      <td>True</td>\n",
       "      <td>True</td>\n",
       "    </tr>\n",
       "    <tr>\n",
       "      <th>2</th>\n",
       "      <td>3</td>\n",
       "      <td>Economy</td>\n",
       "      <td>True</td>\n",
       "      <td>True</td>\n",
       "    </tr>\n",
       "    <tr>\n",
       "      <th>3</th>\n",
       "      <td>4</td>\n",
       "      <td>Social conditions</td>\n",
       "      <td>True</td>\n",
       "      <td>True</td>\n",
       "    </tr>\n",
       "    <tr>\n",
       "      <th>4</th>\n",
       "      <td>5</td>\n",
       "      <td>Education and research</td>\n",
       "      <td>True</td>\n",
       "      <td>True</td>\n",
       "    </tr>\n",
       "    <tr>\n",
       "      <th>5</th>\n",
       "      <td>6</td>\n",
       "      <td>Business</td>\n",
       "      <td>True</td>\n",
       "      <td>True</td>\n",
       "    </tr>\n",
       "    <tr>\n",
       "      <th>6</th>\n",
       "      <td>7</td>\n",
       "      <td>Transport</td>\n",
       "      <td>True</td>\n",
       "      <td>True</td>\n",
       "    </tr>\n",
       "    <tr>\n",
       "      <th>7</th>\n",
       "      <td>8</td>\n",
       "      <td>Culture and leisure</td>\n",
       "      <td>True</td>\n",
       "      <td>True</td>\n",
       "    </tr>\n",
       "    <tr>\n",
       "      <th>8</th>\n",
       "      <td>9</td>\n",
       "      <td>Environment and energy</td>\n",
       "      <td>True</td>\n",
       "      <td>True</td>\n",
       "    </tr>\n",
       "    <tr>\n",
       "      <th>9</th>\n",
       "      <td>19</td>\n",
       "      <td>Other</td>\n",
       "      <td>True</td>\n",
       "      <td>True</td>\n",
       "    </tr>\n",
       "  </tbody>\n",
       "</table>\n",
       "</div>"
      ],
      "text/plain": [
       "   id                    desc  active  hasSubjects\n",
       "0   1                  People    True         True\n",
       "1   2       Labour and income    True         True\n",
       "2   3                 Economy    True         True\n",
       "3   4       Social conditions    True         True\n",
       "4   5  Education and research    True         True\n",
       "5   6                Business    True         True\n",
       "6   7               Transport    True         True\n",
       "7   8     Culture and leisure    True         True\n",
       "8   9  Environment and energy    True         True\n",
       "9  19                   Other    True         True"
      ]
     },
     "execution_count": 18,
     "metadata": {},
     "output_type": "execute_result"
    }
   ],
   "source": [
    "# Look at the subjects\n",
    "dst.get_subjects()"
   ]
  },
  {
   "cell_type": "code",
   "execution_count": 19,
   "metadata": {},
   "outputs": [
    {
     "data": {
      "text/html": [
       "<div>\n",
       "<style scoped>\n",
       "    .dataframe tbody tr th:only-of-type {\n",
       "        vertical-align: middle;\n",
       "    }\n",
       "\n",
       "    .dataframe tbody tr th {\n",
       "        vertical-align: top;\n",
       "    }\n",
       "\n",
       "    .dataframe thead th {\n",
       "        text-align: right;\n",
       "    }\n",
       "</style>\n",
       "<table border=\"1\" class=\"dataframe\">\n",
       "  <thead>\n",
       "    <tr style=\"text-align: right;\">\n",
       "      <th></th>\n",
       "      <th>id</th>\n",
       "      <th>desc</th>\n",
       "      <th>active</th>\n",
       "      <th>hasSubjects</th>\n",
       "    </tr>\n",
       "  </thead>\n",
       "  <tbody>\n",
       "    <tr>\n",
       "      <th>0</th>\n",
       "      <td>3441</td>\n",
       "      <td>National accounts</td>\n",
       "      <td>True</td>\n",
       "      <td>True</td>\n",
       "    </tr>\n",
       "    <tr>\n",
       "      <th>1</th>\n",
       "      <td>3445</td>\n",
       "      <td>General government economy</td>\n",
       "      <td>True</td>\n",
       "      <td>True</td>\n",
       "    </tr>\n",
       "    <tr>\n",
       "      <th>2</th>\n",
       "      <td>3453</td>\n",
       "      <td>Balance of payments and international trade</td>\n",
       "      <td>True</td>\n",
       "      <td>True</td>\n",
       "    </tr>\n",
       "    <tr>\n",
       "      <th>3</th>\n",
       "      <td>3436</td>\n",
       "      <td>Price index</td>\n",
       "      <td>True</td>\n",
       "      <td>True</td>\n",
       "    </tr>\n",
       "    <tr>\n",
       "      <th>4</th>\n",
       "      <td>3438</td>\n",
       "      <td>Consumption</td>\n",
       "      <td>True</td>\n",
       "      <td>True</td>\n",
       "    </tr>\n",
       "    <tr>\n",
       "      <th>5</th>\n",
       "      <td>3439</td>\n",
       "      <td>Property trading</td>\n",
       "      <td>True</td>\n",
       "      <td>True</td>\n",
       "    </tr>\n",
       "    <tr>\n",
       "      <th>6</th>\n",
       "      <td>3448</td>\n",
       "      <td>Exchange rates, interest rates and securities</td>\n",
       "      <td>True</td>\n",
       "      <td>True</td>\n",
       "    </tr>\n",
       "    <tr>\n",
       "      <th>7</th>\n",
       "      <td>3588</td>\n",
       "      <td>Digital payments</td>\n",
       "      <td>True</td>\n",
       "      <td>True</td>\n",
       "    </tr>\n",
       "  </tbody>\n",
       "</table>\n",
       "</div>"
      ],
      "text/plain": [
       "     id                                           desc  active  hasSubjects\n",
       "0  3441                              National accounts    True         True\n",
       "1  3445                     General government economy    True         True\n",
       "2  3453    Balance of payments and international trade    True         True\n",
       "3  3436                                    Price index    True         True\n",
       "4  3438                                    Consumption    True         True\n",
       "5  3439                               Property trading    True         True\n",
       "6  3448  Exchange rates, interest rates and securities    True         True\n",
       "7  3588                               Digital payments    True         True"
      ]
     },
     "execution_count": 19,
     "metadata": {},
     "output_type": "execute_result"
    }
   ],
   "source": [
    "# See the IDs under Economy\n",
    "dst.get_subjects(subjects='3')"
   ]
  },
  {
   "cell_type": "code",
   "execution_count": 20,
   "metadata": {},
   "outputs": [
    {
     "data": {
      "text/html": [
       "<div>\n",
       "<style scoped>\n",
       "    .dataframe tbody tr th:only-of-type {\n",
       "        vertical-align: middle;\n",
       "    }\n",
       "\n",
       "    .dataframe tbody tr th {\n",
       "        vertical-align: top;\n",
       "    }\n",
       "\n",
       "    .dataframe thead th {\n",
       "        text-align: right;\n",
       "    }\n",
       "</style>\n",
       "<table border=\"1\" class=\"dataframe\">\n",
       "  <thead>\n",
       "    <tr style=\"text-align: right;\">\n",
       "      <th></th>\n",
       "      <th>id</th>\n",
       "      <th>desc</th>\n",
       "      <th>active</th>\n",
       "      <th>hasSubjects</th>\n",
       "    </tr>\n",
       "  </thead>\n",
       "  <tbody>\n",
       "    <tr>\n",
       "      <th>0</th>\n",
       "      <td>20515</td>\n",
       "      <td>Key figures for the national accounts (GDP)</td>\n",
       "      <td>True</td>\n",
       "      <td>False</td>\n",
       "    </tr>\n",
       "    <tr>\n",
       "      <th>1</th>\n",
       "      <td>20182</td>\n",
       "      <td>Complete national accounts</td>\n",
       "      <td>True</td>\n",
       "      <td>False</td>\n",
       "    </tr>\n",
       "    <tr>\n",
       "      <th>2</th>\n",
       "      <td>20183</td>\n",
       "      <td>National accounts by industry</td>\n",
       "      <td>True</td>\n",
       "      <td>False</td>\n",
       "    </tr>\n",
       "    <tr>\n",
       "      <th>3</th>\n",
       "      <td>20184</td>\n",
       "      <td>National accounts by sector</td>\n",
       "      <td>True</td>\n",
       "      <td>False</td>\n",
       "    </tr>\n",
       "    <tr>\n",
       "      <th>4</th>\n",
       "      <td>20517</td>\n",
       "      <td>National accounts by region</td>\n",
       "      <td>True</td>\n",
       "      <td>False</td>\n",
       "    </tr>\n",
       "    <tr>\n",
       "      <th>5</th>\n",
       "      <td>20159</td>\n",
       "      <td>Productivity</td>\n",
       "      <td>True</td>\n",
       "      <td>False</td>\n",
       "    </tr>\n",
       "    <tr>\n",
       "      <th>6</th>\n",
       "      <td>20160</td>\n",
       "      <td>Input-output</td>\n",
       "      <td>True</td>\n",
       "      <td>False</td>\n",
       "    </tr>\n",
       "    <tr>\n",
       "      <th>7</th>\n",
       "      <td>20161</td>\n",
       "      <td>Durable consumer goods</td>\n",
       "      <td>False</td>\n",
       "      <td>False</td>\n",
       "    </tr>\n",
       "    <tr>\n",
       "      <th>8</th>\n",
       "      <td>20827</td>\n",
       "      <td>Historical national accounts</td>\n",
       "      <td>True</td>\n",
       "      <td>False</td>\n",
       "    </tr>\n",
       "  </tbody>\n",
       "</table>\n",
       "</div>"
      ],
      "text/plain": [
       "      id                                         desc  active  hasSubjects\n",
       "0  20515  Key figures for the national accounts (GDP)    True        False\n",
       "1  20182                   Complete national accounts    True        False\n",
       "2  20183                National accounts by industry    True        False\n",
       "3  20184                  National accounts by sector    True        False\n",
       "4  20517                  National accounts by region    True        False\n",
       "5  20159                                 Productivity    True        False\n",
       "6  20160                                 Input-output    True        False\n",
       "7  20161                       Durable consumer goods   False        False\n",
       "8  20827                 Historical national accounts    True        False"
      ]
     },
     "execution_count": 20,
     "metadata": {},
     "output_type": "execute_result"
    }
   ],
   "source": [
    "# see the IDs under national accounts\n",
    "dst.get_subjects(subjects='3441')"
   ]
  },
  {
   "cell_type": "code",
   "execution_count": 21,
   "metadata": {},
   "outputs": [
    {
     "data": {
      "text/html": [
       "<div>\n",
       "<style scoped>\n",
       "    .dataframe tbody tr th:only-of-type {\n",
       "        vertical-align: middle;\n",
       "    }\n",
       "\n",
       "    .dataframe tbody tr th {\n",
       "        vertical-align: top;\n",
       "    }\n",
       "\n",
       "    .dataframe thead th {\n",
       "        text-align: right;\n",
       "    }\n",
       "</style>\n",
       "<table border=\"1\" class=\"dataframe\">\n",
       "  <thead>\n",
       "    <tr style=\"text-align: right;\">\n",
       "      <th></th>\n",
       "      <th>id</th>\n",
       "      <th>text</th>\n",
       "      <th>unit</th>\n",
       "      <th>updated</th>\n",
       "      <th>firstPeriod</th>\n",
       "      <th>latestPeriod</th>\n",
       "      <th>active</th>\n",
       "      <th>variables</th>\n",
       "    </tr>\n",
       "  </thead>\n",
       "  <tbody>\n",
       "    <tr>\n",
       "      <th>0</th>\n",
       "      <td>NAH1</td>\n",
       "      <td>0 Goods and services (full sequence)</td>\n",
       "      <td>M dkk</td>\n",
       "      <td>2022-02-28 08:00:00</td>\n",
       "      <td>1966</td>\n",
       "      <td>2021</td>\n",
       "      <td>True</td>\n",
       "      <td>[transaction, price unit, time]</td>\n",
       "    </tr>\n",
       "    <tr>\n",
       "      <th>1</th>\n",
       "      <td>NAHL2</td>\n",
       "      <td>1-2.1.1 Production, GDP and  generation of inc...</td>\n",
       "      <td>M Dkk</td>\n",
       "      <td>2022-02-28 08:00:00</td>\n",
       "      <td>1966</td>\n",
       "      <td>2021</td>\n",
       "      <td>True</td>\n",
       "      <td>[transaction, price unit, time]</td>\n",
       "    </tr>\n",
       "    <tr>\n",
       "      <th>2</th>\n",
       "      <td>NAHL4</td>\n",
       "      <td>5 Rest of the world (ROW) (main table)</td>\n",
       "      <td>Dkk mio.</td>\n",
       "      <td>2022-02-28 08:00:00</td>\n",
       "      <td>1966</td>\n",
       "      <td>2021</td>\n",
       "      <td>True</td>\n",
       "      <td>[transaction, time]</td>\n",
       "    </tr>\n",
       "    <tr>\n",
       "      <th>3</th>\n",
       "      <td>NKH1</td>\n",
       "      <td>0 Goods and services</td>\n",
       "      <td>M dkk</td>\n",
       "      <td>2022-02-28 08:00:00</td>\n",
       "      <td>1990Q1</td>\n",
       "      <td>2021Q4</td>\n",
       "      <td>True</td>\n",
       "      <td>[transaction, price unit, seasonal adjustment,...</td>\n",
       "    </tr>\n",
       "    <tr>\n",
       "      <th>4</th>\n",
       "      <td>NKHO2</td>\n",
       "      <td>1-2.1.1 Production, GDP and  generation of inc...</td>\n",
       "      <td>M Dkk</td>\n",
       "      <td>2022-02-28 08:00:00</td>\n",
       "      <td>1990Q1</td>\n",
       "      <td>2021Q4</td>\n",
       "      <td>True</td>\n",
       "      <td>[transaction, price unit, seasonal adjustment,...</td>\n",
       "    </tr>\n",
       "  </tbody>\n",
       "</table>\n",
       "</div>"
      ],
      "text/plain": [
       "      id                                               text      unit  \\\n",
       "0   NAH1               0 Goods and services (full sequence)     M dkk   \n",
       "1  NAHL2  1-2.1.1 Production, GDP and  generation of inc...     M Dkk   \n",
       "2  NAHL4             5 Rest of the world (ROW) (main table)  Dkk mio.   \n",
       "3   NKH1                               0 Goods and services     M dkk   \n",
       "4  NKHO2  1-2.1.1 Production, GDP and  generation of inc...     M Dkk   \n",
       "\n",
       "              updated firstPeriod latestPeriod  active  \\\n",
       "0 2022-02-28 08:00:00        1966         2021    True   \n",
       "1 2022-02-28 08:00:00        1966         2021    True   \n",
       "2 2022-02-28 08:00:00        1966         2021    True   \n",
       "3 2022-02-28 08:00:00      1990Q1       2021Q4    True   \n",
       "4 2022-02-28 08:00:00      1990Q1       2021Q4    True   \n",
       "\n",
       "                                           variables  \n",
       "0                    [transaction, price unit, time]  \n",
       "1                    [transaction, price unit, time]  \n",
       "2                                [transaction, time]  \n",
       "3  [transaction, price unit, seasonal adjustment,...  \n",
       "4  [transaction, price unit, seasonal adjustment,...  "
      ]
     },
     "execution_count": 21,
     "metadata": {},
     "output_type": "execute_result"
    }
   ],
   "source": [
    "# See the tables under Complete national accounts\n",
    "tables = dst.get_tables(subjects=['20182'])\n",
    "tables.head()"
   ]
  },
  {
   "cell_type": "code",
   "execution_count": 22,
   "metadata": {},
   "outputs": [
    {
     "data": {
      "text/html": [
       "<div>\n",
       "<style scoped>\n",
       "    .dataframe tbody tr th:only-of-type {\n",
       "        vertical-align: middle;\n",
       "    }\n",
       "\n",
       "    .dataframe tbody tr th {\n",
       "        vertical-align: top;\n",
       "    }\n",
       "\n",
       "    .dataframe thead th {\n",
       "        text-align: right;\n",
       "    }\n",
       "</style>\n",
       "<table border=\"1\" class=\"dataframe\">\n",
       "  <thead>\n",
       "    <tr style=\"text-align: right;\">\n",
       "      <th></th>\n",
       "      <th>id</th>\n",
       "      <th>text</th>\n",
       "      <th>elimination</th>\n",
       "      <th>time</th>\n",
       "      <th>values</th>\n",
       "    </tr>\n",
       "  </thead>\n",
       "  <tbody>\n",
       "    <tr>\n",
       "      <th>0</th>\n",
       "      <td>TRANSAKT</td>\n",
       "      <td>transaction</td>\n",
       "      <td>False</td>\n",
       "      <td>False</td>\n",
       "      <td>[{'id': 'P1D', 'text': 'P.1 Output'}, {'id': '...</td>\n",
       "    </tr>\n",
       "    <tr>\n",
       "      <th>1</th>\n",
       "      <td>PRISENHED</td>\n",
       "      <td>price unit</td>\n",
       "      <td>False</td>\n",
       "      <td>False</td>\n",
       "      <td>[{'id': 'V', 'text': 'Current prices'}, {'id':...</td>\n",
       "    </tr>\n",
       "    <tr>\n",
       "      <th>2</th>\n",
       "      <td>Tid</td>\n",
       "      <td>time</td>\n",
       "      <td>False</td>\n",
       "      <td>True</td>\n",
       "      <td>[{'id': '1966', 'text': '1966'}, {'id': '1967'...</td>\n",
       "    </tr>\n",
       "  </tbody>\n",
       "</table>\n",
       "</div>"
      ],
      "text/plain": [
       "          id         text  elimination   time  \\\n",
       "0   TRANSAKT  transaction        False  False   \n",
       "1  PRISENHED   price unit        False  False   \n",
       "2        Tid         time        False   True   \n",
       "\n",
       "                                              values  \n",
       "0  [{'id': 'P1D', 'text': 'P.1 Output'}, {'id': '...  \n",
       "1  [{'id': 'V', 'text': 'Current prices'}, {'id':...  \n",
       "2  [{'id': '1966', 'text': '1966'}, {'id': '1967'...  "
      ]
     },
     "execution_count": 22,
     "metadata": {},
     "output_type": "execute_result"
    }
   ],
   "source": [
    "# Look at the variables in the data set\n",
    "dst.get_variables(table_id = 'NAH1')"
   ]
  },
  {
   "cell_type": "code",
   "execution_count": 23,
   "metadata": {},
   "outputs": [
    {
     "data": {
      "text/html": [
       "<div>\n",
       "<style scoped>\n",
       "    .dataframe tbody tr th:only-of-type {\n",
       "        vertical-align: middle;\n",
       "    }\n",
       "\n",
       "    .dataframe tbody tr th {\n",
       "        vertical-align: top;\n",
       "    }\n",
       "\n",
       "    .dataframe thead th {\n",
       "        text-align: right;\n",
       "    }\n",
       "</style>\n",
       "<table border=\"1\" class=\"dataframe\">\n",
       "  <thead>\n",
       "    <tr style=\"text-align: right;\">\n",
       "      <th></th>\n",
       "      <th>TRANSAKT</th>\n",
       "      <th>PRISENHED</th>\n",
       "      <th>TID</th>\n",
       "      <th>INDHOLD</th>\n",
       "    </tr>\n",
       "  </thead>\n",
       "  <tbody>\n",
       "    <tr>\n",
       "      <th>0</th>\n",
       "      <td>D.21 Taxes on products</td>\n",
       "      <td>2010-prices, chained values</td>\n",
       "      <td>1966</td>\n",
       "      <td>98704</td>\n",
       "    </tr>\n",
       "    <tr>\n",
       "      <th>1</th>\n",
       "      <td>D.21 Taxes on products</td>\n",
       "      <td>Current prices</td>\n",
       "      <td>1966</td>\n",
       "      <td>10260</td>\n",
       "    </tr>\n",
       "    <tr>\n",
       "      <th>2</th>\n",
       "      <td>D.21-D.31 Taxes less subsidies on products</td>\n",
       "      <td>2010-prices, chained values</td>\n",
       "      <td>1966</td>\n",
       "      <td>97473</td>\n",
       "    </tr>\n",
       "    <tr>\n",
       "      <th>3</th>\n",
       "      <td>D.21-D.31 Taxes less subsidies on products</td>\n",
       "      <td>Current prices</td>\n",
       "      <td>1966</td>\n",
       "      <td>8860</td>\n",
       "    </tr>\n",
       "    <tr>\n",
       "      <th>4</th>\n",
       "      <td>D.31 Subsidies on products</td>\n",
       "      <td>2010-prices, chained values</td>\n",
       "      <td>1966</td>\n",
       "      <td>4458</td>\n",
       "    </tr>\n",
       "  </tbody>\n",
       "</table>\n",
       "</div>"
      ],
      "text/plain": [
       "                                     TRANSAKT                    PRISENHED  \\\n",
       "0                      D.21 Taxes on products  2010-prices, chained values   \n",
       "1                      D.21 Taxes on products               Current prices   \n",
       "2  D.21-D.31 Taxes less subsidies on products  2010-prices, chained values   \n",
       "3  D.21-D.31 Taxes less subsidies on products               Current prices   \n",
       "4                  D.31 Subsidies on products  2010-prices, chained values   \n",
       "\n",
       "    TID INDHOLD  \n",
       "0  1966   98704  \n",
       "1  1966   10260  \n",
       "2  1966   97473  \n",
       "3  1966    8860  \n",
       "4  1966    4458  "
      ]
     },
     "execution_count": 23,
     "metadata": {},
     "output_type": "execute_result"
    }
   ],
   "source": [
    "# Fetch the data\n",
    "nah1_true = dst.get_data(table_id = 'NAH1', variables={'TRANSAKT':['*'], 'PRISENHED':['*'], 'TID':['*']})\n",
    "nah1_true.head()"
   ]
  },
  {
   "cell_type": "markdown",
   "metadata": {},
   "source": [
    "**Step 2:** Rename the columns using `columns_dict` and replace data using `var_dict` and `unit_dict`."
   ]
  },
  {
   "cell_type": "code",
   "execution_count": 24,
   "metadata": {},
   "outputs": [
    {
     "data": {
      "text/html": [
       "<div>\n",
       "<style scoped>\n",
       "    .dataframe tbody tr th:only-of-type {\n",
       "        vertical-align: middle;\n",
       "    }\n",
       "\n",
       "    .dataframe tbody tr th {\n",
       "        vertical-align: top;\n",
       "    }\n",
       "\n",
       "    .dataframe thead th {\n",
       "        text-align: right;\n",
       "    }\n",
       "</style>\n",
       "<table border=\"1\" class=\"dataframe\">\n",
       "  <thead>\n",
       "    <tr style=\"text-align: right;\">\n",
       "      <th></th>\n",
       "      <th>variable</th>\n",
       "      <th>unit</th>\n",
       "      <th>year</th>\n",
       "      <th>value</th>\n",
       "    </tr>\n",
       "  </thead>\n",
       "  <tbody>\n",
       "    <tr>\n",
       "      <th>0</th>\n",
       "      <td>D.21 Taxes on products</td>\n",
       "      <td>2010-prices, chained values</td>\n",
       "      <td>1966</td>\n",
       "      <td>98704</td>\n",
       "    </tr>\n",
       "    <tr>\n",
       "      <th>1</th>\n",
       "      <td>D.21 Taxes on products</td>\n",
       "      <td>Current prices</td>\n",
       "      <td>1966</td>\n",
       "      <td>10260</td>\n",
       "    </tr>\n",
       "    <tr>\n",
       "      <th>2</th>\n",
       "      <td>D.21-D.31 Taxes less subsidies on products</td>\n",
       "      <td>2010-prices, chained values</td>\n",
       "      <td>1966</td>\n",
       "      <td>97473</td>\n",
       "    </tr>\n",
       "    <tr>\n",
       "      <th>3</th>\n",
       "      <td>D.21-D.31 Taxes less subsidies on products</td>\n",
       "      <td>Current prices</td>\n",
       "      <td>1966</td>\n",
       "      <td>8860</td>\n",
       "    </tr>\n",
       "    <tr>\n",
       "      <th>4</th>\n",
       "      <td>D.31 Subsidies on products</td>\n",
       "      <td>2010-prices, chained values</td>\n",
       "      <td>1966</td>\n",
       "      <td>4458</td>\n",
       "    </tr>\n",
       "  </tbody>\n",
       "</table>\n",
       "</div>"
      ],
      "text/plain": [
       "                                     variable                         unit  \\\n",
       "0                      D.21 Taxes on products  2010-prices, chained values   \n",
       "1                      D.21 Taxes on products               Current prices   \n",
       "2  D.21-D.31 Taxes less subsidies on products  2010-prices, chained values   \n",
       "3  D.21-D.31 Taxes less subsidies on products               Current prices   \n",
       "4                  D.31 Subsidies on products  2010-prices, chained values   \n",
       "\n",
       "   year  value  \n",
       "0  1966  98704  \n",
       "1  1966  10260  \n",
       "2  1966  97473  \n",
       "3  1966   8860  \n",
       "4  1966   4458  "
      ]
     },
     "execution_count": 24,
     "metadata": {},
     "output_type": "execute_result"
    }
   ],
   "source": [
    "# Rename and replace\n",
    "nah1_true.rename(columns=columns_dict, inplace=True)\n",
    "df = nah1_true.copy()\n",
    "nah1_true.head()"
   ]
  },
  {
   "cell_type": "code",
   "execution_count": 25,
   "metadata": {},
   "outputs": [
    {
     "data": {
      "text/html": [
       "<div>\n",
       "<style scoped>\n",
       "    .dataframe tbody tr th:only-of-type {\n",
       "        vertical-align: middle;\n",
       "    }\n",
       "\n",
       "    .dataframe tbody tr th {\n",
       "        vertical-align: top;\n",
       "    }\n",
       "\n",
       "    .dataframe thead th {\n",
       "        text-align: right;\n",
       "    }\n",
       "</style>\n",
       "<table border=\"1\" class=\"dataframe\">\n",
       "  <thead>\n",
       "    <tr style=\"text-align: right;\">\n",
       "      <th></th>\n",
       "      <th>variable</th>\n",
       "      <th>unit</th>\n",
       "      <th>year</th>\n",
       "      <th>value</th>\n",
       "    </tr>\n",
       "  </thead>\n",
       "  <tbody>\n",
       "    <tr>\n",
       "      <th>0</th>\n",
       "      <td>D.21 Taxes on products</td>\n",
       "      <td>real</td>\n",
       "      <td>1966</td>\n",
       "      <td>98704</td>\n",
       "    </tr>\n",
       "    <tr>\n",
       "      <th>1</th>\n",
       "      <td>D.21 Taxes on products</td>\n",
       "      <td>nominal</td>\n",
       "      <td>1966</td>\n",
       "      <td>10260</td>\n",
       "    </tr>\n",
       "    <tr>\n",
       "      <th>2</th>\n",
       "      <td>D.21-D.31 Taxes less subsidies on products</td>\n",
       "      <td>real</td>\n",
       "      <td>1966</td>\n",
       "      <td>97473</td>\n",
       "    </tr>\n",
       "    <tr>\n",
       "      <th>3</th>\n",
       "      <td>D.21-D.31 Taxes less subsidies on products</td>\n",
       "      <td>nominal</td>\n",
       "      <td>1966</td>\n",
       "      <td>8860</td>\n",
       "    </tr>\n",
       "    <tr>\n",
       "      <th>4</th>\n",
       "      <td>D.31 Subsidies on products</td>\n",
       "      <td>real</td>\n",
       "      <td>1966</td>\n",
       "      <td>4458</td>\n",
       "    </tr>\n",
       "  </tbody>\n",
       "</table>\n",
       "</div>"
      ],
      "text/plain": [
       "                                     variable     unit  year  value\n",
       "0                      D.21 Taxes on products     real  1966  98704\n",
       "1                      D.21 Taxes on products  nominal  1966  10260\n",
       "2  D.21-D.31 Taxes less subsidies on products     real  1966  97473\n",
       "3  D.21-D.31 Taxes less subsidies on products  nominal  1966   8860\n",
       "4                  D.31 Subsidies on products     real  1966   4458"
      ]
     },
     "execution_count": 25,
     "metadata": {},
     "output_type": "execute_result"
    }
   ],
   "source": [
    "# Replace data\n",
    "for key,value in var_dict.items():\n",
    "    nah1_true.variable.replace(key,value,inplace=True)\n",
    "\n",
    "for key,value in unit_dict.items():\n",
    "    nah1_true.unit.replace(key,value,inplace=True)\n",
    "    \n",
    "nah1_true.head()"
   ]
  },
  {
   "cell_type": "code",
   "execution_count": 26,
   "metadata": {},
   "outputs": [
    {
     "data": {
      "text/html": [
       "<div>\n",
       "<style scoped>\n",
       "    .dataframe tbody tr th:only-of-type {\n",
       "        vertical-align: middle;\n",
       "    }\n",
       "\n",
       "    .dataframe tbody tr th {\n",
       "        vertical-align: top;\n",
       "    }\n",
       "\n",
       "    .dataframe thead th {\n",
       "        text-align: right;\n",
       "    }\n",
       "</style>\n",
       "<table border=\"1\" class=\"dataframe\">\n",
       "  <thead>\n",
       "    <tr style=\"text-align: right;\">\n",
       "      <th></th>\n",
       "      <th>variable</th>\n",
       "      <th>unit</th>\n",
       "      <th>year</th>\n",
       "      <th>value</th>\n",
       "    </tr>\n",
       "  </thead>\n",
       "  <tbody>\n",
       "    <tr>\n",
       "      <th>6</th>\n",
       "      <td>Y</td>\n",
       "      <td>real</td>\n",
       "      <td>1966</td>\n",
       "      <td>1089347</td>\n",
       "    </tr>\n",
       "    <tr>\n",
       "      <th>7</th>\n",
       "      <td>Y</td>\n",
       "      <td>nominal</td>\n",
       "      <td>1966</td>\n",
       "      <td>144582</td>\n",
       "    </tr>\n",
       "    <tr>\n",
       "      <th>22</th>\n",
       "      <td>C</td>\n",
       "      <td>real</td>\n",
       "      <td>1966</td>\n",
       "      <td>549491</td>\n",
       "    </tr>\n",
       "    <tr>\n",
       "      <th>23</th>\n",
       "      <td>C</td>\n",
       "      <td>nominal</td>\n",
       "      <td>1966</td>\n",
       "      <td>62576</td>\n",
       "    </tr>\n",
       "    <tr>\n",
       "      <th>24</th>\n",
       "      <td>G</td>\n",
       "      <td>real</td>\n",
       "      <td>1966</td>\n",
       "      <td>171307</td>\n",
       "    </tr>\n",
       "  </tbody>\n",
       "</table>\n",
       "</div>"
      ],
      "text/plain": [
       "   variable     unit  year    value\n",
       "6         Y     real  1966  1089347\n",
       "7         Y  nominal  1966   144582\n",
       "22        C     real  1966   549491\n",
       "23        C  nominal  1966    62576\n",
       "24        G     real  1966   171307"
      ]
     },
     "execution_count": 26,
     "metadata": {},
     "output_type": "execute_result"
    }
   ],
   "source": [
    "# Replace data using the .map() method\n",
    "df['variable'] = df.variable.map(var_dict)\n",
    "df['unit'] = df.unit.map(unit_dict)\n",
    "df[df.variable.notna()].head()"
   ]
  },
  {
   "cell_type": "markdown",
   "metadata": {},
   "source": [
    "**Step 3:** Only keep rows where the variable is in `[Y, C, G, I, X, M]`. Afterwards convert the `value` column to a float."
   ]
  },
  {
   "cell_type": "code",
   "execution_count": 30,
   "metadata": {},
   "outputs": [
    {
     "data": {
      "text/html": [
       "<div>\n",
       "<style scoped>\n",
       "    .dataframe tbody tr th:only-of-type {\n",
       "        vertical-align: middle;\n",
       "    }\n",
       "\n",
       "    .dataframe tbody tr th {\n",
       "        vertical-align: top;\n",
       "    }\n",
       "\n",
       "    .dataframe thead th {\n",
       "        text-align: right;\n",
       "    }\n",
       "</style>\n",
       "<table border=\"1\" class=\"dataframe\">\n",
       "  <thead>\n",
       "    <tr style=\"text-align: right;\">\n",
       "      <th></th>\n",
       "      <th>variable</th>\n",
       "      <th>unit</th>\n",
       "      <th>year</th>\n",
       "      <th>value</th>\n",
       "    </tr>\n",
       "  </thead>\n",
       "  <tbody>\n",
       "    <tr>\n",
       "      <th>6</th>\n",
       "      <td>Y</td>\n",
       "      <td>real</td>\n",
       "      <td>1966</td>\n",
       "      <td>1089347</td>\n",
       "    </tr>\n",
       "    <tr>\n",
       "      <th>7</th>\n",
       "      <td>Y</td>\n",
       "      <td>nominal</td>\n",
       "      <td>1966</td>\n",
       "      <td>144582</td>\n",
       "    </tr>\n",
       "    <tr>\n",
       "      <th>22</th>\n",
       "      <td>C</td>\n",
       "      <td>real</td>\n",
       "      <td>1966</td>\n",
       "      <td>549491</td>\n",
       "    </tr>\n",
       "    <tr>\n",
       "      <th>23</th>\n",
       "      <td>C</td>\n",
       "      <td>nominal</td>\n",
       "      <td>1966</td>\n",
       "      <td>62576</td>\n",
       "    </tr>\n",
       "    <tr>\n",
       "      <th>24</th>\n",
       "      <td>G</td>\n",
       "      <td>real</td>\n",
       "      <td>1966</td>\n",
       "      <td>171307</td>\n",
       "    </tr>\n",
       "  </tbody>\n",
       "</table>\n",
       "</div>"
      ],
      "text/plain": [
       "   variable     unit  year    value\n",
       "6         Y     real  1966  1089347\n",
       "7         Y  nominal  1966   144582\n",
       "22        C     real  1966   549491\n",
       "23        C  nominal  1966    62576\n",
       "24        G     real  1966   171307"
      ]
     },
     "execution_count": 30,
     "metadata": {},
     "output_type": "execute_result"
    }
   ],
   "source": [
    "# d. keep if in var_dict\n",
    "I = False\n",
    "for key,value in var_dict.items():\n",
    "    I = I | (nah1_true.variable == value)\n",
    "nah1_true = nah1_true[I]\n",
    "nah1_true.head()"
   ]
  },
  {
   "cell_type": "code",
   "execution_count": null,
   "metadata": {},
   "outputs": [],
   "source": [
    "# On the data we used the .map() all values not in the dict will be nan, so we can just delete those and its equivalent to above\n",
    "df[df.variable.notna()].head()"
   ]
  },
  {
   "cell_type": "code",
   "execution_count": null,
   "metadata": {},
   "outputs": [],
   "source": [
    "# e. convert values to numeric\n",
    "nah1_true.value = nah1_true.value.astype('float')"
   ]
  },
  {
   "cell_type": "markdown",
   "metadata": {},
   "source": [
    "**Step 4:** Discuss what the following summary statistics show."
   ]
  },
  {
   "cell_type": "code",
   "execution_count": null,
   "metadata": {},
   "outputs": [],
   "source": [
    "# d. summary statistics\n",
    "nah1_true.groupby(['variable','unit']).describe()"
   ]
  },
  {
   "cell_type": "markdown",
   "metadata": {},
   "source": [
    "## Merge with population data from Denmark Statistics"
   ]
  },
  {
   "cell_type": "markdown",
   "metadata": {},
   "source": [
    "Load population data from Denmark Statistics:"
   ]
  },
  {
   "cell_type": "code",
   "execution_count": null,
   "metadata": {},
   "outputs": [],
   "source": [
    "# replicate the steps we did earlier and end up with following code:\n",
    "pop = dst.get_data(table_id = 'FT', variables={'HOVEDDELE':['*'], 'TID':['*']})\n",
    "pop.rename(columns={'TID':'year','INDHOLD':'population'},inplace=True)\n",
    "I = pop.HOVEDDELE == 'All Denmark'\n",
    "pop =  pop.loc[I,['year','population']]\n",
    "pop.head()"
   ]
  },
  {
   "cell_type": "markdown",
   "metadata": {},
   "source": [
    "**Question 1:** Merge the population and the national account data, so there is a new column called `population`. Use the **merge function**."
   ]
  },
  {
   "cell_type": "code",
   "execution_count": null,
   "metadata": {},
   "outputs": [],
   "source": [
    "# use pd.merge (remember you can use shift+tab to see the args)\n",
    "merged_true = pd.merge(nah1_true,pop,how='left',on=['year'])\n",
    "merged_true.tail(10)"
   ]
  },
  {
   "cell_type": "markdown",
   "metadata": {},
   "source": [
    "**Question 2:** Merge the population on again, so there is a new column called `population_alt`. Use the **join method**."
   ]
  },
  {
   "cell_type": "code",
   "execution_count": null,
   "metadata": {},
   "outputs": [],
   "source": [
    "pop_with_index = pop.set_index('year')\n",
    "pop_with_index.rename(columns={'population':'population_alt'},inplace=True)\n",
    "merged_true_with_index = merged_true.set_index('year')\n",
    "merged_true_alt = merged_true_with_index.join(pop_with_index)\n",
    "merged_true_alt.tail(10)"
   ]
  },
  {
   "cell_type": "markdown",
   "metadata": {},
   "source": [
    "## Split-apply-combine-(plot)"
   ]
  },
  {
   "cell_type": "markdown",
   "metadata": {},
   "source": [
    "Consider the following **split-apply-combine-plot:**"
   ]
  },
  {
   "cell_type": "code",
   "execution_count": null,
   "metadata": {},
   "outputs": [],
   "source": [
    "# Calculate the index of the variables\n",
    "# a. split\n",
    "nah1_true_grouped = nah1_true.groupby(['variable','unit'])\n",
    "nah1_true_grouped_first = nah1_true_grouped.value.first()\n",
    "nah1_true_grouped_first.name = 'first'\n",
    "\n",
    "# b. apply\n",
    "nah1_true.set_index(['variable','unit','year'],inplace=True)\n",
    "nah1_true = nah1_true.join(nah1_true_grouped_first,how='left',on=['variable','unit'])\n",
    "nah1_true.reset_index(inplace=True)\n",
    "\n",
    "# c. combine\n",
    "nah1_true['indexed'] = nah1_true['value']/nah1_true['first']\n",
    "\n",
    "# d. plot\n",
    "def plot(df):\n",
    "    df_indexed = df.set_index('year')\n",
    "    I = df_indexed.unit == 'real'\n",
    "    df_indexed[I].groupby(['variable'])['indexed'].plot(legend=True);\n",
    "    \n",
    "plot(nah1_true)"
   ]
  },
  {
   "cell_type": "code",
   "execution_count": null,
   "metadata": {},
   "outputs": [],
   "source": [
    "nah1_true.head()"
   ]
  },
  {
   "cell_type": "markdown",
   "metadata": {},
   "source": [
    "**Question** Implement the same split-apply-combine as above using `transform`."
   ]
  },
  {
   "cell_type": "code",
   "execution_count": null,
   "metadata": {},
   "outputs": [],
   "source": [
    "def first(x): # select the first element in a series\n",
    "    return x.iloc[0]\n",
    "\n",
    "nah1_true_alt = nah1_true.copy()\n",
    "grouped = nah1_true_alt.groupby(['variable','unit'])\n",
    "nah1_true_alt['index_transform'] = grouped['value'].transform(lambda x: x/first(x))\n",
    "nah1_true_alt.head()"
   ]
  },
  {
   "cell_type": "markdown",
   "metadata": {},
   "source": [
    "# Problem: The Housing market\n"
   ]
  },
  {
   "cell_type": "markdown",
   "metadata": {},
   "source": [
    "## Housing data"
   ]
  },
  {
   "cell_type": "markdown",
   "metadata": {},
   "source": [
    "**Note:** The file `data/bm010_parcel.xlsx` has been downloaded from http://rkr.statistikbank.dk/201.\n",
    "\n",
    "**Question:** Go through the cell below and ensure you understand ALL commands."
   ]
  },
  {
   "cell_type": "code",
   "execution_count": null,
   "metadata": {},
   "outputs": [],
   "source": [
    "# a. load data\n",
    "prices = pd.read_excel('data/bm010_parcel.xlsx', skiprows=2)\n",
    "prices.rename(columns={'Unnamed: 2': 'municipality'}, inplace=True)\n",
    "\n",
    "# b. delete columns\n",
    "del prices['Unnamed: 0']\n",
    "del prices['Unnamed: 1']\n",
    "\n",
    "# c. rename time columns: 1992K1 -> price19921\n",
    "time_dict = {} \n",
    "for y in range(1992,2018+1): \n",
    "    for k in range(1,4+1): \n",
    "        str_from = f'{y}K{k}'\n",
    "        str_to   = f'price{y}{k}'\n",
    "        time_dict[str_from] = str_to\n",
    "prices = prices.rename(columns = time_dict)        \n",
    "\n",
    "# d. drop missing\n",
    "prices = prices.dropna()\n",
    "\n",
    "# e. convert to long\n",
    "prices_long = pd.wide_to_long(prices, stubnames='price', i='municipality', j='year_quarter')\n",
    "prices_long.reset_index(inplace=True)\n",
    "\n",
    "# f. drop missing and convert to float\n",
    "I = prices_long.loc[prices_long.price == '..']\n",
    "prices_long.drop(I.index, inplace=True)\n",
    "prices_long.price = prices_long.price.astype('float')\n",
    "\n",
    "# g. create date variable\n",
    "prices_long['d'] = (prices_long.year_quarter.astype(str).str[:4] # grab the year, first four digits\n",
    "          + 'Q' # add the letter Q \n",
    "          + prices_long.year_quarter.astype(str).str[4]) # the quarter (fifth digit)\n",
    "prices_long['date'] = pd.to_datetime(prices_long.d)\n",
    "\n",
    "# h. cleanup \n",
    "del prices_long['year_quarter']\n",
    "del prices_long['d']\n",
    "\n",
    "prices_long.head()"
   ]
  },
  {
   "cell_type": "markdown",
   "metadata": {},
   "source": [
    "## Population data"
   ]
  },
  {
   "cell_type": "markdown",
   "metadata": {},
   "source": [
    "**Question:** Go through the cell below and ensure you understand ALL commands."
   ]
  },
  {
   "cell_type": "code",
   "execution_count": null,
   "metadata": {},
   "outputs": [],
   "source": [
    "# a. load data\n",
    "pop = dst.get_data(table_id='FOLK1A', variables={'Alder':['IALT'], 'CIVILSTAND':['TOT'], 'Køn':['TOT'], 'Tid':['*'], 'OMRÅDE':['*']})\n",
    "\n",
    "# b. drop and rename columns\n",
    "for v in ['ALDER', 'CIVILSTAND', 'KØN']: \n",
    "    del pop[v]\n",
    "pop = pop.rename(columns = {'INDHOLD':'population', 'OMRÅDE': 'municipality'})\n",
    "\n",
    "# c. drop non-municipalities\n",
    "for val in ['Region', 'All']: \n",
    "    I = pop['municipality'].str.contains(val)\n",
    "    pop.drop(pop[I].index, inplace=True)\n",
    "\n",
    "# d. convert to date\n",
    "pop['date'] = pd.to_datetime(pop.TID)\n",
    "del pop['TID']\n",
    "\n",
    "pop.head()"
   ]
  },
  {
   "cell_type": "markdown",
   "metadata": {},
   "source": [
    "## Analysis"
   ]
  },
  {
   "cell_type": "markdown",
   "metadata": {},
   "source": [
    "**Problem:** Analyze the co-variation betwen population growth and house price growth. Reproduce the graphs below. \n",
    "\n",
    "**Hint:** For the second one consider the `agg` method (similar to but different from `transform`, Google it)."
   ]
  },
  {
   "cell_type": "code",
   "execution_count": null,
   "metadata": {
    "tags": []
   },
   "outputs": [],
   "source": [
    "# a. merge\n",
    "full = pd.merge(pop, prices_long, on=['date','municipality'], how='left')\n",
    "full.sort_values(['municipality','date'], inplace=True)\n",
    "\n",
    "# b. take logs\n",
    "full['log_population'] =  np.log(full['population'])\n",
    "full['log_price'] =  np.log(full['price'])\n",
    "\n",
    "# c. figur 1: log differences\n",
    "ax = full.groupby('municipality').diff(1).plot(x = 'log_population', y = 'log_price', kind = 'scatter'); \n",
    "ax.set_xlabel('log difference in population') \n",
    "ax.set_ylabel('log difference in price')\n",
    "\n",
    "# c. figur 2: mean log differences\n",
    "ax = full.groupby('municipality').agg(lambda x: np.mean(x.diff())).plot(x = 'log_population', y = 'log_price', kind = 'scatter'); \n",
    "ax.set_xlabel('within-municipality mean log difference in population')\n",
    "ax.set_ylabel('within-municipality mean log difference in price'); "
   ]
  }
 ],
 "metadata": {
  "kernelspec": {
   "display_name": "Python 3",
   "language": "python",
   "name": "python3"
  },
  "language_info": {
   "codemirror_mode": {
    "name": "ipython",
    "version": 3
   },
   "file_extension": ".py",
   "mimetype": "text/x-python",
   "name": "python",
   "nbconvert_exporter": "python",
   "pygments_lexer": "ipython3",
   "version": "3.8.5"
  },
  "toc-autonumbering": true
 },
 "nbformat": 4,
 "nbformat_minor": 4
}
