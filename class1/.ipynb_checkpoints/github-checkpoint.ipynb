{
 "cells": [
  {
   "cell_type": "markdown",
   "id": "warming-forwarding",
   "metadata": {
    "slideshow": {
     "slide_type": "slide"
    }
   },
   "source": [
    "<img src=\"ku_logo_uk_v.png\" alt=\"drawing\" width=\"130\" style=\"float:right\"/>\n",
    "\n",
    "#  <p style=\"text-align: center;\"><span style=\"color:#2c061f\"> GitHub </span></p>\n",
    "\n",
    "<br>\n"
   ]
  },
  {
   "cell_type": "markdown",
   "id": "american-mason",
   "metadata": {
    "slideshow": {
     "slide_type": "slide"
    }
   },
   "source": [
    "## <p style=\"text-align: center;\"> Important repositories </p>\n",
    "* [NumEcon repository](https://github.com/NumEconCopenhagen)\n",
    "* [Exercise class 2 repository](https://github.com/victorfunch/NumEcon)\n",
    "* [How to make your own NumEcon repository](https://numeconcopenhagen.netlify.app/guides/make-repo/)"
   ]
  },
  {
   "cell_type": "markdown",
   "id": "senior-suggestion",
   "metadata": {
    "slideshow": {
     "slide_type": "slide"
    }
   },
   "source": [
    "## <p style=\"text-align: center;\"> Git syntax </p>\n",
    "One time only:\n",
    "* `git clone url`: Download the git folder onto the specified path. Only needed this one time to establish the connection between your computer and GitHub\n",
    "\n",
    "Before working on your project:\n",
    "* `cd path/git-folder`: Change your directory into the Git-folder\n",
    "* `git fetch`: Download any remote changes (this command does not overwrite)\n",
    "* `git status`: Status of the repository: What are the local and remote changes\n",
    "* `git pull`: Apply the changes to your local folder"
   ]
  },
  {
   "cell_type": "markdown",
   "id": "imposed-puzzle",
   "metadata": {
    "slideshow": {
     "slide_type": "slide"
    }
   },
   "source": [
    "## <p style=\"text-align: center;\"> Git syntax </p>\n",
    "After working on your project:\n",
    "* `git add .`: Add your changes to the history - \"`.`\" means everything\n",
    "* `git status`: Go through your changes\n",
    "* `git commit -m \"I did some serious coding\"`: By commiting you lock in or you commit to the changes. `-m` lets you add a message to the commit.\n",
    "* `git push`: Update the remote repository"
   ]
  }
 ],
 "metadata": {
  "celltoolbar": "Slideshow",
  "kernelspec": {
   "display_name": "Python 3",
   "language": "python",
   "name": "python3"
  },
  "language_info": {
   "codemirror_mode": {
    "name": "ipython",
    "version": 3
   },
   "file_extension": ".py",
   "mimetype": "text/x-python",
   "name": "python",
   "nbconvert_exporter": "python",
   "pygments_lexer": "ipython3",
   "version": "3.8.5"
  }
 },
 "nbformat": 4,
 "nbformat_minor": 5
}
