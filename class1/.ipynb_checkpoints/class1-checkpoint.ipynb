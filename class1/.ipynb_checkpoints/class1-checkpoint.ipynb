{
 "cells": [
  {
   "cell_type": "markdown",
   "id": "warming-forwarding",
   "metadata": {
    "slideshow": {
     "slide_type": "slide"
    }
   },
   "source": [
    "<img src=\"ku_logo_uk_v.png\" alt=\"drawing\" width=\"130\" style=\"float:right\"/>\n",
    "\n",
    "#  <p style=\"text-align: center;\"><span style=\"color:#2c061f\"> Exercise class 1 </span></p>\n",
    "\n",
    "<br>\n",
    "\n",
    "## <span style=\"color:#374045\"> Introduction to Programming and Numerical Analysis </span>\n",
    "\n",
    "### Victor Emil Funch"
   ]
  },
  {
   "cell_type": "markdown",
   "id": "pleased-hostel",
   "metadata": {
    "slideshow": {
     "slide_type": "slide"
    }
   },
   "source": [
    "## <p style=\"text-align: center;\"> Plan for today </p>\n",
    "<br>\n",
    "\n",
    "1. Introduction\n",
    "    * The classes, groups, Microsoft Teams\n",
    "2. DataCamp\n",
    "3. GitHub\n",
    "4. Showcase\n",
    "    * Jupyter Lab, VSCode, Git\n",
    "5. Installation\n",
    "6. Wrap up at 16:55"
   ]
  },
  {
   "cell_type": "markdown",
   "id": "advised-renewal",
   "metadata": {
    "slideshow": {
     "slide_type": "slide"
    }
   },
   "source": [
    "## <p style=\"text-align: center;\"> About me </p>\n",
    "\n",
    "### Student at UCPH\n",
    "* Currently writing my master's thesis\n",
    "* Followed the course two years ago and teached the course last year\n",
    "* Introduction to Social Data Science\n",
    "* Applications of Machine Learning in Economics (seminar)\n",
    "* Advanced Microeconometrics"
   ]
  },
  {
   "cell_type": "markdown",
   "id": "given-seeking",
   "metadata": {
    "slideshow": {
     "slide_type": "slide"
    }
   },
   "source": [
    "## <p style=\"text-align: center;\"> About me </p>\n",
    "\n",
    "### HBS Economics\n",
    "* Python for data structuring and analysis\n",
    "* Python for machine learning\n",
    "    * Natural Language Processing methods applied on jobads\n",
    "    * Wage prediction using algorithms"
   ]
  },
  {
   "cell_type": "markdown",
   "id": "growing-campaign",
   "metadata": {
    "slideshow": {
     "slide_type": "slide"
    }
   },
   "source": [
    "## <p style=\"text-align: center;\"> Exercise classes </p>\n",
    "* Short introduction to the problem set\n",
    "* Workshop\n",
    "* No recap - you have the solutions\n",
    "* Upload of notebook with comments"
   ]
  },
  {
   "cell_type": "markdown",
   "id": "senior-hammer",
   "metadata": {
    "slideshow": {
     "slide_type": "slide"
    }
   },
   "source": [
    "## <p style=\"text-align: center;\"> Exercise plan </p>\n",
    "\n",
    "1. **DataCamp**\n",
    "2. DataCamp\n",
    "3. DataCamp\n",
    "4. Problem Set 1: Solving the consumer problem\n",
    "5. Problem Set 2: Finding the Walras equilibrium in a multi-agent economy \n",
    "6. Work on your inaugural project\n",
    "7. Problem Set 3: Loading and combining data from Denmark Statistics \n",
    "8. Problem Set 4: Analyzing data\n",
    "9. Work on your data project\n",
    "10. Problem Set 5: Writing your own searching and sorting algorithms \n",
    "11. Problem Set 6: Solving the Solow model\n",
    "12. Problem Set 7: Solving the consumer problem with income risk \n",
    "13. Work on your model analysis project\n",
    "14. Work on your model analysis project \n",
    "15. Feedback on model project"
   ]
  },
  {
   "cell_type": "markdown",
   "id": "average-packet",
   "metadata": {
    "slideshow": {
     "slide_type": "slide"
    }
   },
   "source": [
    "## <p style=\"text-align: center;\"> Groups </p>\n",
    "* Strongly encouraged! All projects can be done in fixed groups (maximum of 3)\n",
    "    * Don't have group? No worries! Check absalon\n",
    "* Colloborating on code is a key capability that you can use professionally\n",
    "* The exam is 3x easier"
   ]
  },
  {
   "cell_type": "markdown",
   "id": "serious-savage",
   "metadata": {
    "slideshow": {
     "slide_type": "slide"
    }
   },
   "source": [
    "## <p style=\"text-align: center;\"> Microsoft Teams </p>\n",
    "* You will have the opportunity to follow online\n",
    "    * However, as a 'fly on the wall'\n",
    "* **Need help?:** Write in **Generel** under **Queue**\n",
    "    * Post a comment that your group needs help and I will come to you/write you back if online"
   ]
  },
  {
   "cell_type": "markdown",
   "id": "baking-runner",
   "metadata": {
    "slideshow": {
     "slide_type": "slide"
    }
   },
   "source": [
    "## <p style=\"text-align: center;\"> DataCamp </p>\n",
    "* Deadline: **February 27th 23:59**\n",
    "* Use the link on absalon to create your account\n",
    "* Use your @alumni.ku.dk or @ku.dk mail address\n",
    "* Can be trivial but you will learn a lot"
   ]
  },
  {
   "cell_type": "markdown",
   "id": "american-mason",
   "metadata": {
    "slideshow": {
     "slide_type": "slide"
    }
   },
   "source": [
    "## <p style=\"text-align: center;\"> GitHub </p>\n",
    "* What is Git?\n",
    "* Be careful - merge conflicts sucks and I probably won't be able to help you\n",
    "* [NumEcon repository](https://github.com/NumEconCopenhagen)"
   ]
  },
  {
   "cell_type": "markdown",
   "id": "senior-suggestion",
   "metadata": {
    "slideshow": {
     "slide_type": "slide"
    }
   },
   "source": [
    "## <p style=\"text-align: center;\"> Git syntax </p>\n",
    "* `cd path/git-folder`\n",
    "* One time only: `git clone url`\n",
    "* `git fetch`\n",
    "* `git status`\n",
    "* `git pull`\n",
    "\n",
    "... Working on your project ...\n",
    "\n",
    "* `git add .`\n",
    "* `git commit -m \"I did some serious coding\"`\n",
    "* `git push`"
   ]
  },
  {
   "cell_type": "markdown",
   "id": "compatible-efficiency",
   "metadata": {
    "slideshow": {
     "slide_type": "slide"
    }
   },
   "source": [
    "## <p style=\"text-align: center;\"> Let's have look on Jupyter/VSCode/Git </p>\n"
   ]
  }
 ],
 "metadata": {
  "celltoolbar": "Slideshow",
  "kernelspec": {
   "display_name": "Python 3",
   "language": "python",
   "name": "python3"
  },
  "language_info": {
   "codemirror_mode": {
    "name": "ipython",
    "version": 3
   },
   "file_extension": ".py",
   "mimetype": "text/x-python",
   "name": "python",
   "nbconvert_exporter": "python",
   "pygments_lexer": "ipython3",
   "version": "3.8.5"
  }
 },
 "nbformat": 4,
 "nbformat_minor": 5
}
