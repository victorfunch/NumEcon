{
 "cells": [
  {
   "cell_type": "markdown",
   "id": "warming-forwarding",
   "metadata": {
    "slideshow": {
     "slide_type": "slide"
    }
   },
   "source": [
    "<img src=\"ku_logo_uk_v.png\" alt=\"drawing\" width=\"130\" style=\"float:right\"/>\n",
    "\n",
    "# <span style=\"color:#2c061f\"> Last class :'(</span>  \n",
    "\n",
    "<br>\n",
    "\n",
    "## <span style=\"color:#374045\"> Introduction to Programming and Numerical Analysis </span>"
   ]
  },
  {
   "cell_type": "markdown",
   "id": "e64eee98-4a67-4945-9e43-28ff8240b26a",
   "metadata": {
    "slideshow": {
     "slide_type": "slide"
    }
   },
   "source": [
    "## What can you expect of the exam?  \n",
    "Will consist of 3 parts, but what 3 parts?  \n",
    "\n",
    "**2021 exam**:  \n",
    "1. Logit Model (**estimate using maximum likelihood estimator**)   \n",
    "2. Consumption saving with borrowing (**dynamic model**)  \n",
    "3. Division by Newtons method (**algorithm**)  \n",
    "\n",
    "**2020 exam**:  \n",
    "1. Linear Regression (**estimate using various estimators**)   \n",
    "2. Durable Purchases (**dynamic model**)  \n",
    "3. Gradient descent (**algorithm**)  \n",
    "\n",
    "**2019 exam**:\n",
    "1. Human capital accumulation (**dynamic model**)  \n",
    "2. AS-AD model   \n",
    "3. Exchange economy  "
   ]
  },
  {
   "cell_type": "markdown",
   "id": "7390bef4-2a92-45a6-9859-63bca6aff18a",
   "metadata": {
    "slideshow": {
     "slide_type": "slide"
    }
   },
   "source": [
    "## Preparing for the exam  \n",
    "Solve (or look at) previous exams. This will give you a good idea of what's to be expected of you.  \n",
    "[Old exams (and their solutions) are available online](https://web3.econ.ku.dk/polit/studerende/eksamen/opgrv/cms-ku/english.asp?del=kand&fag_id=281&fagnavn=Introduction%20to%20Programming%20and%20Numerical%20Analysis)  \n",
    "\n",
    "Try to get an overview of which Lecture, PS or old exams might serve as inpsiration for different problems.  \n",
    "\n",
    "**For example**:  \n",
    "Historically speaking there's a good chance of meeting a dynamic model in the exam.  \n",
    "**Dynamic models can be quite a mouthful**.  \n",
    "Its a very good idea to have some sort of idea how these are solved.  \n",
    "In the second part of PS7 you are tasked with solving dynamic models.\n",
    "Therefore I **highly** recommend that you look at the **second part of PS7** *prior to the exam*. \n"
   ]
  },
  {
   "cell_type": "markdown",
   "id": "common-istanbul",
   "metadata": {
    "slideshow": {
     "slide_type": "slide"
    }
   },
   "source": [
    "## How you can go about the exam  \n",
    "**Speed-run**:\n",
    "1) Spend the first moments **discussing** what could be the approach of each part.   \n",
    "This was done by sharing experience and *digging out the Lectures, Problem Sets and previous exam solutions* which could serve as **inpsiration** for the different parts.  \n",
    "2) **Divide the responsibility** such that each member were responsible for the part in which they were most confident.  \n",
    "3) Work in **3 individual notebooks** wherein each part is solved independently.  \n",
    "These notebooks were merged into one notebook at the end.  \n",
    "Note that this can become a mess if you use the same variable names!!  \n",
    "\n",
    "If you think the different exam parts look alien, then it's probably best that you solve each part together.  \n",
    "Be careful that you wont become too many chefs in the kitchen :)  \n",
    "Its 48 hours, no *need to speedrun*.\n",
    "\n",
    "Remember its 48 hours - sometimes epiphanies appear during a break.\n",
    "\n",
    "\n"
   ]
  },
  {
   "cell_type": "code",
   "execution_count": null,
   "id": "outside-roulette",
   "metadata": {},
   "outputs": [],
   "source": []
  },
  {
   "cell_type": "markdown",
   "id": "12cb691d-9227-482b-9689-34aa763e4bef",
   "metadata": {
    "slideshow": {
     "slide_type": "slide"
    },
    "tags": []
   },
   "source": [
    "## Questions?"
   ]
  }
 ],
 "metadata": {
  "celltoolbar": "Slideshow",
  "kernelspec": {
   "display_name": "Python 3",
   "language": "python",
   "name": "python3"
  },
  "language_info": {
   "codemirror_mode": {
    "name": "ipython",
    "version": 3
   },
   "file_extension": ".py",
   "mimetype": "text/x-python",
   "name": "python",
   "nbconvert_exporter": "python",
   "pygments_lexer": "ipython3",
   "version": "3.8.5"
  }
 },
 "nbformat": 4,
 "nbformat_minor": 5
}
