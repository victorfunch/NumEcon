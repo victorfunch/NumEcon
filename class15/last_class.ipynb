{
 "cells": [
  {
   "cell_type": "markdown",
   "id": "80404b42",
   "metadata": {
    "slideshow": {
     "slide_type": "slide"
    }
   },
   "source": [
    "<img src=\"ku_logo_uk_v.png\" alt=\"drawing\" width=\"130\" style=\"float:right\"/>\n",
    "\n",
    "# <span style=\"color:#2c061f\"> Last class</span>  \n",
    "\n",
    "<br>\n",
    "\n",
    "## <span style=\"color:#374045\"> Introduction to Programming and Numerical Analysis </span>\n"
   ]
  },
  {
   "cell_type": "markdown",
   "id": "f77544ce",
   "metadata": {
    "slideshow": {
     "slide_type": "subslide"
    }
   },
   "source": [
    "# How to prepare for the exam (suggestion)\n",
    "\n",
    "* Go through the lectures and figure out your weak spots. \n",
    "* Once you know the weak spots, solve the exercises related to those (without aid) \n",
    "* Solve and understand everything in PS7! \n",
    "* **Work your way through previous exams.** It always help to get a feel for the structure. \n",
    "* Revise your old projects! They may be able to save salvage a \"bad\" exam. "
   ]
  },
  {
   "cell_type": "markdown",
   "id": "a543f8a7",
   "metadata": {},
   "source": [
    "## What can you expect of the exam?  \n",
    "Will consist of 3 parts, but what 3 parts?  \n",
    "\n",
    "**2021 exam**:  \n",
    "1. Logit Model (**estimate using maximum likelihood estimator**)   \n",
    "2. Consumption saving with borrowing (**dynamic model**)  \n",
    "3. Division by Newtons method (**algorithm**)  \n",
    "\n",
    "**2020 exam**:  \n",
    "1. Linear Regression (**estimate using various estimators**)   \n",
    "2. Durable Purchases (**dynamic model**)  \n",
    "3. Gradient descent (**algorithm**)  \n",
    "\n",
    "**2019 exam**:\n",
    "1. Human capital accumulation (**dynamic model**)  \n",
    "2. AS-AD model   \n",
    "3. Exchange economy  "
   ]
  },
  {
   "cell_type": "markdown",
   "id": "1c49e11f",
   "metadata": {},
   "source": [
    "# At the exam\n",
    "\n",
    "One approach could be:\n",
    "\n",
    "1) Spend the first moments **discussing** what could be the approach of each part. Dig into the Lectures, Problem Sets and previous exam solutions for inspiration. \n",
    "\n",
    "2) **Divide the responsibility** such that each member are responsible for the part in which they are most confident. \n",
    "\n",
    "\n",
    "3) Work in **individual notebooks** wherein each part is solved independently.\n",
    "\n",
    "*Note that this can become a mess if you use the same variable names!!* "
   ]
  },
  {
   "cell_type": "markdown",
   "id": "higher-shanghai",
   "metadata": {},
   "source": [
    "# \n",
    "\n",
    "* **Restart Kernel and Run All Cells**. \n",
    "\n",
    "* First impressions also applies to coding. Keep your notebook clean! Spend time on your figures and structure. \n",
    "\n",
    "* Seek knowledge, but do not steal knowledge.\n",
    "\n",
    "* Remember its 48 hours - sometimes epiphanies appear during a break."
   ]
  },
  {
   "cell_type": "markdown",
   "id": "8e2608bd",
   "metadata": {
    "slideshow": {
     "slide_type": "subslide"
    }
   },
   "source": [
    "# How to hand in\n",
    "\n",
    "* Download your repository as a zip-file from GitHub\n",
    "* Create a new folder titled \"exam\" within this folder"
   ]
  },
  {
   "cell_type": "markdown",
   "id": "eb28eadd",
   "metadata": {
    "slideshow": {
     "slide_type": "subslide"
    }
   },
   "source": [
    "\n",
    "<br>\n",
    "\n",
    "## <span style=\"color:#374045\"> Questions? </span>\n",
    "\n",
    "####  <span style=\"color:#374045\"> <br> Is an requirement to write out who was responsible for what? </span>\n",
    "####  <span style=\"color:#374045\"> <br> Is the evaluation different depending on the size of the group? </span>"
   ]
  }
 ],
 "metadata": {
  "celltoolbar": "Slideshow",
  "kernelspec": {
   "display_name": "Python 3",
   "language": "python",
   "name": "python3"
  },
  "language_info": {
   "codemirror_mode": {
    "name": "ipython",
    "version": 3
   },
   "file_extension": ".py",
   "mimetype": "text/x-python",
   "name": "python",
   "nbconvert_exporter": "python",
   "pygments_lexer": "ipython3",
   "version": "3.8.5"
  }
 },
 "nbformat": 4,
 "nbformat_minor": 5
}
