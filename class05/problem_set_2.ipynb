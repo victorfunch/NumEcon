{
 "cells": [
  {
   "cell_type": "markdown",
   "metadata": {},
   "source": [
    "# Problem set 2: Finding the Walras equilibrium in a multi-agent economy"
   ]
  },
  {
   "cell_type": "markdown",
   "metadata": {},
   "source": [
    "[<img src=\"https://mybinder.org/badge_logo.svg\">](https://mybinder.org/v2/gh/NumEconCopenhagen/exercises-2020/master?urlpath=lab/tree/PS2/problem_set_2.ipynb)"
   ]
  },
  {
   "cell_type": "code",
   "execution_count": 1,
   "metadata": {},
   "outputs": [],
   "source": [
    "%load_ext autoreload\n",
    "%autoreload 2"
   ]
  },
  {
   "cell_type": "markdown",
   "metadata": {},
   "source": [
    "# Tasks"
   ]
  },
  {
   "cell_type": "markdown",
   "metadata": {},
   "source": [
    "## Drawing random numbers"
   ]
  },
  {
   "cell_type": "markdown",
   "metadata": {},
   "source": [
    "Replace the missing lines in the code below to get the same output as in the answer."
   ]
  },
  {
   "cell_type": "code",
   "execution_count": 2,
   "metadata": {},
   "outputs": [
    {
     "name": "stdout",
     "output_type": "stream",
     "text": [
      "(0,0): x = 0.569\n",
      "(0,1): x = 0.077\n",
      "(1,0): x = 0.569\n",
      "(1,1): x = 0.077\n",
      "(2,0): x = 0.569\n",
      "(2,1): x = 0.077\n"
     ]
    }
   ],
   "source": [
    "import numpy as np\n",
    "np.random.seed(1986)\n",
    "state = np.random.get_state()\n",
    "for i in range(3):\n",
    "    np.random.set_state(state)\n",
    "    for j in range(2):\n",
    "        x = np.random.uniform()\n",
    "        print(f'({i},{j}): x = {x:.3f}')"
   ]
  },
  {
   "cell_type": "markdown",
   "metadata": {},
   "source": [
    "## Find the expectated value"
   ]
  },
  {
   "cell_type": "markdown",
   "metadata": {},
   "source": [
    "Find the expected value and the expected variance\n",
    "\n",
    "$$ \n",
    "\\mathbb{E}[g(x)] \\approx \\frac{1}{N}\\sum_{i=1}^{N} g(x_i)\n",
    "$$\n",
    "$$ \n",
    "\\mathbb{VAR}[g(x)] \\approx \\frac{1}{N}\\sum_{i=1}^{N} \\left( g(x_i) - \\frac{1}{N}\\sum_{i=1}^{N} g(x_i) \\right)^2\n",
    "$$\n",
    "\n",
    "where $ x_i \\sim \\mathcal{N}(0,\\sigma) $ and\n",
    "\n",
    "$$ \n",
    "g(x,\\omega)=\\begin{cases}\n",
    "x & \\text{if }x\\in[-\\omega,\\omega]\\\\\n",
    "-\\omega & \\text{if }x<-\\omega\\\\\n",
    "\\omega & \\text{if }x>\\omega\n",
    "\\end{cases} \n",
    "$$"
   ]
  },
  {
   "cell_type": "code",
   "execution_count": 3,
   "metadata": {},
   "outputs": [
    {
     "name": "stdout",
     "output_type": "stream",
     "text": [
      "mean = -0.00264, var = 2.69804\n"
     ]
    }
   ],
   "source": [
    "# a. parameter choices\n",
    "sigma = 3.14\n",
    "omega = 2\n",
    "N = 10000\n",
    "np.random.seed(1986)\n",
    "\n",
    "# b. draw random numbers\n",
    "x = np.random.normal(loc=0, scale=sigma, size=N) # array of N draws\n",
    "\n",
    "# c. transformation function\n",
    "def g(x, omega):\n",
    "    y = x.copy()\n",
    "    # if x < than -omega then y is equal to -omega\n",
    "    y[x < -omega] = -omega\n",
    "    # if x > than omega then y is equal to omega\n",
    "    y[x > omega] = omega\n",
    "    return y\n",
    "\n",
    "# d. mean and variance\n",
    "mean = np.mean(g(x, omega)) # use numpy's function\n",
    "var = np.var(g(x-mean, omega)) # use numpy's function, here x is deameaned for some reason\n",
    "print(f'mean = {mean:.5f}, var = {var:.5f}')"
   ]
  },
  {
   "cell_type": "markdown",
   "metadata": {},
   "source": [
    "## Interactive histogram"
   ]
  },
  {
   "cell_type": "markdown",
   "metadata": {},
   "source": [
    "**First task:** Consider the code below. Fill in the missing lines so the figure is plotted."
   ]
  },
  {
   "cell_type": "markdown",
   "metadata": {},
   "source": [
    "**Second task:** Create an interactive version of the figure with sliders for $\\mu$ and $\\sigma$."
   ]
  },
  {
   "cell_type": "code",
   "execution_count": 4,
   "metadata": {},
   "outputs": [
    {
     "data": {
      "application/vnd.jupyter.widget-view+json": {
       "model_id": "4f83905a77af4b10928a786b56cd5d8c",
       "version_major": 2,
       "version_minor": 0
      },
      "text/plain": [
       "interactive(children=(FloatSlider(value=1.0, description='$\\\\mu$', max=5.0, min=0.1, step=0.05), FloatSlider(v…"
      ]
     },
     "metadata": {},
     "output_type": "display_data"
    },
    {
     "data": {
      "text/plain": [
       "<function __main__.fitting_normal(X, mu_guess, sigma_guess)>"
      ]
     },
     "execution_count": 4,
     "metadata": {},
     "output_type": "execute_result"
    }
   ],
   "source": [
    "# a. import\n",
    "import ipywidgets as widgets\n",
    "from scipy.stats import norm\n",
    "import matplotlib.pyplot as plt\n",
    "import numpy as np\n",
    "%matplotlib inline\n",
    "\n",
    "# b. plotting figure\n",
    "# The normal figure syntax\n",
    "def fitting_normal(X, mu_guess, sigma_guess):\n",
    "\n",
    "    # i. normal distribution from guess\n",
    "    F = norm(loc=mu_guess, scale=sigma_guess)\n",
    "\n",
    "    # ii. x-values\n",
    "    x_low = F.ppf(0.001)  # x value where cdf is 0.001\n",
    "    x_high = F.ppf(0.999)  # x value where cdf is 0.999\n",
    "    x = np.linspace(x_low, x_high, 100)\n",
    "\n",
    "    # iii. figure\n",
    "    fig = plt.figure(dpi=100) # assign fig to be a matplotlib figure\n",
    "    ax = fig.add_subplot(1, 1, 1) # create the subplot (\"canvas\")\n",
    "    ax.plot(x, F.pdf(x), lw=2) # add the plots\n",
    "    ax.hist(X, bins=100, density=True, histtype='stepfilled') # add the plots\n",
    "    ax.set_ylim([0, 0.5]) # control axis\n",
    "    ax.set_xlim([-6, 6]) # control axis\n",
    "\n",
    "\n",
    "# c. parameters\n",
    "mu_true = 2\n",
    "sigma_true = 1\n",
    "mu_guess = 1\n",
    "sigma_guess = 2\n",
    "\n",
    "# d. figure\n",
    "X = np.random.normal(loc=mu_true, scale=sigma_true, size=10**6)\n",
    "\n",
    "widgets.interact(fitting_normal # the figure function\n",
    "                 # input in the figure function must be specified\n",
    "                 , X = widgets.fixed(X) # X is fixed\n",
    "                 , mu_guess=widgets.FloatSlider(description=\"$\\mu$\", min=0.1, max=5, step=0.05, value=1) # mu_guess is a slider\n",
    "                 , sigma_guess=widgets.FloatSlider(description=\"$\\sigma$\", min=0.1, max=5, step=0.05, value=1) # sigma_guess is a slider\n",
    ")"
   ]
  },
  {
   "cell_type": "markdown",
   "metadata": {},
   "source": [
    "## Modules"
   ]
  },
  {
   "cell_type": "markdown",
   "metadata": {},
   "source": [
    "1. Call the function `myfun` from the module `mymodule` present in this folder.\n",
    "2. Open VSCode and open the `mymodule.py`, add a new function and call it from this notebook."
   ]
  },
  {
   "cell_type": "code",
   "execution_count": 5,
   "metadata": {},
   "outputs": [
    {
     "name": "stdout",
     "output_type": "stream",
     "text": [
      "hello world!\n",
      "hello world!\n",
      "24 144\n"
     ]
    }
   ],
   "source": [
    "import mymodule # import the python file mymodule - all functions inside will be callable:\n",
    "mymodule.myfun(2) # calling the myfun function with input 2 - prints hello world! x 2\n",
    "# I made function that takes to numbers and calculates the sum and product\n",
    "_sum, _product = mymodule.quick_math(12,12) # as it returns two values to variables must be assigned\n",
    "print(_sum, _product)"
   ]
  },
  {
   "cell_type": "markdown",
   "metadata": {},
   "source": [
    "## Git"
   ]
  },
  {
   "cell_type": "markdown",
   "metadata": {},
   "source": [
    "1. Try to go to your own personal GitHub main page and create a new repository. Then put your solution to this problem set in it.\n",
    "2. Pair up with a fellow student. Clone each others repositories and run the code in them."
   ]
  },
  {
   "cell_type": "markdown",
   "metadata": {},
   "source": [
    "**IMPORTANT:** You will need **git** for the data project in a few needs. Better learn it know. Remember, that the teaching assistants are there to help you."
   ]
  },
  {
   "cell_type": "markdown",
   "metadata": {},
   "source": [
    "# Problem"
   ]
  },
  {
   "cell_type": "markdown",
   "metadata": {},
   "source": [
    "Consider an **exchange economy** with\n",
    "\n",
    "1. 2 goods, $(x_1,x_2)$\n",
    "2. $N$ consumers indexed by $j \\in \\{1,2,\\dots,N\\}$\n",
    "3. Preferences are Cobb-Douglas with truncated normally *heterogenous* coefficients\n",
    "\n",
    "    $$\n",
    "    \\begin{aligned}\n",
    "    u^{j}(x_{1},x_{2}) & = x_{1}^{\\alpha_{j}}x_{2}^{1-\\alpha_{j}}\\\\\n",
    "     & \\tilde{\\alpha}_{j}\\sim\\mathcal{N}(\\mu,\\sigma)\\\\\n",
    "     & \\alpha_j = \\max(\\underline{\\mu},\\min(\\overline{\\mu},\\tilde{\\alpha}_{j}))\n",
    "    \\end{aligned}\n",
    "    $$\n",
    "\n",
    "4. Endowments are *heterogenous* and given by\n",
    "\n",
    "    $$\n",
    "    \\begin{aligned}\n",
    "    \\boldsymbol{e}^{j}&=(e_{1}^{j},e_{2}^{j}) \\\\\n",
    "     &  & e_i^j \\sim f, f(x,\\beta_i) =  1/\\beta_i \\exp(-x/\\beta)\n",
    "    \\end{aligned}\n",
    "    $$"
   ]
  },
  {
   "cell_type": "markdown",
   "metadata": {},
   "source": [
    "**Problem:** Write a function to solve for the equilibrium."
   ]
  },
  {
   "cell_type": "markdown",
   "metadata": {},
   "source": [
    "You can use the following parameters:"
   ]
  },
  {
   "cell_type": "markdown",
   "metadata": {},
   "source": [
    "**Hint:** The code structure is exactly the same as for the exchange economy considered in the lecture. The code for solving that exchange economy is reproduced in condensed form below."
   ]
  },
  {
   "cell_type": "code",
   "execution_count": 6,
   "metadata": {},
   "outputs": [
    {
     "name": "stdout",
     "output_type": "stream",
     "text": [
      "  0: p1 =   1.45140633 -> excess demand ->  1028.12662815\n",
      "  1: p1 =   1.48943510 -> excess demand ->   760.57530384\n",
      "  2: p1 =   1.51816180 -> excess demand ->   574.53408777\n",
      "  3: p1 =   1.54017076 -> excess demand ->   440.17912761\n",
      "  4: p1 =   1.55720246 -> excess demand ->   340.63398830\n",
      "   ...\n",
      " 25: p1 =   1.62002594 -> excess demand ->     2.71044780\n",
      " 50: p1 =   1.62056127 -> excess demand ->     0.00980814\n",
      " 75: p1 =   1.62056320 -> excess demand ->     0.00003553\n",
      "100: p1 =   1.62056321 -> excess demand ->     0.00000013\n",
      "112: p1 =   1.62056321 -> excess demand ->     0.00000001\n"
     ]
    }
   ],
   "source": [
    "# a. parameters\n",
    "N = 10000\n",
    "mu = 0.5\n",
    "sigma = 0.2\n",
    "mu_low = 0.1\n",
    "mu_high = 0.9\n",
    "beta1 = 1.3\n",
    "beta2 = 2.1\n",
    "seed = 1986\n",
    "\n",
    "# b. draws of random numbers\n",
    "np.random.seed(seed)\n",
    "alphas = np.random.normal(loc=mu, scale=sigma, size=N)\n",
    "alphas = np.fmax(np.fmin(alphas, mu_high), mu_low)\n",
    "e1 = np.random.exponential(beta1, size=N)\n",
    "e2 = np.random.exponential(beta2, size=N)\n",
    "\n",
    "# c. demand function\n",
    "def demand_good_1_func(alpha, p1, p2, e1, e2):\n",
    "    I = p1*e1+p2*e2\n",
    "    return alpha*I/p1 # for Cobb-Douglas preferences this is the demand - check for yourselves\n",
    "\n",
    "# d. excess demand function\n",
    "def excess_demand_good_1_func(alphas, p1, p2, e1, e2):\n",
    "\n",
    "    # a. demand\n",
    "    demand = np.sum(demand_good_1_func(alphas, p1, p2, e1, e2)) # calculate agregate demand\n",
    "\n",
    "    # b. supply\n",
    "    supply = np.sum(e1) # aggregate supply\n",
    "\n",
    "    # c. excess demand\n",
    "    excess_demand = demand-supply # excess demand - this we use for our optimization condition\n",
    "\n",
    "    return excess_demand\n",
    "\n",
    "# e. find equilibrium function\n",
    "def find_equilibrium(alphas, p1, p2, e1, e2, kappa=0.5, eps=1e-8, maxiter=500):\n",
    "\n",
    "    t = 0 # number of iterations\n",
    "    while True: # infinite loop - run until `break` is passed - like \"for i in infinity:\"\n",
    "\n",
    "        # a. step 1: excess demand\n",
    "        Z1 = excess_demand_good_1_func(alphas, p1, p2, e1, e2) # excess demand is stored in Z1\n",
    "\n",
    "        # if Z1 is close enough to our tolerance eps then break the loop -> optimum is found if excess demand is zero\n",
    "        if np.abs(Z1) < eps or t >= maxiter:\n",
    "            print(f'{t:3d}: p1 = {p1:12.8f} -> excess demand -> {Z1:14.8f}') # print the equilibirum\n",
    "            break\n",
    "\n",
    "        # c. step 3: update p1\n",
    "        p1 = p1 + kappa*Z1/alphas.size # heuristic update - we keep changing the price untill excess demand is zero\n",
    "\n",
    "        # d. step 4: return # how far is the algorithm?\n",
    "        if t < 5 or t % 25 == 0: # print the first five and each 25th iterations\n",
    "            print(f'{t:3d}: p1 = {p1:12.8f} -> excess demand -> {Z1:14.8f}') # print the progress\n",
    "        elif t == 5:\n",
    "            print('   ...')\n",
    "        \n",
    "        # increment t and loops starts over\n",
    "        t += 1\n",
    "\n",
    "    return p1\n",
    "\n",
    "\n",
    "# f. call find equilibrium function\n",
    "p1 = 1.4\n",
    "p2 = 1\n",
    "kappa = 0.5\n",
    "eps = 1e-8\n",
    "p1 = find_equilibrium(alphas, p1, p2, e1, e2, kappa=kappa, eps=eps)"
   ]
  },
  {
   "cell_type": "markdown",
   "metadata": {},
   "source": [
    "## Save and load"
   ]
  },
  {
   "cell_type": "markdown",
   "metadata": {},
   "source": [
    "Consider the code below and fill in the missing lines so the code can run without any errors."
   ]
  },
  {
   "cell_type": "code",
   "execution_count": 8,
   "metadata": {},
   "outputs": [
    {
     "name": "stdout",
     "output_type": "stream",
     "text": [
      "variables loaded without error\n"
     ]
    }
   ],
   "source": [
    "import pickle\n",
    "\n",
    "# a. create some data\n",
    "# create a dictionary\n",
    "my_data = {}\n",
    "my_data['A'] = {'a': 1, 'b': 2}\n",
    "my_data['B'] = np.array([1, 2, 3])\n",
    "my_data['C'] = (1, 4, 2)\n",
    "\n",
    "# create a dictionary\n",
    "my_np_data = {}\n",
    "my_np_data['D'] = np.array([1, 2, 3])\n",
    "my_np_data['E'] = np.zeros((5, 8))\n",
    "my_np_data['F'] = np.ones((7, 3, 8))\n",
    "\n",
    "# c. save with pickle module\n",
    "# Pickle takes the data and makes it into a stream of bytes\n",
    "# in this case a stream of binary bytes as 'wb' = write binary\n",
    "with open(f'data.p', 'wb') as f:\n",
    "    pickle.dump(my_data, f)\n",
    "\n",
    "# d. save with numpy\n",
    "np.savez(f'data.npz', **my_np_data) # can be saved with numpy\n",
    "\n",
    "# a. try\n",
    "# syntax for loading data\n",
    "def load_and_print():\n",
    "    with open(f'data.p', 'rb') as f:\n",
    "        data = pickle.load(f)\n",
    "        A = data['A']\n",
    "        B = data['B']\n",
    "        C = data['C']\n",
    "\n",
    "    with np.load(f'data.npz') as data:\n",
    "        D = data['D']\n",
    "        E = data['E']\n",
    "        F = data['F']\n",
    "\n",
    "    print('variables loaded without error')\n",
    "\n",
    "\n",
    "try:\n",
    "    load_and_print()\n",
    "except:\n",
    "    print('an error is found')"
   ]
  },
  {
   "cell_type": "markdown",
   "metadata": {},
   "source": [
    "# Extra Problems"
   ]
  },
  {
   "cell_type": "markdown",
   "metadata": {},
   "source": [
    "## Multiple goods"
   ]
  },
  {
   "cell_type": "markdown",
   "metadata": {},
   "source": [
    "Solve the main problem extended with multiple goods:"
   ]
  },
  {
   "cell_type": "markdown",
   "metadata": {},
   "source": [
    "$$\n",
    "\\begin{aligned}\n",
    "u^{j}(x_{1},x_{2}) & = x_{1}^{\\alpha^1_{j}} \\cdot x_{2}^{\\alpha^2_{j}} \\cdots x_{M}^{\\alpha^M_{j}}\\\\\n",
    " &  \\alpha_j = [\\alpha^1_{j},\\alpha^2_{j},\\dots,\\alpha^M_{j}] \\\\\n",
    " &  \\log(\\alpha_j) \\sim \\mathcal{N}(0,\\Sigma) \\\\\n",
    "\\end{aligned}\n",
    "$$\n",
    "\n",
    "where $\\Sigma$ is a valid covariance matrix."
   ]
  },
  {
   "cell_type": "code",
   "execution_count": 9,
   "metadata": {},
   "outputs": [
    {
     "name": "stdout",
     "output_type": "stream",
     "text": [
      "[[ 1.3125  0.375   0.25  ]\n",
      " [ 0.375   1.25   -0.5   ]\n",
      " [ 0.25   -0.5     1.    ]]\n",
      "[1.89820099 1.90231575 1.64603366]\n",
      "[[ 1.          0.17369157  0.11477933]\n",
      " [ 0.17369157  1.         -0.17763688]\n",
      " [ 0.11477933 -0.17763688  1.        ]]\n"
     ]
    }
   ],
   "source": [
    "# a. choose parameters\n",
    "N = 10000\n",
    "J = 3\n",
    "\n",
    "# b. choose Sigma\n",
    "Sigma_lower = np.array([[1, 0, 0], [0.5, 1, 0], [0.25, -0.5, 1]])\n",
    "Sigma_upper = Sigma_lower.T\n",
    "Sigma = Sigma_upper@Sigma_lower\n",
    "print(Sigma)\n",
    "\n",
    "# c. draw random numbers\n",
    "alphas = np.exp(np.random.multivariate_normal(np.zeros(J), Sigma, 10000))\n",
    "print(np.mean(alphas,axis=0))\n",
    "print(np.corrcoef(alphas.T))"
   ]
  },
  {
   "cell_type": "code",
   "execution_count": 14,
   "metadata": {},
   "outputs": [],
   "source": [
    "# a. choose parameters\n",
    "N = 10000\n",
    "J = 4\n",
    "p_guess = np.ones(J)\n",
    "# b. choose Sigma\n",
    "Sigma_lower = np.array([[1, 0, 0,0], [0.5, 1, 0,0], [0.25, -0.5, 1, 0], [0.5, -0.5, -0.2, 1]])\n",
    "Sigma_upper = Sigma_lower.T\n",
    "Sigma = Sigma_upper@Sigma_lower\n",
    "#print(Sigma)\n",
    "\n",
    "# c. draw random numbers\n",
    "np.random.seed(3)\n",
    "alphas = np.exp(np.random.multivariate_normal(np.zeros(J), Sigma, N))\n",
    "#print(np.mean(alphas,axis=0))\n",
    "#print(np.corrcoef(alphas.T))\n",
    "\n",
    "# Before we created the endowments as two vectors with beta as scale:\n",
    "# e1 = np.random.exponential(beta1, size=N)\n",
    "# e2 = np.random.exponential(beta2, size=N)\n",
    "# Now we create a matrix of endowments with a vector of betas as the scale:\n",
    "beta_vec = np.random.uniform(1,3,size=J)\n",
    "e_matrix = np.random.exponential(beta_vec.T, size=(N,1,J))[:,0,:]\n",
    "\n",
    "# demand function - as before but with matrices\n",
    "def demand_goods(e_matrix,alphas,p_vec):\n",
    "    I = e_matrix@p_vec\n",
    "    return (alphas/np.sum(alphas,axis=1)[:,np.newaxis]) * (I[:,np.newaxis]/p_vec)\n",
    "\n",
    "\n",
    "supply_vec = np.sum(e_matrix,axis=0)\n",
    "\n",
    "# calculate excess demand\n",
    "def excess_demands(e_matrix,alphas,p_vec,supply_vec=supply_vec):\n",
    "    total_demand = np.sum(demand_goods(e_matrix,alphas,p_vec), axis=0)\n",
    "    return total_demand-supply_vec\n",
    "\n",
    "def find_equilibrium(e_matrix,alphas,p_guess,kappa=0.5,eps=1e-8,maxiter=500):\n",
    "    \n",
    "    # Guess \n",
    "    p = p_guess\n",
    "    t = 0\n",
    "    \n",
    "    # Calculate supply - Instead of one sum we now need a vector of sums\n",
    "    supply_vec = np.sum(e_matrix,axis=0)\n",
    "    \n",
    "    while True: # same as before\n",
    "\n",
    "        # a. step 1: excess demand\n",
    "        Z = excess_demands(e_matrix,alphas,p)\n",
    "        \n",
    "        # b: step 2: stop?\n",
    "        if  np.all(np.abs(Z[:-1]) < eps) or t >= maxiter:\n",
    "            \n",
    "            print(f'{t:3d}: p = {p} -> excess demand -> {Z}')\n",
    "            break    \n",
    "    \n",
    "        # c. step 3: update p, by adjusting for excess demand for each good, plus adjusting for the last good\n",
    "        p = p + kappa*Z/alphas[:,0].size - kappa*Z[-1]/alphas.size\n",
    "        \n",
    "        # Normalize list p to 1\n",
    "        p[-1]=1\n",
    "        \n",
    "        # d. step 4: return \n",
    "        #if t < 5 or t%25 == 0:\n",
    "            #print(f'{t:3d}: p = {p} -> excess demand -> {Z}')\n",
    "        #elif t == 5:\n",
    "            #print('   ...')\n",
    "            \n",
    "        t += 1    \n",
    "\n",
    "    return p\n",
    "\n",
    "# f. call find equilibrium function\n",
    "p_optimal = find_equilibrium(e_matrix,alphas,p_guess)"
   ]
  }
 ],
 "metadata": {
  "kernelspec": {
   "display_name": "Python 3",
   "language": "python",
   "name": "python3"
  },
  "language_info": {
   "codemirror_mode": {
    "name": "ipython",
    "version": 3
   },
   "file_extension": ".py",
   "mimetype": "text/x-python",
   "name": "python",
   "nbconvert_exporter": "python",
   "pygments_lexer": "ipython3",
   "version": "3.8.5"
  },
  "toc-autonumbering": true
 },
 "nbformat": 4,
 "nbformat_minor": 4
}
