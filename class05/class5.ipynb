{
 "cells": [
  {
   "cell_type": "markdown",
   "id": "warming-forwarding",
   "metadata": {
    "slideshow": {
     "slide_type": "slide"
    }
   },
   "source": [
    "<img src=\"ku_logo_uk_v.png\" alt=\"drawing\" width=\"130\" style=\"float:right\"/>\n",
    "\n",
    "#  <p style=\"text-align: center;\"><span style=\"color:#2c061f\"> Class 5, Problem Set 1 </span></p>\n",
    "\n",
    "<br>\n",
    "\n",
    "## <span style=\"color:#374045\"> Introduction to Programming and Numerical Analysis </span>\n"
   ]
  },
  {
   "cell_type": "markdown",
   "id": "pleased-hostel",
   "metadata": {
    "slideshow": {
     "slide_type": "slide"
    }
   },
   "source": [
    "<img src=\"ku_logo_uk_v.png\" alt=\"drawing\" width=\"130\" style=\"float:right\"/>\n",
    "\n",
    "## <p style=\"text-align: center;\"> Plan for today </p>\n",
    "<br>\n",
    "\n",
    "1. Where are we in the course?\n",
    "2. Brush up on important concepts/syntax\n",
    "    * Interactive figures\n",
    "    * Solving an exchange model\n",
    "3. GitHub team repo\n",
    "4. Work on PS2"
   ]
  },
  {
   "cell_type": "markdown",
   "id": "7f887ee5",
   "metadata": {
    "slideshow": {
     "slide_type": "slide"
    }
   },
   "source": [
    "<img src=\"ku_logo_uk_v.png\" alt=\"drawing\" width=\"130\" style=\"float:right\"/>\n",
    "\n",
    "## <p style=\"text-align: center;\"> Where are we</p>\n",
    "<br>\n",
    "\n",
    "...\n",
    "\n",
    "3. DataCamp\n",
    "4. PS1\n",
    "5. **PS2**\n",
    "6. Work on your inaugural project - come prepared\n",
    "\n",
    "..."
   ]
  },
  {
   "cell_type": "markdown",
   "id": "hollow-bleeding",
   "metadata": {
    "slideshow": {
     "slide_type": "slide"
    }
   },
   "source": [
    "<img src=\"ku_logo_uk_v.png\" alt=\"drawing\" width=\"130\" style=\"float:right\"/>\n",
    "\n",
    "## <p style=\"text-align: center;\"> Interactive figures</p>\n",
    "\n",
    "<br>\n",
    "\n",
    "1. Create function that creates a plot\n",
    "2. Use ipywidget: `widget.interact(function, argument1, argument2, ..., arguementN)`\n"
   ]
  },
  {
   "cell_type": "code",
   "execution_count": 1,
   "id": "38542444",
   "metadata": {
    "slideshow": {
     "slide_type": "fragment"
    }
   },
   "outputs": [],
   "source": [
    "import ipywidgets as widgets\n",
    "import matplotlib.pyplot as plt\n",
    "import numpy as np\n",
    "import OLG_trans as OLG"
   ]
  },
  {
   "cell_type": "code",
   "execution_count": 3,
   "id": "pressed-breed",
   "metadata": {
    "slideshow": {
     "slide_type": "slide"
    }
   },
   "outputs": [],
   "source": [
    "# 1. Create function that creates a plot\n",
    "def fig(rho):\n",
    "    \"\"\"\n",
    "    Args:\n",
    "        rho(float): Timepreference parameter\n",
    "    Returns:\n",
    "        Plot of OLG transition curve\n",
    "    \"\"\"\n",
    "    # parameters\n",
    "    alpha = 1/3\n",
    "    rho = rho\n",
    "    n = 0.2\n",
    "    \n",
    "    # return values to be plotted\n",
    "    k_1, k_2 = OLG.transition_curve(alpha,rho,n,T=1000,k_min=1e-20,k_max=6)\n",
    "    \n",
    "    fig = plt.figure(figsize=(9,9))\n",
    "    ax = fig.add_subplot(1,1,1)\n",
    "    ax.plot(k_1,k_2, label=\"Transition curve\")\n",
    "    ax.plot(k_1,k_1, '--', color='grey',label=\"45 degree\")\n",
    "    ax.set_xlabel('$k_t$')\n",
    "    ax.set_ylabel('$k_t+1$')\n",
    "    ax.set_title('Transition curve')\n",
    "    ax.legend()\n",
    "    ax.set_xlim([0,0.2])\n",
    "    ax.set_ylim([0,0.2]);\n",
    "    return"
   ]
  },
  {
   "cell_type": "code",
   "execution_count": 4,
   "id": "0c56b4a5",
   "metadata": {
    "slideshow": {
     "slide_type": "slide"
    }
   },
   "outputs": [
    {
     "data": {
      "application/vnd.jupyter.widget-view+json": {
       "model_id": "c61bfa8abaac4da2b0b264aa14cc4860",
       "version_major": 2,
       "version_minor": 0
      },
      "text/plain": [
       "interactive(children=(FloatSlider(value=0.5, description='rho', max=16.0, step=0.01), Output()), _dom_classes=…"
      ]
     },
     "metadata": {},
     "output_type": "display_data"
    },
    {
     "data": {
      "text/plain": [
       "<function __main__.fig(rho)>"
      ]
     },
     "execution_count": 4,
     "metadata": {},
     "output_type": "execute_result"
    }
   ],
   "source": [
    "# 2. Use ipywidget\n",
    "import ipywidgets as widgets\n",
    "widgets.interact(fig\n",
    "                 , rho = widgets.FloatSlider(description='rho', min=0, max=16, step=0.01, value=0.5))"
   ]
  },
  {
   "cell_type": "markdown",
   "id": "careful-touch",
   "metadata": {
    "slideshow": {
     "slide_type": "slide"
    }
   },
   "source": [
    "<img src=\"ku_logo_uk_v.png\" alt=\"drawing\" width=\"130\" style=\"float:right\"/>\n",
    "\n",
    "## <p style=\"text-align: center;\"> Customize your plot</p>\n",
    "- `IntSlider` discrete version of `FloatSlider`\n",
    "- `Dropdown` creates a dropdown menu of things to choose from\n",
    "- ... And so on...\n",
    "\n",
    "**NB: Check documentation**"
   ]
  },
  {
   "cell_type": "markdown",
   "id": "computational-harvest",
   "metadata": {
    "slideshow": {
     "slide_type": "slide"
    }
   },
   "source": [
    "<img src=\"ku_logo_uk_v.png\" alt=\"drawing\" width=\"130\" style=\"float:right\"/>\n",
    "\n",
    "## <p style=\"text-align: center;\"> Solving an exchange model</p>\n",
    "\n",
    "<br>\n",
    "\n",
    "**Intiution:** Solving for the equilibirum in an exchange model we utilize Walras' law i.e., excess demand must be zero in equilibrium for given prices. Thus, we construct and infinite loop that iterate over prices until excess demand is close to zero (0.00000001).\n",
    "\n",
    "Pseudo code:\n",
    "\n",
    "1) Calculate excess demand for given price\n",
    "\n",
    "2) Check if the excess demand is approximately zero\n",
    "\n",
    "3) If true terminate else update price\n",
    "\n",
    "4) Continue until excess demand is zero"
   ]
  },
  {
   "cell_type": "markdown",
   "id": "543f6c8e",
   "metadata": {
    "slideshow": {
     "slide_type": "slide"
    }
   },
   "source": [
    "<img src=\"ku_logo_uk_v.png\" alt=\"drawing\" width=\"130\" style=\"float:right\"/>\n",
    "\n",
    "## <p style=\"text-align: center;\"> GitHub team repo</p>\n",
    "\n",
    "<br>\n",
    "\n",
    "* Each team must have a repo that has been created trough this [link](https://numeconcopenhagen.netlify.app/guides/make-repo/)\n",
    "* **One** member creates the repo and invites the other"
   ]
  }
 ],
 "metadata": {
  "celltoolbar": "Slideshow",
  "kernelspec": {
   "display_name": "Python 3",
   "language": "python",
   "name": "python3"
  },
  "language_info": {
   "codemirror_mode": {
    "name": "ipython",
    "version": 3
   },
   "file_extension": ".py",
   "mimetype": "text/x-python",
   "name": "python",
   "nbconvert_exporter": "python",
   "pygments_lexer": "ipython3",
   "version": "3.8.5"
  }
 },
 "nbformat": 4,
 "nbformat_minor": 5
}
