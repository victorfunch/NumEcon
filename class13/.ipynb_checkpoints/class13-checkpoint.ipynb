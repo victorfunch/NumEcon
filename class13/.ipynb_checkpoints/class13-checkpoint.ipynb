{
 "cells": [
  {
   "cell_type": "markdown",
   "id": "warming-forwarding",
   "metadata": {
    "slideshow": {
     "slide_type": "slide"
    }
   },
   "source": [
    "<img src=\"ku_logo_uk_v.png\" alt=\"drawing\" width=\"130\" style=\"float:right\"/>\n",
    "\n",
    "#  <p style=\"text-align: center;\"><span style=\"color:#2c061f\"> Class 13, Model project </span></p>\n",
    "\n",
    "<br>\n",
    "\n",
    "## <span style=\"color:#374045\"> Introduction to Programming and Numerical Analysis </span>\n"
   ]
  },
  {
   "cell_type": "markdown",
   "id": "forty-recycling",
   "metadata": {
    "slideshow": {
     "slide_type": "slide"
    }
   },
   "source": [
    "<img src=\"ku_logo_uk_v.png\" alt=\"drawing\" width=\"130\" style=\"float:right\"/>\n",
    "\n",
    "## <p style=\"text-align: center;\"> Plan for today </p>\n",
    "<br>\n",
    "\n",
    "1. Model project\n",
    "2. (Problem Set 7)"
   ]
  },
  {
   "cell_type": "markdown",
   "id": "rural-apartment",
   "metadata": {
    "slideshow": {
     "slide_type": "slide"
    }
   },
   "source": [
    "<img src=\"ku_logo_uk_v.png\" alt=\"drawing\" width=\"130\" style=\"float:right\"/>\n",
    "\n",
    "## <p style=\"text-align: center;\"> Model project </p>\n",
    "<br>\n",
    "\n",
    "* Remember:\n",
    "    * Explanatory markdown\n",
    "    * Docstrings and comments\n",
    "    * Don't repeat yourselves\n",
    "    * Thoughtful plotting\n",
    "    * **RESTART KERNEL AND RUN ALL CELLS**"
   ]
  },
  {
   "cell_type": "markdown",
   "id": "surprising-requirement",
   "metadata": {
    "slideshow": {
     "slide_type": "slide"
    }
   },
   "source": [
    "<img src=\"ku_logo_uk_v.png\" alt=\"drawing\" width=\"130\" style=\"float:right\"/>\n",
    "\n",
    "## <p style=\"text-align: center;\"> Model project </p>\n",
    "<br>\n",
    "\n",
    "Four requirements:\n",
    "1. Describe an algorithm on how to solve a simple economic model (L09, L10)\n",
    "    * How is it done?\n",
    "2. Solve (and perhaps simulate) a simple economic model.\n",
    "    * Apply the tools you have learned (SciPy, linalg etc.)\n",
    "3. Visualize how the solution changes across parametrizations. This is an important task.\n",
    "    * E.g. interactive plotting where you change a key parameter\n",
    "4. Analyze one or more extensions of the baseline model.\n",
    "    * E.g. expanding OLG with a pension system, from a closed to an open economy etc."
   ]
  },
  {
   "cell_type": "markdown",
   "id": "stunning-choir",
   "metadata": {
    "slideshow": {
     "slide_type": "slide"
    }
   },
   "source": [
    "<img src=\"ku_logo_uk_v.png\" alt=\"drawing\" width=\"130\" style=\"float:right\"/>\n",
    "\n",
    "## <p style=\"text-align: center;\"> Problem Set 7</p>\n",
    "<br>\n",
    "\n",
    "Consumer problem with income risk I\n",
    "* Diffcult problem\n",
    "* 99% sure that you will get something similar at the exam (2020, 2021)"
   ]
  }
 ],
 "metadata": {
  "celltoolbar": "Slideshow",
  "kernelspec": {
   "display_name": "Python 3",
   "language": "python",
   "name": "python3"
  },
  "language_info": {
   "codemirror_mode": {
    "name": "ipython",
    "version": 3
   },
   "file_extension": ".py",
   "mimetype": "text/x-python",
   "name": "python",
   "nbconvert_exporter": "python",
   "pygments_lexer": "ipython3",
   "version": "3.8.5"
  }
 },
 "nbformat": 4,
 "nbformat_minor": 5
}
